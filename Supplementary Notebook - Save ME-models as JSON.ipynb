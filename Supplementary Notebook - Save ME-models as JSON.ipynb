{
 "cells": [
  {
   "cell_type": "markdown",
   "id": "ce318d1e-16bd-4b2b-b696-9764f3e71e54",
   "metadata": {},
   "source": [
    "# Save ME-models as JSON"
   ]
  },
  {
   "cell_type": "markdown",
   "id": "6d6faad9-c977-4a9a-9211-e2f7a6ef4329",
   "metadata": {},
   "source": [
    "## Setup environment"
   ]
  },
  {
   "cell_type": "code",
   "execution_count": 1,
   "id": "88259670-cc2a-4bce-88a8-7aa820a24c3b",
   "metadata": {
    "ExecuteTime": {
     "end_time": "2022-12-12T06:27:36.177441Z",
     "start_time": "2022-12-12T06:27:35.183790Z"
    }
   },
   "outputs": [],
   "source": [
    "import coralme\n",
    "from coralme.builder.helper_functions import *\n",
    "import pickle\n",
    "import pandas\n",
    "import os\n",
    "import tqdm\n",
    "import json\n",
    "import matplotlib.pyplot as plt\n",
    "import numpy as np\n",
    "import sympy\n",
    "pandas.set_option('display.max_colwidth', None)\n",
    "plt.rcParams['svg.fonttype'] = 'none'"
   ]
  },
  {
   "cell_type": "markdown",
   "id": "25083b78-f830-4fac-869e-0ee60efb3c25",
   "metadata": {},
   "source": [
    "## Load a ME-model"
   ]
  },
  {
   "cell_type": "code",
   "execution_count": 2,
   "id": "0ca42e2d-5584-4f4a-93cf-baa6bd6cd7f3",
   "metadata": {},
   "outputs": [],
   "source": [
    "def load_me(filename='me_model.pickle'):\n",
    "    with open(filename, \"rb\") as f:\n",
    "        return pickle.load(f)"
   ]
  },
  {
   "cell_type": "markdown",
   "id": "8ef16e2f-6b53-4aa0-a29b-008994f17e3e",
   "metadata": {},
   "source": [
    "## Get organism directories in path"
   ]
  },
  {
   "cell_type": "code",
   "execution_count": 3,
   "id": "adee78b7-9eea-483f-baab-3b63c4761d4b",
   "metadata": {},
   "outputs": [],
   "source": [
    "def get_org_dirs(directory):\n",
    "    return [i for i in os.listdir(directory) \\\n",
    "            if os.path.isdir(directory+i) and '.' not in i and '_' not in i]"
   ]
  },
  {
   "cell_type": "markdown",
   "id": "a0baf17b-2782-4684-91c5-a3230b6649e2",
   "metadata": {},
   "source": [
    "## Save as JSON"
   ]
  },
  {
   "cell_type": "code",
   "execution_count": 4,
   "id": "13b3889e-d879-41af-ab94-bc64848db838",
   "metadata": {},
   "outputs": [],
   "source": [
    "def save(path):\n",
    "    model = load_me(path + \".pkl\")\n",
    "    coralme.io.json.save_json_me_model(model,path + \".json\")"
   ]
  },
  {
   "cell_type": "markdown",
   "id": "13531f70-5873-4a95-af67-17bb35a73dfe",
   "metadata": {},
   "source": [
    "## Save dME-models"
   ]
  },
  {
   "cell_type": "code",
   "execution_count": null,
   "id": "cabe28a3-deea-465f-9275-42d5da1149c9",
   "metadata": {},
   "outputs": [],
   "source": [
    "directory=\"./clean/\""
   ]
  },
  {
   "cell_type": "code",
   "execution_count": null,
   "id": "8e85d628-6ff1-4cd1-9af9-f893eef21a0a",
   "metadata": {
    "scrolled": true
   },
   "outputs": [],
   "source": [
    "dirs = get_org_dirs(directory)\n",
    "for d in tqdm.tqdm(dirs):\n",
    "    save(\"./{}/{}/MEModel-step1-{}\".format(directory,d,d))\n",
    "    save(\"./{}/{}/MEModel-step2-{}\".format(directory,d,d))\n",
    "    save(\"./{}/{}/MEModel-step3-{}-TS\".format(directory,d,d))"
   ]
  },
  {
   "cell_type": "markdown",
   "id": "361f1adc-e506-46bb-b45a-cc2093e4be9d",
   "metadata": {},
   "source": [
    "## Save uME-models"
   ]
  },
  {
   "cell_type": "code",
   "execution_count": 5,
   "id": "e4718bef-ed9b-472b-b548-9e1c5e6c2d2c",
   "metadata": {},
   "outputs": [],
   "source": [
    "directory=\"./published/\""
   ]
  },
  {
   "cell_type": "code",
   "execution_count": 7,
   "id": "2a99095a-5d7b-4a29-91a2-24ae3c64ea42",
   "metadata": {
    "scrolled": true
   },
   "outputs": [
    {
     "name": "stderr",
     "output_type": "stream",
     "text": [
      "  0%|          | 0/1 [00:00<?, ?it/s]"
     ]
    },
    {
     "name": "stdout",
     "output_type": "stream",
     "text": [
      "Set parameter Username\n",
      "Academic license - for non-commercial use only - expires 2024-08-16\n",
      "Read LP format model from file /tmp/tmpzizc9nw4.lp\n",
      "Reading time = 0.00 seconds\n",
      ": 0 rows, 0 columns, 0 nonzeros\n",
      "Read LP format model from file /tmp/tmp3b55csly.lp\n",
      "Reading time = 0.00 seconds\n",
      ": 998 rows, 2524 columns, 10562 nonzeros\n",
      "Read LP format model from file /tmp/tmpfn5_oou9.lp\n",
      "Reading time = 0.00 seconds\n",
      ": 1088 rows, 2554 columns, 10544 nonzeros\n"
     ]
    },
    {
     "name": "stderr",
     "output_type": "stream",
     "text": [
      "2024-02-27 11:42:44,194 The metabolite 'pg160_p' must exist in the ME-model to calculate the element contribution.\n",
      "2024-02-27 11:42:44,194 The metabolite '2agpg160_p' must exist in the ME-model to calculate the element contribution.\n",
      "2024-02-27 11:42:44,195 The metabolite 'pe160_p' must exist in the ME-model to calculate the element contribution.\n",
      "2024-02-27 11:42:44,195 The metabolite '2agpe160_p' must exist in the ME-model to calculate the element contribution.\n",
      "2024-02-27 11:42:44,967 The metabolite '4fe4s_c' must exist in the ME-model to calculate the element contribution.\n",
      "2024-02-27 11:42:44,968 The metabolite '4fe4s_c' must exist in the ME-model to calculate the element contribution.\n",
      "2024-02-27 11:42:44,968 The metabolite 'lipoyl_c' must exist in the ME-model to calculate the element contribution.\n",
      "2024-02-27 11:42:44,969 The metabolite 'lipoyl_c' must exist in the ME-model to calculate the element contribution.\n",
      "2024-02-27 11:42:44,969 Metabolite '2fe2s_c' does not have a formula. If it is a 'Complex', its formula will be determined from amino acid composition and prosthetic groups. Otherwise, please set a formula in the M-model or in the metabolites.txt input file.\n",
      "2024-02-27 11:42:44,969 Metabolite '2fe2s_c' does not have a formula. If it is a 'Complex', its formula will be determined from amino acid composition and prosthetic groups. Otherwise, please set a formula in the M-model or in the metabolites.txt input file.\n",
      "2024-02-27 11:42:44,969 The metabolite 'hemed_c' must exist in the ME-model to calculate the element contribution.\n",
      "2024-02-27 11:42:44,970 The metabolite 'hemed_c' must exist in the ME-model to calculate the element contribution.\n",
      "2024-02-27 11:42:44,970 The metabolite 'fmnh2_c' must exist in the ME-model to calculate the element contribution.\n",
      "2024-02-27 11:42:44,970 The metabolite 'fmnh2_c' must exist in the ME-model to calculate the element contribution.\n",
      "2024-02-27 11:42:44,971 The metabolite 'tl_c' must exist in the ME-model to calculate the element contribution.\n",
      "2024-02-27 11:42:44,971 The metabolite 'tl_c' must exist in the ME-model to calculate the element contribution.\n",
      "2024-02-27 11:42:44,971 The metabolite 'cs_c' must exist in the ME-model to calculate the element contribution.\n",
      "2024-02-27 11:42:44,971 The metabolite 'cs_c' must exist in the ME-model to calculate the element contribution.\n",
      "2024-02-27 11:42:44,972 The metabolite 'adocbl_c' must exist in the ME-model to calculate the element contribution.\n",
      "2024-02-27 11:42:44,972 The metabolite 'adocbl_c' must exist in the ME-model to calculate the element contribution.\n",
      "2024-02-27 11:42:44,972 The metabolite 'coo_c' must exist in the ME-model to calculate the element contribution.\n",
      "2024-02-27 11:42:44,973 The metabolite 'coo_c' must exist in the ME-model to calculate the element contribution.\n",
      "2024-02-27 11:42:44,973 The metabolite 'cosh_c' must exist in the ME-model to calculate the element contribution.\n",
      "2024-02-27 11:42:44,973 The metabolite 'cosh_c' must exist in the ME-model to calculate the element contribution.\n",
      "2024-02-27 11:42:44,973 The metabolite 'lipo_c' must exist in the ME-model to calculate the element contribution.\n",
      "2024-02-27 11:42:44,974 The metabolite 'lipo_c' must exist in the ME-model to calculate the element contribution.\n",
      "2024-02-27 11:42:44,974 The metabolite 'li_c' must exist in the ME-model to calculate the element contribution.\n",
      "2024-02-27 11:42:44,974 The metabolite 'li_c' must exist in the ME-model to calculate the element contribution.\n",
      "2024-02-27 11:42:44,974 The metabolite 'cl_c' must exist in the ME-model to calculate the element contribution.\n",
      "2024-02-27 11:42:44,975 The metabolite 'cl_c' must exist in the ME-model to calculate the element contribution.\n",
      "2024-02-27 11:42:44,975 The metabolite 'bmocogdp_c' must exist in the ME-model to calculate the element contribution.\n",
      "2024-02-27 11:42:44,975 The metabolite 'bmocogdp_c' must exist in the ME-model to calculate the element contribution.\n",
      "2024-02-27 11:42:44,975 The metabolite '3fe4s_c' must exist in the ME-model to calculate the element contribution.\n",
      "2024-02-27 11:42:44,976 The metabolite '3fe4s_c' must exist in the ME-model to calculate the element contribution.\n"
     ]
    },
    {
     "name": "stdout",
     "output_type": "stream",
     "text": [
      "Read LP format model from file /tmp/tmp0akq9s8q.lp\n",
      "Reading time = 0.00 seconds\n",
      ": 0 rows, 0 columns, 0 nonzeros\n",
      "Read LP format model from file /tmp/tmpd8cg57q8.lp\n",
      "Reading time = 0.00 seconds\n",
      ": 998 rows, 2524 columns, 10562 nonzeros\n",
      "Read LP format model from file /tmp/tmpmincf47_.lp\n",
      "Reading time = 0.00 seconds\n",
      ": 1088 rows, 2554 columns, 10544 nonzeros\n"
     ]
    },
    {
     "name": "stderr",
     "output_type": "stream",
     "text": [
      "2024-02-27 11:42:56,145 The metabolite 'pg160_p' must exist in the ME-model to calculate the element contribution.\n",
      "2024-02-27 11:42:56,146 The metabolite '2agpg160_p' must exist in the ME-model to calculate the element contribution.\n",
      "2024-02-27 11:42:56,146 The metabolite 'pe160_p' must exist in the ME-model to calculate the element contribution.\n",
      "2024-02-27 11:42:56,146 The metabolite '2agpe160_p' must exist in the ME-model to calculate the element contribution.\n",
      "2024-02-27 11:42:56,556 Metabolite '4fe4s_c' does not have a formula. If it is a 'Complex', its formula will be determined from amino acid composition and prosthetic groups. Otherwise, please set a formula in the M-model or in the metabolites.txt input file.\n",
      "2024-02-27 11:42:56,556 Metabolite '4fe4s_c' does not have a formula. If it is a 'Complex', its formula will be determined from amino acid composition and prosthetic groups. Otherwise, please set a formula in the M-model or in the metabolites.txt input file.\n",
      "2024-02-27 11:42:56,556 Metabolite 'lipoyl_c' does not have a formula. If it is a 'Complex', its formula will be determined from amino acid composition and prosthetic groups. Otherwise, please set a formula in the M-model or in the metabolites.txt input file.\n",
      "2024-02-27 11:42:56,557 Metabolite 'lipoyl_c' does not have a formula. If it is a 'Complex', its formula will be determined from amino acid composition and prosthetic groups. Otherwise, please set a formula in the M-model or in the metabolites.txt input file.\n",
      "2024-02-27 11:42:56,557 Metabolite '2fe2s_c' does not have a formula. If it is a 'Complex', its formula will be determined from amino acid composition and prosthetic groups. Otherwise, please set a formula in the M-model or in the metabolites.txt input file.\n",
      "2024-02-27 11:42:56,557 Metabolite '2fe2s_c' does not have a formula. If it is a 'Complex', its formula will be determined from amino acid composition and prosthetic groups. Otherwise, please set a formula in the M-model or in the metabolites.txt input file.\n",
      "2024-02-27 11:42:56,557 Metabolite 'hemed_c' does not have a formula. If it is a 'Complex', its formula will be determined from amino acid composition and prosthetic groups. Otherwise, please set a formula in the M-model or in the metabolites.txt input file.\n",
      "2024-02-27 11:42:56,558 Metabolite 'hemed_c' does not have a formula. If it is a 'Complex', its formula will be determined from amino acid composition and prosthetic groups. Otherwise, please set a formula in the M-model or in the metabolites.txt input file.\n",
      "2024-02-27 11:42:56,558 Metabolite 'fmnh2_c' does not have a formula. If it is a 'Complex', its formula will be determined from amino acid composition and prosthetic groups. Otherwise, please set a formula in the M-model or in the metabolites.txt input file.\n",
      "2024-02-27 11:42:56,558 Metabolite 'fmnh2_c' does not have a formula. If it is a 'Complex', its formula will be determined from amino acid composition and prosthetic groups. Otherwise, please set a formula in the M-model or in the metabolites.txt input file.\n",
      "2024-02-27 11:42:56,559 Metabolite 'tl_c' does not have a formula. If it is a 'Complex', its formula will be determined from amino acid composition and prosthetic groups. Otherwise, please set a formula in the M-model or in the metabolites.txt input file.\n",
      "2024-02-27 11:42:56,559 Metabolite 'tl_c' does not have a formula. If it is a 'Complex', its formula will be determined from amino acid composition and prosthetic groups. Otherwise, please set a formula in the M-model or in the metabolites.txt input file.\n",
      "2024-02-27 11:42:56,559 Metabolite 'cs_c' does not have a formula. If it is a 'Complex', its formula will be determined from amino acid composition and prosthetic groups. Otherwise, please set a formula in the M-model or in the metabolites.txt input file.\n",
      "2024-02-27 11:42:56,559 Metabolite 'cs_c' does not have a formula. If it is a 'Complex', its formula will be determined from amino acid composition and prosthetic groups. Otherwise, please set a formula in the M-model or in the metabolites.txt input file.\n",
      "2024-02-27 11:42:56,560 The metabolite 'adocbl_c' must exist in the ME-model to calculate the element contribution.\n",
      "2024-02-27 11:42:56,560 The metabolite 'adocbl_c' must exist in the ME-model to calculate the element contribution.\n",
      "2024-02-27 11:42:56,560 The metabolite 'coo_c' must exist in the ME-model to calculate the element contribution.\n",
      "2024-02-27 11:42:56,560 The metabolite 'coo_c' must exist in the ME-model to calculate the element contribution.\n",
      "2024-02-27 11:42:56,560 The metabolite 'cosh_c' must exist in the ME-model to calculate the element contribution.\n",
      "2024-02-27 11:42:56,561 The metabolite 'cosh_c' must exist in the ME-model to calculate the element contribution.\n",
      "2024-02-27 11:42:56,561 The metabolite 'lipo_c' must exist in the ME-model to calculate the element contribution.\n",
      "2024-02-27 11:42:56,561 The metabolite 'lipo_c' must exist in the ME-model to calculate the element contribution.\n",
      "2024-02-27 11:42:56,561 The metabolite 'li_c' must exist in the ME-model to calculate the element contribution.\n",
      "2024-02-27 11:42:56,561 The metabolite 'li_c' must exist in the ME-model to calculate the element contribution.\n",
      "2024-02-27 11:42:56,561 The metabolite 'cl_c' must exist in the ME-model to calculate the element contribution.\n",
      "2024-02-27 11:42:56,562 The metabolite 'cl_c' must exist in the ME-model to calculate the element contribution.\n",
      "2024-02-27 11:42:56,562 The metabolite 'bmocogdp_c' must exist in the ME-model to calculate the element contribution.\n",
      "2024-02-27 11:42:56,562 The metabolite 'bmocogdp_c' must exist in the ME-model to calculate the element contribution.\n"
     ]
    },
    {
     "name": "stdout",
     "output_type": "stream",
     "text": [
      "Read LP format model from file /tmp/tmpbt37azoc.lp\n",
      "Reading time = 0.00 seconds\n",
      ": 0 rows, 0 columns, 0 nonzeros\n",
      "Read LP format model from file /tmp/tmplw_48rjg.lp\n",
      "Reading time = 0.00 seconds\n",
      ": 998 rows, 2524 columns, 10562 nonzeros\n",
      "Read LP format model from file /tmp/tmpmw7kajr3.lp\n",
      "Reading time = 0.00 seconds\n",
      ": 1088 rows, 2554 columns, 10544 nonzeros\n"
     ]
    },
    {
     "name": "stderr",
     "output_type": "stream",
     "text": [
      "2024-02-27 11:43:05,413 The metabolite 'pg160_p' must exist in the ME-model to calculate the element contribution.\n",
      "2024-02-27 11:43:05,414 The metabolite '2agpg160_p' must exist in the ME-model to calculate the element contribution.\n",
      "2024-02-27 11:43:05,414 The metabolite 'pe160_p' must exist in the ME-model to calculate the element contribution.\n",
      "2024-02-27 11:43:05,415 The metabolite '2agpe160_p' must exist in the ME-model to calculate the element contribution.\n",
      "2024-02-27 11:43:05,817 Metabolite '4fe4s_c' does not have a formula. If it is a 'Complex', its formula will be determined from amino acid composition and prosthetic groups. Otherwise, please set a formula in the M-model or in the metabolites.txt input file.\n",
      "2024-02-27 11:43:05,817 Metabolite '4fe4s_c' does not have a formula. If it is a 'Complex', its formula will be determined from amino acid composition and prosthetic groups. Otherwise, please set a formula in the M-model or in the metabolites.txt input file.\n",
      "2024-02-27 11:43:05,818 Metabolite 'lipoyl_c' does not have a formula. If it is a 'Complex', its formula will be determined from amino acid composition and prosthetic groups. Otherwise, please set a formula in the M-model or in the metabolites.txt input file.\n",
      "2024-02-27 11:43:05,818 Metabolite 'lipoyl_c' does not have a formula. If it is a 'Complex', its formula will be determined from amino acid composition and prosthetic groups. Otherwise, please set a formula in the M-model or in the metabolites.txt input file.\n",
      "2024-02-27 11:43:05,818 Metabolite '2fe2s_c' does not have a formula. If it is a 'Complex', its formula will be determined from amino acid composition and prosthetic groups. Otherwise, please set a formula in the M-model or in the metabolites.txt input file.\n",
      "2024-02-27 11:43:05,819 Metabolite '2fe2s_c' does not have a formula. If it is a 'Complex', its formula will be determined from amino acid composition and prosthetic groups. Otherwise, please set a formula in the M-model or in the metabolites.txt input file.\n",
      "2024-02-27 11:43:05,819 Metabolite 'hemed_c' does not have a formula. If it is a 'Complex', its formula will be determined from amino acid composition and prosthetic groups. Otherwise, please set a formula in the M-model or in the metabolites.txt input file.\n",
      "2024-02-27 11:43:05,819 Metabolite 'hemed_c' does not have a formula. If it is a 'Complex', its formula will be determined from amino acid composition and prosthetic groups. Otherwise, please set a formula in the M-model or in the metabolites.txt input file.\n",
      "2024-02-27 11:43:05,819 Metabolite 'fmnh2_c' does not have a formula. If it is a 'Complex', its formula will be determined from amino acid composition and prosthetic groups. Otherwise, please set a formula in the M-model or in the metabolites.txt input file.\n",
      "2024-02-27 11:43:05,820 Metabolite 'fmnh2_c' does not have a formula. If it is a 'Complex', its formula will be determined from amino acid composition and prosthetic groups. Otherwise, please set a formula in the M-model or in the metabolites.txt input file.\n",
      "2024-02-27 11:43:05,820 Metabolite 'tl_c' does not have a formula. If it is a 'Complex', its formula will be determined from amino acid composition and prosthetic groups. Otherwise, please set a formula in the M-model or in the metabolites.txt input file.\n",
      "2024-02-27 11:43:05,820 Metabolite 'tl_c' does not have a formula. If it is a 'Complex', its formula will be determined from amino acid composition and prosthetic groups. Otherwise, please set a formula in the M-model or in the metabolites.txt input file.\n",
      "2024-02-27 11:43:05,821 Metabolite 'cs_c' does not have a formula. If it is a 'Complex', its formula will be determined from amino acid composition and prosthetic groups. Otherwise, please set a formula in the M-model or in the metabolites.txt input file.\n",
      "2024-02-27 11:43:05,821 Metabolite 'cs_c' does not have a formula. If it is a 'Complex', its formula will be determined from amino acid composition and prosthetic groups. Otherwise, please set a formula in the M-model or in the metabolites.txt input file.\n",
      "2024-02-27 11:43:05,822 The metabolite 'adocbl_c' must exist in the ME-model to calculate the element contribution.\n",
      "2024-02-27 11:43:05,822 The metabolite 'adocbl_c' must exist in the ME-model to calculate the element contribution.\n",
      "2024-02-27 11:43:05,822 The metabolite 'coo_c' must exist in the ME-model to calculate the element contribution.\n",
      "2024-02-27 11:43:05,822 The metabolite 'coo_c' must exist in the ME-model to calculate the element contribution.\n",
      "2024-02-27 11:43:05,822 The metabolite 'cosh_c' must exist in the ME-model to calculate the element contribution.\n",
      "2024-02-27 11:43:05,823 The metabolite 'cosh_c' must exist in the ME-model to calculate the element contribution.\n",
      "2024-02-27 11:43:05,823 The metabolite 'lipo_c' must exist in the ME-model to calculate the element contribution.\n",
      "2024-02-27 11:43:05,823 The metabolite 'lipo_c' must exist in the ME-model to calculate the element contribution.\n",
      "2024-02-27 11:43:05,823 The metabolite 'li_c' must exist in the ME-model to calculate the element contribution.\n",
      "2024-02-27 11:43:05,824 The metabolite 'li_c' must exist in the ME-model to calculate the element contribution.\n",
      "2024-02-27 11:43:05,824 The metabolite 'cl_c' must exist in the ME-model to calculate the element contribution.\n",
      "2024-02-27 11:43:05,824 The metabolite 'cl_c' must exist in the ME-model to calculate the element contribution.\n",
      "2024-02-27 11:43:05,824 The metabolite 'bmocogdp_c' must exist in the ME-model to calculate the element contribution.\n",
      "2024-02-27 11:43:05,825 The metabolite 'bmocogdp_c' must exist in the ME-model to calculate the element contribution.\n",
      "100%|██████████| 1/1 [00:31<00:00, 31.89s/it]\n"
     ]
    }
   ],
   "source": [
    "dirs = get_org_dirs(directory)\n",
    "for d in tqdm.tqdm(dirs):\n",
    "    save(\"./{}/{}/MEModel-step1-{}\".format(directory,d,d))\n",
    "    save(\"./{}/{}/MEModel-step2-{}\".format(directory,d,d))\n",
    "    save(\"./{}/{}/MEModel-step3-{}-TS\".format(directory,d,d))"
   ]
  },
  {
   "cell_type": "code",
   "execution_count": null,
   "id": "37cabda0-878f-4ecf-bc7c-5d59bb9f11b3",
   "metadata": {},
   "outputs": [],
   "source": [
    "# To compress: find . -maxdepth 3 -name \"MEModel*.json\" -exec gzip {} \\;"
   ]
  }
 ],
 "metadata": {
  "kernelspec": {
   "display_name": "coralme",
   "language": "python",
   "name": "coralme"
  },
  "language_info": {
   "codemirror_mode": {
    "name": "ipython",
    "version": 3
   },
   "file_extension": ".py",
   "mimetype": "text/x-python",
   "name": "python",
   "nbconvert_exporter": "python",
   "pygments_lexer": "ipython3",
   "version": "3.10.12"
  }
 },
 "nbformat": 4,
 "nbformat_minor": 5
}
