{
 "cells": [
  {
   "cell_type": "code",
   "execution_count": 3,
   "id": "d048f35f-6a3b-4642-86cd-49e4c4e4a187",
   "metadata": {
    "ExecuteTime": {
     "end_time": "2022-12-12T06:27:35.182100Z",
     "start_time": "2022-12-12T06:27:35.157355Z"
    }
   },
   "outputs": [
    {
     "data": {
      "text/html": [
       "<style>.container { width:95% !important; }</style>"
      ],
      "text/plain": [
       "<IPython.core.display.HTML object>"
      ]
     },
     "metadata": {},
     "output_type": "display_data"
    }
   ],
   "source": [
    "from IPython.display import display, HTML, Math, Markdown\n",
    "display(HTML(\"<style>.container { width:95% !important; }</style>\"))\n",
    "\n",
    "%load_ext autoreload\n",
    "%autoreload 2"
   ]
  },
  {
   "cell_type": "code",
   "execution_count": 4,
   "id": "88259670-cc2a-4bce-88a8-7aa820a24c3b",
   "metadata": {
    "ExecuteTime": {
     "end_time": "2022-12-12T06:27:36.177441Z",
     "start_time": "2022-12-12T06:27:35.183790Z"
    }
   },
   "outputs": [],
   "source": [
    "from coralme.builder.main import MEBuilder"
   ]
  },
  {
   "cell_type": "code",
   "execution_count": 5,
   "id": "d62ee683-429e-481b-87ea-8758c47886bb",
   "metadata": {},
   "outputs": [],
   "source": [
    "org = 'mmycoides'\n",
    "organism = './{:s}/organism.json'.format(org)\n",
    "inputs = './{:s}/input.json'.format(org)"
   ]
  },
  {
   "cell_type": "markdown",
   "id": "2721e4ea-0ac5-46ef-a508-0096cd3309c3",
   "metadata": {},
   "source": [
    "### Full"
   ]
  },
  {
   "cell_type": "code",
   "execution_count": 4,
   "id": "f83fbefc-c392-496d-9e1e-7820d1b6d60b",
   "metadata": {
    "scrolled": true,
    "tags": []
   },
   "outputs": [
    {
     "name": "stdout",
     "output_type": "stream",
     "text": [
      "Set parameter Username\n",
      "Academic license - for non-commercial use only - expires 2024-08-16\n"
     ]
    }
   ],
   "source": [
    "builder = MEBuilder(*[organism, inputs])\n",
    "builder.configuration['run_bbh_blast'] = False"
   ]
  },
  {
   "cell_type": "code",
   "execution_count": 17,
   "id": "33e8a1a3-3206-4bc9-9407-3c31f5367d29",
   "metadata": {
    "ExecuteTime": {
     "end_time": "2022-12-12T06:30:28.060280Z",
     "start_time": "2022-12-12T06:30:01.706785Z"
    },
    "scrolled": true,
    "tags": []
   },
   "outputs": [
    {
     "name": "stdout",
     "output_type": "stream",
     "text": [
      "Initiating file processing...\n",
      "~ Processing files for tmaritima...\n"
     ]
    },
    {
     "name": "stderr",
     "output_type": "stream",
     "text": [
      "Checking M-model metabolites...                                            : 100.0%|██████████|   571/  571 [00:00<00:00]\n",
      "Checking M-model genes...                                                  : 100.0%|██████████|   482/  482 [00:00<00:00]\n",
      "Checking M-model reactions...                                              : 100.0%|██████████|   652/  652 [00:00<00:00]\n",
      "Syncing optional genes file...                                             : 0.0%|          |     0/    0 [00:00<?]\n",
      "Looking for duplicates within datasets...                                  : 100.0%|██████████|     5/    5 [00:00<00:00]\n",
      "Gathering ID occurrences across datasets...                                : 100.0%|██████████|   652/  652 [00:00<00:00]\n",
      "Solving duplicates across datasets...                                      : 0.0%|          |     0/    0 [00:00<?]\n",
      "Pruning GenBank...                                                         : 100.0%|██████████|     1/    1 [00:00<00:00]\n",
      "Updating Genbank file with optional files...                               : 0.0%|          |     0/    0 [00:00<?]\n",
      "Syncing optional files with genbank contigs...                             : 100.0%|██████████|     1/    1 [00:02<00:00]\n",
      "Modifying metabolic reactions with manual curation...                      : 0.0%|          |     0/    0 [00:00<?]\n",
      "Adding manual curation of complexes...                                     : 0.0%|          |     0/    0 [00:00<?]\n",
      "Getting sigma factors...                                                   : 100.0%|██████████|     4/    4 [00:00<00:00]\n",
      "Getting generics from Genbank contigs...                                   : 100.0%|██████████|     1/    1 [00:00<00:00]\n",
      "Getting TU-gene associations from optional TUs file...                     : 0.0%|          |     0/    0 [00:00<?]\n",
      "Gathering ribosome stoichiometry...                                        : 100.0%|██████████|    56/   56 [00:00<00:00]\n",
      "Adding protein location...                                                 : 100.0%|██████████|  1867/ 1867 [00:00<00:00]\n",
      "Purging M-model genes...                                                   : 100.0%|██████████|   482/  482 [00:00<00:00]\n",
      "Getting enzyme-reaction associations...                                    : 100.0%|██████████|   652/  652 [00:00<00:00]\n"
     ]
    },
    {
     "name": "stdout",
     "output_type": "stream",
     "text": [
      "Reading tmaritima done.\n"
     ]
    },
    {
     "name": "stderr",
     "output_type": "stream",
     "text": [
      "Gathering M-model compartments...                                          : 100.0%|██████████|     2/    2 [00:00<00:00]\n",
      "Fixing compartments in M-model metabolites...                              : 100.0%|██████████|   571/  571 [00:00<00:00]\n",
      "Fixing missing names in M-model reactions...                               : 100.0%|██████████|   652/  652 [00:00<00:00]\n"
     ]
    },
    {
     "name": "stdout",
     "output_type": "stream",
     "text": [
      "~ Processing files for iJL1678b...\n"
     ]
    },
    {
     "name": "stderr",
     "output_type": "stream",
     "text": [
      "Checking M-model metabolites...                                            : 100.0%|██████████|  1660/ 1660 [00:00<00:00]\n",
      "Checking M-model genes...                                                  : 100.0%|██████████|  1271/ 1271 [00:00<00:00]\n",
      "Checking M-model reactions...                                              : 100.0%|██████████|  2377/ 2377 [00:00<00:00]\n",
      "Looking for duplicates within datasets...                                  : 100.0%|██████████|     5/    5 [00:00<00:00]\n",
      "Gathering ID occurrences across datasets...                                : 100.0%|██████████|  8709/ 8709 [00:00<00:00]\n",
      "Solving duplicates across datasets...                                      : 0.0%|          |     0/    0 [00:00<?]\n",
      "Getting sigma factors...                                                   : 100.0%|██████████|     7/    7 [00:00<00:00]\n",
      "Getting TU-gene associations from optional TUs file...                     : 100.0%|██████████|  3697/ 3697 [00:00<00:00]\n",
      "Adding protein location...                                                 : 100.0%|██████████|  1304/ 1304 [00:00<00:00]\n",
      "Purging M-model genes...                                                   : 100.0%|██████████|  1271/ 1271 [00:00<00:00]\n"
     ]
    },
    {
     "name": "stdout",
     "output_type": "stream",
     "text": [
      "Reading iJL1678b done.\n"
     ]
    },
    {
     "name": "stderr",
     "output_type": "stream",
     "text": [
      "Updating translocation machinery from homology...                          : 100.0%|██████████|     9/    9 [00:00<00:00]\n",
      "Updating protein location from homology...                                 : 100.0%|██████████|   870/  870 [00:00<00:00]\n",
      "Updating translocation multipliers from homology...                        : 100.0%|██████████|     3/    3 [00:00<00:00]\n",
      "Updating lipoprotein precursors from homology...                           : 100.0%|██████████|    14/   14 [00:00<00:00]\n",
      "Updating cleaved-methionine proteins from homology...                      : 100.0%|██████████|   343/  343 [00:00<00:00]\n",
      "Mapping M-metabolites to E-metabolites...                                  : 100.0%|██████████|   147/  147 [00:00<00:00]\n",
      "Updating generics from homology...                                         : 100.0%|██████████|    10/   10 [00:00<00:00]\n",
      "Updating folding from homology...                                          : 100.0%|██████████|     2/    2 [00:00<00:00]\n",
      "Updating ribosome subreaction machinery from homology...                   : 100.0%|██████████|     3/    3 [00:00<00:00]\n",
      "Updating tRNA synthetases from homology...                                 : 100.0%|██████████|    20/   20 [00:00<00:00]\n",
      "Updating peptide release factors from homology...                          : 100.0%|██████████|     3/    3 [00:00<00:00]\n",
      "Updating transcription subreactions machinery from homology...             : 100.0%|██████████|     4/    4 [00:00<00:00]\n",
      "Updating translation initiation subreactions from homology...              : 100.0%|██████████|     4/    4 [00:00<00:00]\n",
      "Updating translation elongation subreactions from homology...              : 100.0%|██████████|     2/    2 [00:00<00:00]\n",
      "Updating translation termination subreactions from homology...             : 100.0%|██████████|     9/    9 [00:00<00:00]\n",
      "Updating special tRNA subreactions from homology...                        : 100.0%|██████████|     1/    1 [00:00<00:00]\n",
      "Updating RNA degradosome composition from homology...                      : 100.0%|██████████|     1/    1 [00:00<00:00]\n",
      "Updating excision machinery from homology...                               : 100.0%|██████████|     3/    3 [00:00<00:00]\n",
      "Updating tRNA subreactions from homology...                                : 100.0%|██████████|     6/    6 [00:00<00:00]\n",
      "Updating lipid modification machinery from homology...                     : 100.0%|██████████|     2/    2 [00:00<00:00]\n",
      "Fixing M-model metabolites with homology...                                : 100.0%|██████████|   571/  571 [00:00<00:00]\n",
      "Updating enzyme reaction association...                                    : 100.0%|██████████|   506/  506 [00:00<00:00]\n",
      "Getting tRNA to codon dictionary from NC_000853.1                          : 100.0%|██████████|  1919/ 1919 [00:00<00:00]\n",
      "Checking defined translocation pathways...                                 : 100.0%|██████████|     9/    9 [00:00<00:00]\n",
      "Getting reaction Keffs...                                                  : 100.0%|██████████|   506/  506 [00:00<00:00]\n"
     ]
    },
    {
     "name": "stdout",
     "output_type": "stream",
     "text": [
      "File processing done.\n"
     ]
    }
   ],
   "source": [
    "builder.generate_files(overwrite=True)\n",
    "builder.save_builder_info()"
   ]
  },
  {
   "cell_type": "code",
   "execution_count": 18,
   "id": "df64d444-7726-4ab3-b597-74990636c428",
   "metadata": {
    "ExecuteTime": {
     "end_time": "2022-12-12T06:28:36.607889Z",
     "start_time": "2022-12-12T06:27:59.542579Z"
    },
    "scrolled": true,
    "tags": []
   },
   "outputs": [
    {
     "name": "stdout",
     "output_type": "stream",
     "text": [
      "Initiating ME-model reconstruction...\n"
     ]
    },
    {
     "name": "stderr",
     "output_type": "stream",
     "text": [
      "Adding biomass constraint(s) into the ME-model...                          : 100.0%|██████████|    11/   11 [00:00<00:00]"
     ]
    },
    {
     "name": "stdout",
     "output_type": "stream",
     "text": [
      "Read LP format model from file /tmp/tmpqhu_7fj2.lp\n",
      "Reading time = 0.00 seconds\n",
      ": 571 rows, 1304 columns, 5688 nonzeros\n"
     ]
    },
    {
     "name": "stderr",
     "output_type": "stream",
     "text": [
      "\n",
      "Adding Metabolites from M-model into the ME-model...                       : 100.0%|██████████|   618/  618 [00:00<00:00]\n",
      "Adding Reactions from M-model into the ME-model...                         : 100.0%|██████████|   650/  650 [00:00<00:00]\n",
      "Adding Transcriptional Units into the ME-model...                          : 0.0%|          |     0/    0 [00:00<?]\n",
      "Adding features from contig NC_000853.1 into the ME-model...               : 100.0%|██████████|  1919/ 1919 [00:02<00:00]\n",
      "Updating all TranslationReaction and TranscriptionReaction...              : 100.0%|██████████|  4058/ 4058 [00:02<00:00]\n",
      "Removing SubReactions from ComplexData...                                  : 100.0%|██████████|  2150/ 2150 [00:00<00:00]\n",
      "Adding ComplexFormation into the ME-model...                               : 100.0%|██████████|  2150/ 2150 [00:00<00:00]\n",
      "Adding Generic(s) into the ME-model...                                     : 100.0%|██████████|    12/   12 [00:00<00:00]\n",
      "Processing StoichiometricData in ME-model...                               : 100.0%|██████████|   567/  567 [00:00<00:00]\n"
     ]
    },
    {
     "name": "stdout",
     "output_type": "stream",
     "text": [
      "ME-model was saved in the ./tmaritima/ directory as MEModel-step1-tmaritima.pkl\n"
     ]
    },
    {
     "name": "stderr",
     "output_type": "stream",
     "text": [
      "Adding tRNA synthetase(s) information into the ME-model...                 : 100.0%|██████████|   178/  178 [00:00<00:00]\n",
      "Adding tRNA modification SubReactions...                                   : 0.0%|          |     0/    0 [00:00<?]\n",
      "Associating tRNA modification enzyme(s) to tRNA(s)...                      : 0.0%|          |     0/    0 [00:00<?]\n",
      "Adding SubReactions into TranslationReactions...                           : 100.0%|██████████|  1867/ 1867 [00:00<00:00]\n",
      "Adding RNA Polymerase(s) into the ME-model...                              : 100.0%|██████████|     4/    4 [00:00<00:00]\n",
      "Associating a RNA Polymerase to each Transcriptional Unit...               : 0.0%|          |     0/    0 [00:00<?]\n",
      "Processing ComplexData in ME-model...                                      : 100.0%|██████████|   221/  221 [00:00<00:00]\n",
      "Adding ComplexFormation into the ME-model...                               : 100.0%|██████████|  2162/ 2162 [00:00<00:00]\n",
      "Adding SubReactions into TranslationReactions...                           : 100.0%|██████████|  1867/ 1867 [00:00<00:00]\n",
      "Adding Transcription SubReactions...                                       : 100.0%|██████████|  1919/ 1919 [00:00<00:00]\n",
      "Processing StoichiometricData in SubReactionData...                        : 100.0%|██████████|   132/  132 [00:00<00:00]\n",
      "Adding reaction subsystems from M-model into the ME-model...               : 100.0%|██████████|   650/  650 [00:00<00:00]\n",
      "Processing StoichiometricData in ME-model...                               : 100.0%|██████████|   567/  567 [00:00<00:00]\n",
      "Updating ME-model Reactions...                                             : 100.0%|██████████|  7749/ 7749 [00:28<00:00]\n",
      "Updating all FormationReactions...                                         : 100.0%|██████████|  2162/ 2162 [00:00<00:00]\n",
      "Recalculation of the elemental contribution in SubReactions...             : 100.0%|██████████|   217/  217 [00:00<00:00]\n",
      "Updating all FormationReactions...                                         : 100.0%|██████████|  2162/ 2162 [00:00<00:00]\n",
      "Updating FormationReactions involving a lipoyl prosthetic group...         : 0.0%|          |     0/    0 [00:00<?]\n",
      "Updating FormationReactions involving a glycyl radical...                  : 0.0%|          |     0/    0 [00:00<?]\n",
      "Estimating effective turnover rates for reactions using the SASA method... : 100.0%|██████████|  1498/ 1498 [00:00<00:00]\n",
      "Mapping effective turnover rates from user input...                        : 0.0%|          |     0/    0 [00:00<?]\n",
      "Setting the effective turnover rates using user input...                   : 100.0%|██████████|  1376/ 1376 [00:00<00:00]\n",
      "Pruning unnecessary ComplexData reactions...                               : 100.0%|██████████|  2162/ 2162 [00:01<00:00]\n",
      "Pruning unnecessary FoldedProtein reactions...                             : 0.0%|          |     0/    0 [00:00<?]\n",
      "Pruning unnecessary ProcessedProtein reactions...                          : 100.0%|██████████|  1974/ 1974 [00:00<00:00]\n",
      "Pruning unnecessary TranslatedGene reactions...                            : 100.0%|██████████|  1941/ 1941 [00:00<00:00]\n",
      "Pruning unnecessary TranscribedGene reactions...                           : 100.0%|██████████|  1920/ 1920 [00:00<00:00]\n",
      "Pruning unnecessary Transcriptional Units...                               : 100.0%|██████████|  1918/ 1918 [00:01<00:00]\n",
      "Pruning unnecessary ComplexData reactions...                               : 100.0%|██████████|   578/  578 [00:00<00:00]\n",
      "Pruning unnecessary FoldedProtein reactions...                             : 0.0%|          |     0/    0 [00:00<?]\n",
      "Pruning unnecessary ProcessedProtein reactions...                          : 100.0%|██████████|   660/  660 [00:00<00:00]\n",
      "Pruning unnecessary TranslatedGene reactions...                            : 100.0%|██████████|   660/  660 [00:00<00:00]\n",
      "Pruning unnecessary TranscribedGene reactions...                           : 100.0%|██████████|   636/  636 [00:00<00:00]\n",
      "Pruning unnecessary Transcriptional Units...                               : 100.0%|██████████|   634/  634 [00:00<00:00]\n",
      "Pruning unnecessary ComplexData reactions...                               : 100.0%|██████████|   574/  574 [00:00<00:00]\n",
      "Pruning unnecessary FoldedProtein reactions...                             : 0.0%|          |     0/    0 [00:00<?]\n",
      "Pruning unnecessary ProcessedProtein reactions...                          : 100.0%|██████████|   657/  657 [00:00<00:00]\n",
      "Pruning unnecessary TranslatedGene reactions...                            : 100.0%|██████████|   657/  657 [00:00<00:00]\n",
      "Pruning unnecessary TranscribedGene reactions...                           : 100.0%|██████████|   633/  633 [00:00<00:00]\n",
      "Pruning unnecessary Transcriptional Units...                               : 100.0%|██████████|   631/  631 [00:00<00:00]\n"
     ]
    },
    {
     "name": "stdout",
     "output_type": "stream",
     "text": [
      "ME-model was saved in the ./tmaritima/ directory as MEModel-step2-tmaritima.pkl\n",
      "ME-model reconstruction is done.\n",
      "Number of metabolites in the ME-model is 2577 (+351.31%, from 571)\n",
      "Number of reactions in the ME-model is 4301 (+559.66%, from 652)\n",
      "Number of genes in the ME-model is 631 (+30.91%, from 482)\n"
     ]
    }
   ],
   "source": [
    "builder.build_me_model(overwrite=False)"
   ]
  },
  {
   "cell_type": "code",
   "execution_count": 19,
   "id": "49a10838-9065-402e-a364-0898f5a4d2ad",
   "metadata": {
    "scrolled": true,
    "tags": []
   },
   "outputs": [
    {
     "name": "stdout",
     "output_type": "stream",
     "text": [
      "The MINOS and quad MINOS solvers are a courtesy of Prof Michael A. Saunders. Please cite Ma, D., Yang, L., Fleming, R. et al. Reliable and efficient solution of genome-scale models of Metabolism and macromolecular Expression. Sci Rep 7, 40863 (2017). https://doi.org/10.1038/srep40863\n",
      "\n",
      "~ Troubleshooting started...\n",
      "  Checking if the ME-model can simulate growth without gapfilling reactions...\n",
      "  Original ME-model is not feasible with a tested growth rate of 0.001000 1/h\n",
      "  Step 1. Gapfill reactions to provide components of type 'ME-Deadends' using brute force.\n",
      "          Finding gaps in the ME-model...\n",
      "          Finding gaps from the M-model only...\n",
      "          10 metabolites were identified as deadends.\n",
      "            ca2_c: Missing metabolite in the M-model.\n",
      "            cbl1_c: Missing metabolite in the M-model.\n",
      "            cd2_c: Missing metabolite in the M-model.\n",
      "            cobalt2_c: Missing metabolite in the M-model.\n",
      "            cs_c: Missing metabolite in the M-model.\n",
      "            fe2_c: Missing metabolite in the M-model.\n",
      "            fmnh2_c: Missing metabolite in the M-model.\n",
      "            mn2_c: Missing metabolite in the M-model.\n",
      "            ni2_c: Missing metabolite in the M-model.\n",
      "            tl_c: Missing metabolite in the M-model.\n",
      "          Adding sink reactions for 10 metabolites...\n",
      "          Provided metabolites through sink reactions cannot recover growth. Proceeding to next set of metabolites.\n",
      "  Step 2. Gapfill reactions to provide components of type 'Cofactors' using brute force.\n",
      "          Adding sink reactions for 29 metabolites...\n",
      "          Provided metabolites through sink reactions cannot recover growth. Proceeding to next set of metabolites.\n",
      "  Step 3. Gapfill reactions to provide components of type 'All-Deadends' using brute force.\n",
      "          Finding gaps in the ME-model...\n",
      "          56 metabolites were identified as deadends.\n",
      "            1p3h5c_c: L 1 Pyrroline 3 hydroxy 5 carboxylate C5H6NO3\n",
      "            3php_c: 3-Phosphohydroxypyruvate\n",
      "            3sala_c: 3-Sulfino-L-alanine\n",
      "            3snpyr_c: 3-Sulfinopyruvate\n",
      "            4hpro_LT_c: Trans 4 Hydroxy L proline C5H9NO3\n",
      "            5fthf_c: 5-Formyltetrahydrofolate\n",
      "            5mdr1p_c: 5-Methylthio-5-deoxy-D-ribose 1-phosphate\n",
      "            5mdru1p_c: 5-Methylthio-5-deoxy-D-ribulose 1-phosphate\n",
      "            5mtr_c: 5-Methylthio-D-ribose\n",
      "            6pgg_c: 6-Phospho-beta-D-glucosyl-(1,4)-D-glucose\n",
      "            6pthp_c: 6-Pyruvoyl-5,6,7,8-tetrahydropterin\n",
      "            Largn_c: L-Arogenate\n",
      "            Nforglu_c: N-Formyl-L-glutamate\n",
      "            TM_GL1_c: Thermotoga maritima glycolipid 1\n",
      "            TM_GL2_c: Thermotoga maritima glycolipid 2\n",
      "            acetol_c: Acetol cytosol\n",
      "            acgam_c: N-Acetyl-D-glucosamine\n",
      "            aracheACP_c: Cis-eicosa-11-enoyl-[acyl-carrier protein] (n-C20:1)\n",
      "            asn__L_c: L-Asparagine\n",
      "            beheneACP_c: Dosa-11-enoyl-ACP (n-C20:1)\n",
      "            btamp_c: Biotinyl 5  AMP C20H27N7O9PS\n",
      "            but_c: Butyrate (n-C4:0)\n",
      "            chol_c: Choline C5H14NO\n",
      "            chtbs_c: N,N'-diacetylchitobiose\n",
      "            creat_c: Creatine cytosol\n",
      "            dmosACP_c: 13,14-Dimethyloctacosanedioic acid ACP (C30:0 ACP)\n",
      "            dmtaACP_c: 15,16-Dimethyltriacontanedioic acid ACP (C32:0 ACP)\n",
      "            dtbt_c: Dethiobiotin\n",
      "            e4hglu_c: L erythro 4 Hydroxyglutamate C5H8NO5\n",
      "            etha_c: Ethanolamine\n",
      "            fe3_c: Iron (Fe3+)\n",
      "            g3pc_c: Sn-Glycero-3-phosphocholine\n",
      "            g3pe_c: Sn-Glycero-3-phosphoethanolamine\n",
      "            gal_bD_c: Beta D-Galactose\n",
      "            glcn_c: D-Gluconate\n",
      "            glycogen_c: Glycogen C6H10O5\n",
      "            hpglu_c: Tetrahydropteroyltri L glutamate C24H34N8O12\n",
      "            inost_c: Myo-Inositol\n",
      "            ksi_c: Keratan sulfate I\n",
      "            ksi_deg1_c: Keratan sulfate I, degradation product 1\n",
      "            lgnACP_c: Tetracosanoyl-ACP (n-C24:0)\n",
      "            mercplac_c: 3-Mercaptolactate\n",
      "            mercppyr_c: Mercaptopyruvate\n",
      "            mhpglu_c: 5 Methyltetrahydropteroyltri L glutamate C25H36N8O12\n",
      "            mmcoa__S_c: (S)-Methylmalonyl-CoA\n",
      "            o2_c: O2 O2\n",
      "            ocdcyaACP_c: Octadecynoyl ACP  n C182ACP  C29H51N2O8PRS\n",
      "            octdp_c: All-trans-Octaprenyl diphosphate\n",
      "            pcreat_c: Phosphocreatine\n",
      "            peptido_TM_c: Peptidoglycan subunit of Thermotoga maritima\n",
      "            pgp160_c: Phosphatidylglycerophosphate (dihexadecanoyl, n-C16:0)\n",
      "            ppcoa_c: Propanoyl-CoA\n",
      "            pppi_c: Inorganic triphosphate\n",
      "            s2l2fn2m2masn_c: PA6\n",
      "            s2l2n2m2masn_c: De-Fuc form of PA6\n",
      "            uaaGgtla_c: Undecaprenyl-diphospho-N-acetylmuramoyl-(N-acetylglucosamine)-L-alanyl-D-isoglutaminyl-L-lysyl-D-alanyl-D-alanine\n",
      "          Adding sink reactions for 85 metabolites...\n",
      "            Sink reactions shortlisted to 51 metabolites.\n",
      "             Processed:  1/51, Gaps: 0. The ME-model is feasible if TS_glcn_c is closed.\n",
      "             Processed:  2/51, Gaps: 0. The ME-model is feasible if TS_3snpyr_c is closed.\n",
      "             Processed:  3/51, Gaps: 0. The ME-model is feasible if TS_octdp_c is closed.\n",
      "             Processed:  4/51, Gaps: 0. The ME-model is feasible if TS_hpglu_c is closed.\n",
      "             Processed:  5/51, Gaps: 0. The ME-model is feasible if TS_pppi_c is closed.\n",
      "             Processed:  6/51, Gaps: 0. The ME-model is feasible if TS_5fthf_c is closed.\n",
      "             Processed:  7/51, Gaps: 0. The ME-model is feasible if TS_ocdcyaACP_c is closed.\n",
      "             Processed:  8/51, Gaps: 0. The ME-model is feasible if TS_mercppyr_c is closed.\n",
      "             Processed:  9/51, Gaps: 0. The ME-model is feasible if TS_ksi_c is closed.\n",
      "             Processed: 10/51, Gaps: 0. The ME-model is feasible if TS_beheneACP_c is closed.\n",
      "             Processed: 11/51, Gaps: 0. The ME-model is feasible if TS_e4hglu_c is closed.\n",
      "             Processed: 12/51, Gaps: 0. The ME-model is feasible if TS_6pgg_c is closed.\n",
      "             Processed: 13/51, Gaps: 1. The ME-model is not feasible if TS_asn__L_c is closed.\n",
      "             Processed: 14/51, Gaps: 1. The ME-model is feasible if TS_mhpglu_c is closed.\n",
      "             Processed: 15/51, Gaps: 1. The ME-model is feasible if TS_peptido_TM_c is closed.\n",
      "             Processed: 16/51, Gaps: 1. The ME-model is feasible if TS_pgp160_c is closed.\n",
      "             Processed: 17/51, Gaps: 1. The ME-model is feasible if TS_dmtaACP_c is closed.\n",
      "             Processed: 18/51, Gaps: 1. The ME-model is feasible if TS_6pthp_c is closed.\n",
      "             Processed: 19/51, Gaps: 1. The ME-model is feasible if TS_chol_c is closed.\n",
      "             Processed: 20/51, Gaps: 1. The ME-model is feasible if TS_5mtr_c is closed.\n",
      "             Processed: 21/51, Gaps: 1. The ME-model is feasible if TS_btamp_c is closed.\n",
      "             Processed: 22/51, Gaps: 1. The ME-model is feasible if TS_Largn_c is closed.\n",
      "             Processed: 23/51, Gaps: 1. The ME-model is feasible if TS_ksi_deg1_c is closed.\n",
      "             Processed: 24/51, Gaps: 1. The ME-model is feasible if TS_g3pc_c is closed.\n",
      "             Processed: 25/51, Gaps: 1. The ME-model is feasible if TS_dtbt_c is closed.\n",
      "             Processed: 26/51, Gaps: 1. The ME-model is feasible if TS_Nforglu_c is closed.\n",
      "             Processed: 27/51, Gaps: 1. The ME-model is feasible if TS_uaaGgtla_c is closed.\n",
      "             Processed: 28/51, Gaps: 1. The ME-model is feasible if TS_glycogen_c is closed.\n",
      "             Processed: 29/51, Gaps: 1. The ME-model is feasible if TS_3sala_c is closed.\n",
      "             Processed: 30/51, Gaps: 1. The ME-model is feasible if TS_nadph_c is closed.\n",
      "             Processed: 31/51, Gaps: 1. The ME-model is feasible if TS_lys__L_c is closed.\n",
      "             Processed: 32/51, Gaps: 1. The ME-model is feasible if TS_fad_c is closed.\n",
      "             Processed: 33/51, Gaps: 1. The ME-model is feasible if TS_zn2_c is closed.\n",
      "             Processed: 34/51, Gaps: 1. The ME-model is feasible if TS_fadh2_c is closed.\n",
      "             Processed: 35/51, Gaps: 1. The ME-model is feasible if TS_nh4_c is closed.\n",
      "             Processed: 36/51, Gaps: 1. The ME-model is feasible if TS_nad_c is closed.\n",
      "             Processed: 37/51, Gaps: 1. The ME-model is feasible if TS_2fe2s_c is closed.\n",
      "             Processed: 38/51, Gaps: 1. The ME-model is feasible if TS_pi_c is closed.\n",
      "             Processed: 39/51, Gaps: 1. The ME-model is feasible if TS_mg2_c is closed.\n",
      "             Processed: 40/51, Gaps: 1. The ME-model is feasible if TS_pan4p_c is closed.\n",
      "             Processed: 41/51, Gaps: 1. The ME-model is feasible if TS_nadh_c is closed.\n",
      "             Processed: 42/51, Gaps: 1. The ME-model is feasible if TS_thmpp_c is closed.\n",
      "             Processed: 43/51, Gaps: 1. The ME-model is feasible if TS_k_c is closed.\n",
      "             Processed: 44/51, Gaps: 1. The ME-model is feasible if TS_accoa_c is closed.\n",
      "             Processed: 45/51, Gaps: 2. The ME-model is not feasible if TS_4fe4s_c is closed.\n",
      "             Processed: 46/51, Gaps: 2. The ME-model is feasible if TS_pydx5p_c is closed.\n",
      "             Processed: 47/51, Gaps: 3. The ME-model is not feasible if TS_fe2_c is closed.\n",
      "             Processed: 48/51, Gaps: 3. The ME-model is feasible if TS_cbl1_c is closed.\n",
      "             Processed: 49/51, Gaps: 4. The ME-model is not feasible if TS_cobalt2_c is closed.\n",
      "             Processed: 50/51, Gaps: 5. The ME-model is not feasible if TS_mn2_c is closed.\n",
      "             Processed: 51/51, Gaps: 5. The ME-model is feasible if TS_cd2_c is closed.\n",
      "~ Troubleshooter added the following sinks: TS_fe2_c, TS_cobalt2_c, TS_mn2_c, TS_4fe4s_c, TS_asn__L_c.\n",
      "~ Final step. Fully optimizing with precision 1e-6 and save solution into the ME-model...\n",
      "  Gapfilled ME-model is feasible with growth rate 0.169528 (M-model: 0.228407).\n",
      "ME-model was saved in the ./tmaritima/ directory as MEModel-step3-tmaritima-TS.pkl\n"
     ]
    }
   ],
   "source": [
    "builder.troubleshoot(growth_key_and_value = { builder.me_model.mu : 0.001 })"
   ]
  },
  {
   "cell_type": "markdown",
   "id": "e038350e-6c07-4bf9-9e82-a88c0ee6001c",
   "metadata": {},
   "source": [
    "### Quick"
   ]
  },
  {
   "cell_type": "code",
   "execution_count": 21,
   "id": "e1c65f0c-3528-4357-954f-e4fb8b870901",
   "metadata": {
    "ExecuteTime": {
     "end_time": "2022-12-12T06:30:28.060280Z",
     "start_time": "2022-12-12T06:30:01.706785Z"
    },
    "scrolled": true
   },
   "outputs": [],
   "source": [
    "builder = MEBuilder(*['./{:s}/coralme-config.yaml'.format(org)])"
   ]
  },
  {
   "cell_type": "code",
   "execution_count": null,
   "id": "203989b7-bbd5-4261-8eb5-9cf0436ce366",
   "metadata": {
    "ExecuteTime": {
     "end_time": "2022-12-12T06:28:36.607889Z",
     "start_time": "2022-12-12T06:27:59.542579Z"
    },
    "scrolled": true,
    "tags": []
   },
   "outputs": [],
   "source": [
    "builder.build_me_model(overwrite=False, update=True, prune=True)"
   ]
  },
  {
   "cell_type": "code",
   "execution_count": null,
   "id": "dab0eb6d-2a7e-4d55-8542-32a960aa02b1",
   "metadata": {
    "scrolled": true
   },
   "outputs": [],
   "source": [
    "builder.troubleshoot(growth_key_and_value = { builder.me_model.mu : 0.001 })"
   ]
  },
  {
   "cell_type": "markdown",
   "id": "5feca08a-6277-41e5-8821-4f53d9ceb0df",
   "metadata": {},
   "source": [
    "### Load builder"
   ]
  },
  {
   "cell_type": "code",
   "execution_count": 6,
   "id": "b0d86d92-b978-402c-b16a-439986ea2904",
   "metadata": {
    "ExecuteTime": {
     "end_time": "2022-12-12T06:30:28.060280Z",
     "start_time": "2022-12-12T06:30:01.706785Z"
    },
    "scrolled": true
   },
   "outputs": [
    {
     "name": "stdout",
     "output_type": "stream",
     "text": [
      "Set parameter Username\n",
      "Academic license - for non-commercial use only - expires 2024-08-16\n",
      "Read LP format model from file /tmp/tmpcxso5slv.lp\n",
      "Reading time = 0.00 seconds\n",
      ": 0 rows, 0 columns, 0 nonzeros\n",
      "Read LP format model from file /tmp/tmpor67_lwr.lp\n",
      "Reading time = 0.00 seconds\n",
      ": 303 rows, 636 columns, 2922 nonzeros\n",
      "Read LP format model from file /tmp/tmpxptsh6m9.lp\n",
      "Reading time = 0.00 seconds\n",
      ": 303 rows, 632 columns, 2910 nonzeros\n"
     ]
    }
   ],
   "source": [
    "builder = MEBuilder(*['./{:s}/coralme-config.yaml'.format(org)])\n",
    "builder.me_model = builder.load(builder.configuration['out_directory']+'MEModel-step2-{}.pkl'.format(org))"
   ]
  },
  {
   "cell_type": "code",
   "execution_count": 11,
   "id": "9c8ea69b-b248-444d-abb1-8a65b4973132",
   "metadata": {
    "scrolled": true,
    "tags": []
   },
   "outputs": [
    {
     "name": "stdout",
     "output_type": "stream",
     "text": [
      "The MINOS and quad MINOS solvers are a courtesy of Prof Michael A. Saunders. Please cite Ma, D., Yang, L., Fleming, R. et al. Reliable and efficient solution of genome-scale models of Metabolism and macromolecular Expression. Sci Rep 7, 40863 (2017). https://doi.org/10.1038/srep40863\n",
      "\n",
      "~ Troubleshooting started...\n",
      "  Checking if the ME-model can simulate growth without gapfilling reactions...\n",
      "  Original ME-model is not feasible with a tested growth rate of 0.001000 1/h\n",
      "  Step 1. Gapfill reactions to provide components of type 'ME-Deadends' using brute force.\n",
      "          Finding gaps in the ME-model...\n",
      "          Finding gaps from the M-model only...\n",
      "          16 metabolites were identified as deadends.\n",
      "            DNA_c: DNA\n",
      "            cd2_c: Missing metabolite in the M-model.\n",
      "            clpn_c: cardiolipin\n",
      "            cobalt2_c: Missing metabolite in the M-model.\n",
      "            cs_c: Missing metabolite in the M-model.\n",
      "            dUTPase_c: dUTPase\n",
      "            fe2_c: Missing metabolite in the M-model.\n",
      "            galfur12dgr_c: Gal-DAG\n",
      "            lgltn_c: lipogalactan\n",
      "            mn2_c: Missing metabolite in the M-model.\n",
      "            nh4_c: Missing metabolite in the M-model.\n",
      "            ni2_c: Missing metabolite in the M-model.\n",
      "            pydx5p_c: pyridoxal phosphate\n",
      "            sprm_c: spermine\n",
      "            tl_c: Missing metabolite in the M-model.\n",
      "            zn2_c: Missing metabolite in the M-model.\n",
      "          Adding sink reactions for 16 metabolites...\n",
      "          Provided metabolites through sink reactions cannot recover growth. Proceeding to next set of metabolites.\n",
      "  Step 2. Gapfill reactions to provide components of type 'Cofactors' using brute force.\n",
      "          Adding sink reactions for 25 metabolites...\n",
      "          Provided metabolites through sink reactions cannot recover growth. Proceeding to next set of metabolites.\n",
      "  Step 3. Gapfill reactions to provide components of type 'All-Deadends' using brute force.\n",
      "          Finding gaps in the ME-model...\n",
      "          22 metabolites were identified as deadends.\n",
      "            PdhC_c: PdhC\n",
      "            ala4_c: Tetra-L-alanine\n",
      "            arg4_c: Tetra-L-arginine\n",
      "            asn4_c: Tetra-L-asparagine\n",
      "            asp4_c: Tetra-L-aspartate\n",
      "            cytd_c: Cytidine\n",
      "            gln4_c: Tetra-L-glutamine\n",
      "            glu4_c: Tetra-L-glutamate\n",
      "            gly4_c: Tetra-glycine\n",
      "            his4_c: Tetra-L-histidine\n",
      "            ile4_c: Tetra-L-isoleucine\n",
      "            leu4_c: Tetra-L-leucine\n",
      "            lys4_c: Tetra-L-lysine\n",
      "            met4_c: Tetra-L-methionine\n",
      "            phe4_c: Tetra-L-phenylalanine\n",
      "            pro4_c: Tetra-L-proline\n",
      "            ser4_c: Tetra-L-serine\n",
      "            thr4_c: Tetra-L-threonine\n",
      "            trp4_c: Tetra-L-tryptophan\n",
      "            tyr4_c: Tetra-L-tyrosine\n",
      "            uri_c: Uridine\n",
      "            val4_c: Tetra-L-valine\n",
      "          Adding sink reactions for 47 metabolites...\n",
      "          Provided metabolites through sink reactions cannot recover growth. Proceeding to next set of metabolites.\n",
      "  Step 4. Gapfill reactions to provide components of type 'Metabolite' using brute force.\n",
      "          Adding sink reactions for 105 metabolites...\n",
      "            Sink reactions shortlisted to 77 metabolites.\n",
      "             Processed:  1/77, Gaps: 0. The ME-model is feasible if TS_s7p_c is closed.\n",
      "             Processed:  2/77, Gaps: 0. The ME-model is feasible if TS_2pg_c is closed.\n",
      "             Processed:  3/77, Gaps: 0. The ME-model is feasible if TS_f6p_c is closed.\n",
      "             Processed:  4/77, Gaps: 0. The ME-model is feasible if TS_pap_c is closed.\n",
      "             Processed:  5/77, Gaps: 0. The ME-model is feasible if TS_gam6p_c is closed.\n",
      "             Processed:  6/77, Gaps: 0. The ME-model is feasible if TS_10fthfglu3_c is closed.\n",
      "             Processed:  7/77, Gaps: 0. The ME-model is feasible if TS_g3p_c is closed.\n",
      "             Processed:  8/77, Gaps: 0. The ME-model is feasible if TS_udpgltn_c is closed.\n",
      "             Processed:  9/77, Gaps: 0. The ME-model is feasible if TS_pa_c is closed.\n",
      "             Processed: 10/77, Gaps: 0. The ME-model is feasible if TS_methfglu3_c is closed.\n",
      "             Processed: 11/77, Gaps: 0. The ME-model is feasible if TS_fdp_c is closed.\n",
      "             Processed: 12/77, Gaps: 0. The ME-model is feasible if TS_2dr5p_c is closed.\n",
      "             Processed: 13/77, Gaps: 0. The ME-model is feasible if TS_dhlpl_PdhC_c is closed.\n",
      "             Processed: 14/77, Gaps: 0. The ME-model is feasible if TS_udpgalfur_c is closed.\n",
      "             Processed: 15/77, Gaps: 0. The ME-model is feasible if TS_5fthfglu3_c is closed.\n",
      "             Processed: 16/77, Gaps: 0. The ME-model is feasible if TS_udpg_c is closed.\n",
      "             Processed: 17/77, Gaps: 0. The ME-model is feasible if TS_thfglu3_c is closed.\n",
      "             Processed: 18/77, Gaps: 0. The ME-model is feasible if TS_cdpdag_c is closed.\n",
      "             Processed: 19/77, Gaps: 0. The ME-model is feasible if TS_ru5p__D_c is closed.\n",
      "             Processed: 20/77, Gaps: 0. The ME-model is feasible if TS_dhap_c is closed.\n",
      "             Processed: 21/77, Gaps: 0. The ME-model is feasible if TS_13dpg_c is closed.\n",
      "             Processed: 22/77, Gaps: 0. The ME-model is feasible if TS_pg_c is closed.\n",
      "             Processed: 23/77, Gaps: 0. The ME-model is feasible if TS_glyc3p_c is closed.\n",
      "             Processed: 24/77, Gaps: 0. The ME-model is feasible if TS_g1p_c is closed.\n",
      "             Processed: 25/77, Gaps: 0. The ME-model is feasible if TS_glutrnagln_c is closed.\n",
      "             Processed: 26/77, Gaps: 0. The ME-model is feasible if TS_ACP_R_c is closed.\n",
      "             Processed: 27/77, Gaps: 0. The ME-model is feasible if TS_mlthfglu3_c is closed.\n",
      "             Processed: 28/77, Gaps: 1. The ME-model is not feasible if TS_biomass_c is closed.\n",
      "             Processed: 29/77, Gaps: 2. The ME-model is not feasible if TS_protein_c is closed.\n",
      "             Processed: 30/77, Gaps: 2. The ME-model is feasible if TS_acgam6p_c is closed.\n",
      "             Processed: 31/77, Gaps: 2. The ME-model is feasible if TS_3pg_c is closed.\n",
      "             Processed: 32/77, Gaps: 3. The ME-model is not feasible if TS_apoACP_c is closed.\n",
      "             Processed: 33/77, Gaps: 3. The ME-model is feasible if TS_nicrnt_c is closed.\n",
      "             Processed: 34/77, Gaps: 3. The ME-model is feasible if TS_prpp_c is closed.\n",
      "             Processed: 35/77, Gaps: 3. The ME-model is feasible if TS_dnad_c is closed.\n",
      "             Processed: 36/77, Gaps: 3. The ME-model is feasible if TS_lac__L_c is closed.\n",
      "             Processed: 37/77, Gaps: 3. The ME-model is feasible if TS_ahcys_c is closed.\n",
      "             Processed: 38/77, Gaps: 3. The ME-model is feasible if TS_acald_c is closed.\n",
      "             Processed: 39/77, Gaps: 3. The ME-model is feasible if TS_amet_c is closed.\n",
      "             Processed: 40/77, Gaps: 3. The ME-model is feasible if TS_r1p_c is closed.\n",
      "             Processed: 41/77, Gaps: 3. The ME-model is feasible if TS_r5p_c is closed.\n",
      "             Processed: 42/77, Gaps: 3. The ME-model is feasible if TS_actp_c is closed.\n",
      "             Processed: 43/77, Gaps: 3. The ME-model is feasible if TS_ap_c is closed.\n",
      "             Processed: 44/77, Gaps: 3. The ME-model is feasible if TS_1ag3p_c is closed.\n",
      "             Processed: 45/77, Gaps: 3. The ME-model is feasible if TS_xu5p__D_c is closed.\n",
      "             Processed: 46/77, Gaps: 3. The ME-model is feasible if TS_pg3p_c is closed.\n",
      "             Processed: 47/77, Gaps: 4. The ME-model is not feasible if TS_e4p_c is closed.\n",
      "             Processed: 48/77, Gaps: 4. The ME-model is feasible if TS_2dr1p_c is closed.\n",
      "             Processed: 49/77, Gaps: 5. The ME-model is not feasible if TS_12dgr_c is closed.\n",
      "             Processed: 50/77, Gaps: 5. The ME-model is feasible if TS_pep_c is closed.\n",
      "             Processed: 51/77, Gaps: 5. The ME-model is feasible if TS_pyr_c is closed.\n",
      "             Processed: 52/77, Gaps: 5. The ME-model is feasible if TS_PdhC_c is closed.\n",
      "             Processed: 53/77, Gaps: 5. The ME-model is feasible if TS_na1_c is closed.\n",
      "             Processed: 54/77, Gaps: 5. The ME-model is feasible if TS_fad_c is closed.\n",
      "             Processed: 55/77, Gaps: 5. The ME-model is feasible if TS_ca2_c is closed.\n",
      "             Processed: 56/77, Gaps: 5. The ME-model is feasible if TS_k_c is closed.\n",
      "             Processed: 57/77, Gaps: 5. The ME-model is feasible if TS_nad_c is closed.\n",
      "             Processed: 58/77, Gaps: 5. The ME-model is feasible if TS_thmpp_c is closed.\n",
      "             Processed: 59/77, Gaps: 5. The ME-model is feasible if TS_pi_c is closed.\n",
      "             Processed: 60/77, Gaps: 5. The ME-model is feasible if TS_accoa_c is closed.\n",
      "             Processed: 61/77, Gaps: 5. The ME-model is feasible if TS_mg2_c is closed.\n",
      "             Processed: 62/77, Gaps: 6. The ME-model is not feasible if TS_cobalt2_c is closed.\n",
      "             Processed: 63/77, Gaps: 7. The ME-model is not feasible if TS_cs_c is closed.\n",
      "             Processed: 64/77, Gaps: 8. The ME-model is not feasible if TS_zn2_c is closed.\n",
      "             Processed: 65/77, Gaps: 9. The ME-model is not feasible if TS_nh4_c is closed.\n",
      "             Processed: 66/77, Gaps: 9. The ME-model is feasible if TS_DNA_c is closed.\n",
      "             Processed: 67/77, Gaps: 10. The ME-model is not feasible if TS_dUTPase_c is closed.\n",
      "             Processed: 68/77, Gaps: 11. The ME-model is not feasible if TS_mn2_c is closed.\n",
      "             Processed: 69/77, Gaps: 11. The ME-model is feasible if TS_pydx5p_c is closed.\n",
      "             Processed: 70/77, Gaps: 11. The ME-model is feasible if TS_galfur12dgr_c is closed.\n",
      "             Processed: 71/77, Gaps: 11. The ME-model is feasible if TS_lgltn_c is closed.\n",
      "             Processed: 72/77, Gaps: 12. The ME-model is not feasible if TS_tl_c is closed.\n",
      "             Processed: 73/77, Gaps: 13. The ME-model is not feasible if TS_cd2_c is closed.\n",
      "             Processed: 74/77, Gaps: 14. The ME-model is not feasible if TS_clpn_c is closed.\n",
      "             Processed: 75/77, Gaps: 15. The ME-model is not feasible if TS_ni2_c is closed.\n",
      "             Processed: 76/77, Gaps: 16. The ME-model is not feasible if TS_fe2_c is closed.\n",
      "             Processed: 77/77, Gaps: 16. The ME-model is feasible if TS_sprm_c is closed.\n",
      "~ Troubleshooter added the following sinks: TS_cobalt2_c, TS_cs_c, TS_zn2_c, TS_nh4_c, TS_dUTPase_c, TS_mn2_c, TS_tl_c, TS_cd2_c, TS_clpn_c, TS_ni2_c, TS_fe2_c, TS_biomass_c, TS_protein_c, TS_apoACP_c, TS_e4p_c, TS_12dgr_c.\n",
      "~ Final step. Fully optimizing with precision 1e-6 and save solution into the ME-model...\n",
      "  Gapfilled ME-model is feasible with growth rate 0.563907 (M-model: 0.369622).\n",
      "ME-model was saved in the ./mmycoides/ directory as MEModel-step3-mmycoides-TS.pkl\n"
     ]
    }
   ],
   "source": [
    "builder.troubleshoot(growth_key_and_value = { builder.me_model.mu : 0.001 })"
   ]
  },
  {
   "cell_type": "markdown",
   "id": "3bc99984-1fa3-485a-8916-32c93829cdc8",
   "metadata": {},
   "source": [
    "### Find issue"
   ]
  },
  {
   "cell_type": "code",
   "execution_count": null,
   "id": "1343118a-b04d-4d5b-93c2-536d1c2abb4f",
   "metadata": {},
   "outputs": [],
   "source": [
    "builder.find_issue('')"
   ]
  },
  {
   "cell_type": "markdown",
   "id": "f26d9317-6483-4e78-a9bb-a2593126013d",
   "metadata": {},
   "source": [
    "### Curation notes"
   ]
  },
  {
   "cell_type": "code",
   "execution_count": null,
   "id": "73e5409e-7924-4c3f-ba13-8ab3c6418177",
   "metadata": {},
   "outputs": [],
   "source": [
    "builder.curation_notes"
   ]
  },
  {
   "cell_type": "code",
   "execution_count": null,
   "id": "cf9e3fbb-70fe-478f-8c33-469ed40e94f5",
   "metadata": {},
   "outputs": [],
   "source": []
  }
 ],
 "metadata": {
  "kernelspec": {
   "display_name": "coralme",
   "language": "python",
   "name": "coralme"
  },
  "language_info": {
   "codemirror_mode": {
    "name": "ipython",
    "version": 3
   },
   "file_extension": ".py",
   "mimetype": "text/x-python",
   "name": "python",
   "nbconvert_exporter": "python",
   "pygments_lexer": "ipython3",
   "version": "3.10.12"
  },
  "toc-autonumbering": true,
  "toc-showcode": true
 },
 "nbformat": 4,
 "nbformat_minor": 5
}
