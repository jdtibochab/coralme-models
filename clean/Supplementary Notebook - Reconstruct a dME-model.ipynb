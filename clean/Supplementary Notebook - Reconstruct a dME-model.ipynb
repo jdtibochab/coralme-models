{
 "cells": [
  {
   "cell_type": "code",
   "execution_count": 8,
   "id": "d048f35f-6a3b-4642-86cd-49e4c4e4a187",
   "metadata": {
    "ExecuteTime": {
     "end_time": "2022-12-12T06:27:35.182100Z",
     "start_time": "2022-12-12T06:27:35.157355Z"
    }
   },
   "outputs": [
    {
     "data": {
      "text/html": [
       "<style>.container { width:95% !important; }</style>"
      ],
      "text/plain": [
       "<IPython.core.display.HTML object>"
      ]
     },
     "metadata": {},
     "output_type": "display_data"
    },
    {
     "name": "stdout",
     "output_type": "stream",
     "text": [
      "The autoreload extension is already loaded. To reload it, use:\n",
      "  %reload_ext autoreload\n"
     ]
    }
   ],
   "source": [
    "from IPython.display import display, HTML, Math, Markdown\n",
    "display(HTML(\"<style>.container { width:95% !important; }</style>\"))\n",
    "\n",
    "%load_ext autoreload\n",
    "%autoreload 2"
   ]
  },
  {
   "cell_type": "code",
   "execution_count": 9,
   "id": "88259670-cc2a-4bce-88a8-7aa820a24c3b",
   "metadata": {
    "ExecuteTime": {
     "end_time": "2022-12-12T06:27:36.177441Z",
     "start_time": "2022-12-12T06:27:35.183790Z"
    }
   },
   "outputs": [],
   "source": [
    "from coralme.builder.main import MEBuilder"
   ]
  },
  {
   "cell_type": "code",
   "execution_count": 10,
   "id": "d62ee683-429e-481b-87ea-8758c47886bb",
   "metadata": {},
   "outputs": [],
   "source": [
    "org = 'mmycoides'\n",
    "organism = './{:s}/organism.json'.format(org)\n",
    "inputs = './{:s}/input.json'.format(org)"
   ]
  },
  {
   "cell_type": "markdown",
   "id": "2721e4ea-0ac5-46ef-a508-0096cd3309c3",
   "metadata": {},
   "source": [
    "### Full"
   ]
  },
  {
   "cell_type": "code",
   "execution_count": 4,
   "id": "f83fbefc-c392-496d-9e1e-7820d1b6d60b",
   "metadata": {
    "scrolled": true,
    "tags": []
   },
   "outputs": [
    {
     "name": "stdout",
     "output_type": "stream",
     "text": [
      "Set parameter Username\n",
      "Academic license - for non-commercial use only - expires 2024-08-16\n"
     ]
    }
   ],
   "source": [
    "builder = MEBuilder(*[organism, inputs])\n",
    "builder.configuration['run_bbh_blast'] = False"
   ]
  },
  {
   "cell_type": "code",
   "execution_count": 5,
   "id": "33e8a1a3-3206-4bc9-9407-3c31f5367d29",
   "metadata": {
    "ExecuteTime": {
     "end_time": "2022-12-12T06:30:28.060280Z",
     "start_time": "2022-12-12T06:30:01.706785Z"
    },
    "scrolled": true,
    "tags": []
   },
   "outputs": [
    {
     "name": "stdout",
     "output_type": "stream",
     "text": [
      "Initiating file processing...\n",
      "~ Processing files for mmycoides...\n"
     ]
    },
    {
     "name": "stderr",
     "output_type": "stream",
     "text": [
      "Checking M-model metabolites...                                            : 100.0%|██████████|   303/  303 [00:00<00:00]\n",
      "Checking M-model genes...                                                  : 100.0%|██████████|   155/  155 [00:00<00:00]\n",
      "Checking M-model reactions...                                              : 100.0%|██████████|   318/  318 [00:00<00:00]\n",
      "Syncing optional genes file...                                             : 0.0%|          |     0/    0 [00:00<?]\n",
      "Looking for duplicates within datasets...                                  : 100.0%|██████████|     5/    5 [00:00<00:00]\n",
      "Gathering ID occurrences across datasets...                                : 100.0%|██████████|   318/  318 [00:00<00:00]\n",
      "Solving duplicates across datasets...                                      : 0.0%|          |     0/    0 [00:00<?]\n",
      "Pruning GenBank...                                                         : 100.0%|██████████|     1/    1 [00:00<00:00]\n",
      "Updating Genbank file with optional files...                               : 0.0%|          |     0/    0 [00:00<?]\n",
      "Syncing optional files with genbank contigs...                             : 100.0%|██████████|     1/    1 [00:00<00:00]\n",
      "Modifying metabolic reactions with manual curation...                      : 0.0%|          |     0/    0 [00:00<?]\n",
      "Modifying metabolites with manual curation...                              : 0.0%|          |     0/    0 [00:00<?]\n",
      "Adding manual curation of complexes...                                     : 0.0%|          |     0/    0 [00:00<?]\n",
      "Getting sigma factors...                                                   : 100.0%|██████████|     1/    1 [00:00<00:00]\n",
      "Getting generics from Genbank contigs...                                   : 100.0%|██████████|     1/    1 [00:00<00:00]\n",
      "Getting TU-gene associations from optional TUs file...                     : 0.0%|          |     0/    0 [00:00<?]\n",
      "Gathering ribosome stoichiometry...                                        : 100.0%|██████████|    54/   54 [00:00<00:00]\n",
      "Adding protein location...                                                 : 100.0%|██████████|   459/  459 [00:00<00:00]\n",
      "Purging M-model genes...                                                   : 100.0%|██████████|   155/  155 [00:00<00:00]\n",
      "Getting enzyme-reaction associations...                                    : 100.0%|██████████|   318/  318 [00:00<00:00]\n"
     ]
    },
    {
     "name": "stdout",
     "output_type": "stream",
     "text": [
      "Reading mmycoides done.\n"
     ]
    },
    {
     "name": "stderr",
     "output_type": "stream",
     "text": [
      "Gathering M-model compartments...                                          : 100.0%|██████████|     2/    2 [00:00<00:00]\n",
      "Fixing compartments in M-model metabolites...                              : 100.0%|██████████|   303/  303 [00:00<00:00]\n",
      "Fixing missing names in M-model reactions...                               : 100.0%|██████████|   318/  318 [00:00<00:00]\n"
     ]
    },
    {
     "name": "stdout",
     "output_type": "stream",
     "text": [
      "~ Processing files for iJL1678b...\n"
     ]
    },
    {
     "name": "stderr",
     "output_type": "stream",
     "text": [
      "Checking M-model metabolites...                                            : 100.0%|██████████|  1660/ 1660 [00:00<00:00]\n",
      "Checking M-model genes...                                                  : 100.0%|██████████|  1271/ 1271 [00:00<00:00]\n",
      "Checking M-model reactions...                                              : 100.0%|██████████|  2377/ 2377 [00:00<00:00]\n",
      "Looking for duplicates within datasets...                                  : 100.0%|██████████|     5/    5 [00:00<00:00]\n",
      "Gathering ID occurrences across datasets...                                : 100.0%|██████████|  3681/ 3681 [00:00<00:00]\n",
      "Solving duplicates across datasets...                                      : 0.0%|          |     0/    0 [00:00<?]\n",
      "Getting sigma factors...                                                   : 100.0%|██████████|     7/    7 [00:00<00:00]\n",
      "Getting TU-gene associations from optional TUs file...                     : 0.0%|          |     0/    0 [00:00<?]\n",
      "Adding protein location...                                                 : 100.0%|██████████|  1304/ 1304 [00:00<00:00]\n",
      "Purging M-model genes...                                                   : 100.0%|██████████|  1271/ 1271 [00:00<00:00]\n"
     ]
    },
    {
     "name": "stdout",
     "output_type": "stream",
     "text": [
      "Reading iJL1678b done.\n"
     ]
    },
    {
     "name": "stderr",
     "output_type": "stream",
     "text": [
      "Updating translocation machinery from homology...                          : 100.0%|██████████|     9/    9 [00:00<00:00]\n",
      "Updating protein location from homology...                                 : 100.0%|██████████|   514/  514 [00:00<00:00]\n",
      "Updating translocation multipliers from homology...                        : 100.0%|██████████|     3/    3 [00:00<00:00]\n",
      "Updating lipoprotein precursors from homology...                           : 100.0%|██████████|    14/   14 [00:00<00:00]\n",
      "Updating cleaved-methionine proteins from homology...                      : 100.0%|██████████|   343/  343 [00:00<00:00]\n",
      "Mapping M-metabolites to E-metabolites...                                  : 100.0%|██████████|   147/  147 [00:00<00:00]\n",
      "Updating generics from homology...                                         : 100.0%|██████████|    10/   10 [00:00<00:00]\n",
      "Updating folding from homology...                                          : 100.0%|██████████|     2/    2 [00:00<00:00]\n",
      "Updating ribosome subreaction machinery from homology...                   : 100.0%|██████████|     3/    3 [00:00<00:00]\n",
      "Updating tRNA synthetases from homology...                                 : 100.0%|██████████|    20/   20 [00:00<00:00]\n",
      "Updating peptide release factors from homology...                          : 100.0%|██████████|     3/    3 [00:00<00:00]\n",
      "Updating transcription subreactions machinery from homology...             : 100.0%|██████████|     4/    4 [00:00<00:00]\n",
      "Updating translation initiation subreactions from homology...              : 100.0%|██████████|     4/    4 [00:00<00:00]\n",
      "Updating translation elongation subreactions from homology...              : 100.0%|██████████|     2/    2 [00:00<00:00]\n",
      "Updating translation termination subreactions from homology...             : 100.0%|██████████|     9/    9 [00:00<00:00]\n",
      "Updating special tRNA subreactions from homology...                        : 100.0%|██████████|     1/    1 [00:00<00:00]\n",
      "Updating RNA degradosome composition from homology...                      : 100.0%|██████████|     1/    1 [00:00<00:00]\n",
      "Updating excision machinery from homology...                               : 100.0%|██████████|     3/    3 [00:00<00:00]\n",
      "Updating tRNA subreactions from homology...                                : 100.0%|██████████|     6/    6 [00:00<00:00]\n",
      "Updating lipid modification machinery from homology...                     : 100.0%|██████████|     2/    2 [00:00<00:00]\n",
      "Fixing M-model metabolites with homology...                                : 100.0%|██████████|   303/  303 [00:00<00:00]\n",
      "Updating enzyme reaction association...                                    : 100.0%|██████████|   194/  194 [00:00<00:00]\n",
      "Getting tRNA to codon dictionary from CP016816.2                           : 100.0%|██████████|   497/  497 [00:00<00:00]\n",
      "Checking defined translocation pathways...                                 : 100.0%|██████████|     9/    9 [00:00<00:00]\n",
      "Getting reaction Keffs...                                                  : 100.0%|██████████|   194/  194 [00:00<00:00]\n"
     ]
    },
    {
     "name": "stdout",
     "output_type": "stream",
     "text": [
      "File processing done.\n"
     ]
    }
   ],
   "source": [
    "builder.generate_files(overwrite=True)\n",
    "builder.save_builder_info()"
   ]
  },
  {
   "cell_type": "code",
   "execution_count": 6,
   "id": "df64d444-7726-4ab3-b597-74990636c428",
   "metadata": {
    "ExecuteTime": {
     "end_time": "2022-12-12T06:28:36.607889Z",
     "start_time": "2022-12-12T06:27:59.542579Z"
    },
    "scrolled": true,
    "tags": []
   },
   "outputs": [
    {
     "name": "stdout",
     "output_type": "stream",
     "text": [
      "Initiating ME-model reconstruction...\n"
     ]
    },
    {
     "name": "stderr",
     "output_type": "stream",
     "text": [
      "Adding biomass constraint(s) into the ME-model...                          : 100.0%|██████████|    11/   11 [00:00<00:00]"
     ]
    },
    {
     "name": "stdout",
     "output_type": "stream",
     "text": [
      "Read LP format model from file /tmp/tmpppaex9d2.lp\n",
      "Reading time = 0.00 seconds\n",
      ": 303 rows, 636 columns, 2922 nonzeros\n"
     ]
    },
    {
     "name": "stderr",
     "output_type": "stream",
     "text": [
      "\n",
      "Adding Metabolites from M-model into the ME-model...                       : 100.0%|██████████|   303/  303 [00:00<00:00]\n",
      "Adding Reactions from M-model into the ME-model...                         : 100.0%|██████████|   316/  316 [00:00<00:00]\n",
      "Adding Transcriptional Units into the ME-model...                          : 0.0%|          |     0/    0 [00:00<?]\n",
      "Adding features from contig CP016816.2 into the ME-model...                : 100.0%|██████████|   497/  497 [00:00<00:00]\n",
      "Updating all TranslationReaction and TranscriptionReaction...              : 100.0%|██████████|  1149/ 1149 [00:00<00:00]\n",
      "Removing SubReactions from ComplexData...                                  : 100.0%|██████████|   586/  586 [00:00<00:00]\n",
      "Adding ComplexFormation into the ME-model...                               : 100.0%|██████████|   586/  586 [00:00<00:00]\n",
      "Adding Generic(s) into the ME-model...                                     : 100.0%|██████████|     8/    8 [00:00<00:00]\n",
      "Processing StoichiometricData in ME-model...                               : 100.0%|██████████|   233/  233 [00:00<00:00]\n"
     ]
    },
    {
     "name": "stdout",
     "output_type": "stream",
     "text": [
      "ME-model was saved in the ./mmycoides/ directory as MEModel-step1-mmycoides.pkl\n"
     ]
    },
    {
     "name": "stderr",
     "output_type": "stream",
     "text": [
      "Adding tRNA synthetase(s) information into the ME-model...                 : 100.0%|██████████|    99/   99 [00:00<00:00]\n",
      "Adding tRNA modification SubReactions...                                   : 0.0%|          |     0/    0 [00:00<?]\n",
      "Associating tRNA modification enzyme(s) to tRNA(s)...                      : 0.0%|          |     0/    0 [00:00<?]\n",
      "Adding SubReactions into TranslationReactions...                           : 100.0%|██████████|   459/  459 [00:00<00:00]\n",
      "Adding RNA Polymerase(s) into the ME-model...                              : 100.0%|██████████|     1/    1 [00:00<00:00]\n",
      "Associating a RNA Polymerase to each Transcriptional Unit...               : 0.0%|          |     0/    0 [00:00<?]\n",
      "Processing ComplexData in ME-model...                                      : 100.0%|██████████|   101/  101 [00:00<00:00]\n",
      "Adding ComplexFormation into the ME-model...                               : 100.0%|██████████|   595/  595 [00:00<00:00]\n",
      "Adding SubReactions into TranslationReactions...                           : 100.0%|██████████|   459/  459 [00:00<00:00]\n",
      "Adding Transcription SubReactions...                                       : 100.0%|██████████|   497/  497 [00:00<00:00]\n",
      "Processing StoichiometricData in SubReactionData...                        : 100.0%|██████████|    19/   19 [00:00<00:00]\n",
      "Adding reaction subsystems from M-model into the ME-model...               : 100.0%|██████████|   316/  316 [00:00<00:00]\n",
      "Processing StoichiometricData in ME-model...                               : 100.0%|██████████|   233/  233 [00:00<00:00]\n",
      "Updating ME-model Reactions...                                             : 100.0%|██████████|  2280/ 2280 [00:06<00:00]\n",
      "Updating all FormationReactions...                                         : 100.0%|██████████|   595/  595 [00:00<00:00]\n",
      "Recalculation of the elemental contribution in SubReactions...             : 100.0%|██████████|   181/  181 [00:00<00:00]\n",
      "Updating all FormationReactions...                                         : 100.0%|██████████|   595/  595 [00:00<00:00]\n",
      "Updating FormationReactions involving a lipoyl prosthetic group...         : 0.0%|          |     0/    0 [00:00<?]\n",
      "Updating FormationReactions involving a glycyl radical...                  : 0.0%|          |     0/    0 [00:00<?]\n",
      "Estimating effective turnover rates for reactions using the SASA method... : 100.0%|██████████|   598/  598 [00:00<00:00]\n",
      "Mapping effective turnover rates from user input...                        : 0.0%|          |     0/    0 [00:00<?]\n",
      "Setting the effective turnover rates using user input...                   : 100.0%|██████████|   521/  521 [00:00<00:00]\n",
      "Pruning unnecessary ComplexData reactions...                               : 100.0%|██████████|   595/  595 [00:00<00:00]\n",
      "Pruning unnecessary FoldedProtein reactions...                             : 0.0%|          |     0/    0 [00:00<?]\n",
      "Pruning unnecessary ProcessedProtein reactions...                          : 100.0%|██████████|   474/  474 [00:00<00:00]\n",
      "Pruning unnecessary TranslatedGene reactions...                            : 100.0%|██████████|   472/  472 [00:00<00:00]\n",
      "Pruning unnecessary TranscribedGene reactions...                           : 100.0%|██████████|   498/  498 [00:00<00:00]\n",
      "Pruning unnecessary Transcriptional Units...                               : 100.0%|██████████|   496/  496 [00:00<00:00]\n",
      "Pruning unnecessary ComplexData reactions...                               : 100.0%|██████████|   259/  259 [00:00<00:00]\n",
      "Pruning unnecessary FoldedProtein reactions...                             : 0.0%|          |     0/    0 [00:00<?]\n",
      "Pruning unnecessary ProcessedProtein reactions...                          : 100.0%|██████████|   248/  248 [00:00<00:00]\n",
      "Pruning unnecessary TranslatedGene reactions...                            : 100.0%|██████████|   248/  248 [00:00<00:00]\n",
      "Pruning unnecessary TranscribedGene reactions...                           : 100.0%|██████████|   271/  271 [00:00<00:00]\n",
      "Pruning unnecessary Transcriptional Units...                               : 100.0%|██████████|   269/  269 [00:00<00:00]\n",
      "Pruning unnecessary ComplexData reactions...                               : 100.0%|██████████|   258/  258 [00:00<00:00]\n",
      "Pruning unnecessary FoldedProtein reactions...                             : 0.0%|          |     0/    0 [00:00<?]\n",
      "Pruning unnecessary ProcessedProtein reactions...                          : 100.0%|██████████|   248/  248 [00:00<00:00]\n",
      "Pruning unnecessary TranslatedGene reactions...                            : 100.0%|██████████|   248/  248 [00:00<00:00]\n",
      "Pruning unnecessary TranscribedGene reactions...                           : 100.0%|██████████|   271/  271 [00:00<00:00]\n",
      "Pruning unnecessary Transcriptional Units...                               : 100.0%|██████████|   269/  269 [00:00<00:00]\n"
     ]
    },
    {
     "name": "stdout",
     "output_type": "stream",
     "text": [
      "ME-model was saved in the ./mmycoides/ directory as MEModel-step2-mmycoides.pkl\n",
      "ME-model reconstruction is done.\n",
      "Number of metabolites in the ME-model is 1169 (+285.81%, from 303)\n",
      "Number of reactions in the ME-model is 1856 (+483.65%, from 318)\n",
      "Number of genes in the ME-model is 269 (+73.55%, from 155)\n"
     ]
    }
   ],
   "source": [
    "builder.build_me_model(overwrite=False)"
   ]
  },
  {
   "cell_type": "code",
   "execution_count": null,
   "id": "49a10838-9065-402e-a364-0898f5a4d2ad",
   "metadata": {
    "scrolled": true,
    "tags": []
   },
   "outputs": [
    {
     "name": "stdout",
     "output_type": "stream",
     "text": [
      "          Provided metabolites through sink reactions cannot recover growth. Proceeding to next set of metabolites.\n",
      "  Step 2. Gapfill reactions to provide components of type 'Cofactors' using brute force.\n",
      "          Adding sink reactions for 25 metabolites...\n"
     ]
    }
   ],
   "source": [
    "builder.troubleshoot(growth_key_and_value = { builder.me_model.mu : 0.001 })"
   ]
  },
  {
   "cell_type": "code",
   "execution_count": 12,
   "id": "268bbfd4-ab4b-4681-a7b4-daf1661dbde7",
   "metadata": {},
   "outputs": [],
   "source": [
    "model = builder.me_model"
   ]
  },
  {
   "cell_type": "markdown",
   "id": "e038350e-6c07-4bf9-9e82-a88c0ee6001c",
   "metadata": {},
   "source": [
    "### Quick"
   ]
  },
  {
   "cell_type": "code",
   "execution_count": null,
   "id": "e1c65f0c-3528-4357-954f-e4fb8b870901",
   "metadata": {
    "ExecuteTime": {
     "end_time": "2022-12-12T06:30:28.060280Z",
     "start_time": "2022-12-12T06:30:01.706785Z"
    },
    "scrolled": true
   },
   "outputs": [],
   "source": [
    "builder = MEBuilder(*['./{:s}/coralme-config.yaml'.format(org)])"
   ]
  },
  {
   "cell_type": "code",
   "execution_count": null,
   "id": "203989b7-bbd5-4261-8eb5-9cf0436ce366",
   "metadata": {
    "ExecuteTime": {
     "end_time": "2022-12-12T06:28:36.607889Z",
     "start_time": "2022-12-12T06:27:59.542579Z"
    },
    "scrolled": true,
    "tags": []
   },
   "outputs": [],
   "source": [
    "builder.build_me_model(overwrite=False, update=True, prune=True)"
   ]
  },
  {
   "cell_type": "code",
   "execution_count": null,
   "id": "dab0eb6d-2a7e-4d55-8542-32a960aa02b1",
   "metadata": {
    "scrolled": true
   },
   "outputs": [],
   "source": [
    "builder.troubleshoot(growth_key_and_value = { builder.me_model.mu : 0.001 })"
   ]
  },
  {
   "cell_type": "markdown",
   "id": "5feca08a-6277-41e5-8821-4f53d9ceb0df",
   "metadata": {},
   "source": [
    "### Load builder"
   ]
  },
  {
   "cell_type": "code",
   "execution_count": null,
   "id": "b0d86d92-b978-402c-b16a-439986ea2904",
   "metadata": {
    "ExecuteTime": {
     "end_time": "2022-12-12T06:30:28.060280Z",
     "start_time": "2022-12-12T06:30:01.706785Z"
    },
    "scrolled": true
   },
   "outputs": [],
   "source": [
    "builder = MEBuilder(*['./{:s}/coralme-config.yaml'.format(org)])\n",
    "builder.me_model = builder.load(builder.configuration['out_directory']+'MEModel-step3-{}-TS.pkl'.format(org))"
   ]
  },
  {
   "cell_type": "code",
   "execution_count": null,
   "id": "9c8ea69b-b248-444d-abb1-8a65b4973132",
   "metadata": {
    "scrolled": true,
    "tags": []
   },
   "outputs": [],
   "source": [
    "builder.troubleshoot(growth_key_and_value = { builder.me_model.mu : 0.001 })"
   ]
  },
  {
   "cell_type": "code",
   "execution_count": null,
   "id": "7557ad53-51db-4a2e-b868-5adccb114e16",
   "metadata": {},
   "outputs": [],
   "source": [
    "me = builder.me_model"
   ]
  },
  {
   "cell_type": "code",
   "execution_count": null,
   "id": "a52f0699-3435-4e6b-8a1b-80b3c9dd5d73",
   "metadata": {},
   "outputs": [],
   "source": [
    "from coralme.builder.helper_functions import *"
   ]
  },
  {
   "cell_type": "code",
   "execution_count": null,
   "id": "91eb6534-7f86-43ad-a8da-1ae910ea9c49",
   "metadata": {},
   "outputs": [],
   "source": [
    "df = me.solution.to_frame()"
   ]
  },
  {
   "cell_type": "code",
   "execution_count": null,
   "id": "323d1711-6001-4485-add8-6e58ba2dba5b",
   "metadata": {},
   "outputs": [],
   "source": [
    "df[df.index.str.contains(\"EX_\")].sort_values(\"fluxes\")"
   ]
  },
  {
   "cell_type": "code",
   "execution_count": null,
   "id": "0329c634-8ea7-428d-b18e-e02c7b54b7bf",
   "metadata": {},
   "outputs": [],
   "source": [
    "df = pandas.read_csv(\"../analysis/10steps/pputida_C_uptake.csv\",index_col=0)"
   ]
  },
  {
   "cell_type": "code",
   "execution_count": null,
   "id": "f3533dd4-260b-43c1-955b-8e131a4f4495",
   "metadata": {},
   "outputs": [],
   "source": [
    "df = pandas.read_csv(\"../analysis/simulations_base.csv\",index_col=0)"
   ]
  },
  {
   "cell_type": "code",
   "execution_count": null,
   "id": "8bbdd8dd-de8e-4c85-816f-d543d85133c8",
   "metadata": {},
   "outputs": [],
   "source": [
    "set(df.index) ^ set(i.id for i in me.reactions)"
   ]
  },
  {
   "cell_type": "markdown",
   "id": "3bc99984-1fa3-485a-8916-32c93829cdc8",
   "metadata": {},
   "source": [
    "### Find issue"
   ]
  },
  {
   "cell_type": "code",
   "execution_count": null,
   "id": "1343118a-b04d-4d5b-93c2-536d1c2abb4f",
   "metadata": {},
   "outputs": [],
   "source": [
    "builder.find_issue('')"
   ]
  },
  {
   "cell_type": "markdown",
   "id": "f26d9317-6483-4e78-a9bb-a2593126013d",
   "metadata": {},
   "source": [
    "### Curation notes"
   ]
  },
  {
   "cell_type": "code",
   "execution_count": null,
   "id": "73e5409e-7924-4c3f-ba13-8ab3c6418177",
   "metadata": {},
   "outputs": [],
   "source": [
    "builder.curation_notes"
   ]
  },
  {
   "cell_type": "code",
   "execution_count": null,
   "id": "cf9e3fbb-70fe-478f-8c33-469ed40e94f5",
   "metadata": {},
   "outputs": [],
   "source": []
  },
  {
   "cell_type": "code",
   "execution_count": null,
   "id": "0ff2f6c3-5b83-47bf-8c86-2aa880c794a5",
   "metadata": {},
   "outputs": [],
   "source": []
  },
  {
   "cell_type": "code",
   "execution_count": null,
   "id": "f0d9c561-f0e9-40fb-9385-20e7cffc54d6",
   "metadata": {},
   "outputs": [],
   "source": []
  },
  {
   "cell_type": "code",
   "execution_count": null,
   "id": "6fc37da2-dfd3-442a-bd61-573a2c4466b7",
   "metadata": {},
   "outputs": [],
   "source": []
  },
  {
   "cell_type": "code",
   "execution_count": null,
   "id": "1960a322-c916-4f0e-a999-372a67bbaa7c",
   "metadata": {},
   "outputs": [],
   "source": []
  },
  {
   "cell_type": "code",
   "execution_count": null,
   "id": "6c4c9684-e015-4714-bf33-62d1026f31c7",
   "metadata": {},
   "outputs": [],
   "source": []
  },
  {
   "cell_type": "code",
   "execution_count": null,
   "id": "b7c249db-7054-4ddd-8a0d-4779a486c9e0",
   "metadata": {},
   "outputs": [],
   "source": []
  },
  {
   "cell_type": "code",
   "execution_count": 13,
   "id": "63866ccb-447b-4dea-82b9-d87aa61b32e2",
   "metadata": {},
   "outputs": [
    {
     "data": {
      "text/html": [
       "\n",
       "        <table>\n",
       "            <tr>\n",
       "                <td><strong>Name</strong></td>\n",
       "                <td>mmycoides</td>\n",
       "            </tr><tr>\n",
       "                <td><strong>Memory address</strong></td>\n",
       "                <td>0x07f1531254f40</td>\n",
       "            </tr><tr>\n",
       "                <td><strong>Number of metabolites</strong></td>\n",
       "                <td>1169</td>\n",
       "            </tr><tr>\n",
       "                <td><strong>Number of reactions</strong></td>\n",
       "                <td>1856</td>\n",
       "            </tr><tr>\n",
       "                <td><strong>Number of groups</strong></td>\n",
       "                <td>0</td>\n",
       "            </tr><tr>\n",
       "                <td><strong>Objective expression</strong></td>\n",
       "                <td>0</td>\n",
       "            </tr><tr>\n",
       "                <td><strong>Compartments</strong></td>\n",
       "                <td>ME-model Constraint, Cytoplasm, Extracellular, im</td>\n",
       "            </tr>\n",
       "          </table>"
      ],
      "text/plain": [
       "<MEModel mmycoides at 0x7f1531254f40>"
      ]
     },
     "execution_count": 13,
     "metadata": {},
     "output_type": "execute_result"
    }
   ],
   "source": [
    "model"
   ]
  },
  {
   "cell_type": "code",
   "execution_count": 17,
   "id": "3939a278-bec0-4b20-996a-ff732959cbf6",
   "metadata": {},
   "outputs": [
    {
     "data": {
      "text/plain": [
       "{<Metabolite met__L_c at 0x7f146a9aa650>: -9,\n",
       " <Metabolite h2o_c at 0x7f146b1aebf0>: -650.0 - 1.46080932784637*(mu1 + 0.3915)/mu1,\n",
       " <Metabolite thr__L_c at 0x7f146a9aa470>: -23,\n",
       " <Metabolite ile__L_c at 0x7f146a9aa140>: -40,\n",
       " <Metabolite leu__L_c at 0x7f146a9aa260>: -36,\n",
       " <Metabolite phe__L_c at 0x7f146a9aa410>: -21,\n",
       " <Metabolite asn__L_c at 0x7f146a9aa200>: -15,\n",
       " <Metabolite ser__L_c at 0x7f146a9aa5f0>: -27,\n",
       " <Metabolite trp__L_c at 0x7f146a9aa4d0>: -5,\n",
       " <Metabolite ala__L_c at 0x7f146a9aa1a0>: -34,\n",
       " <Metabolite val__L_c at 0x7f146a9aa590>: -30,\n",
       " <Metabolite gly_c at 0x7f146a9aa0e0>: -33,\n",
       " <Metabolite glu__L_c at 0x7f146a9a9b70>: -3,\n",
       " <Metabolite lys__L_c at 0x7f146a9aa350>: -13,\n",
       " <Metabolite tyr__L_c at 0x7f146a9aa530>: -8,\n",
       " <Metabolite asp__L_c at 0x7f146a9aa050>: -4,\n",
       " <Metabolite gln__L_c at 0x7f146a9a9ba0>: -11,\n",
       " <Metabolite pro__L_c at 0x7f146a9aa3b0>: -7,\n",
       " <Metabolite his__L_c at 0x7f146a9aa2f0>: -1,\n",
       " <Metabolite arg__L_c at 0x7f146a9aa020>: -5,\n",
       " <Ribosome ribosome at 0x7f14683fdd20>: -0.00465940200351763*mu1 - 0.00182415588437715,\n",
       " <TranscribedGene RNA_JCVISYN3A_0008 at 0x7f146ae1ef50>: -0.000498399634202103*mu1 - 0.000195123456790123 - 0.00598079561042524*(mu1 + 0.3915)/mu1,\n",
       " <Metabolite ump_c at 0x7f146a9a99c0>: 1.96170096021948*(mu1 + 0.3915)/mu1,\n",
       " <Metabolite amp_c at 0x7f146a9a95a0>: 324.0 + 2.17102880658436*(mu1 + 0.3915)/mu1,\n",
       " <Metabolite cmp_c at 0x7f146a7a66b0>: 1.02271604938272*(mu1 + 0.3915)/mu1,\n",
       " <Metabolite gmp_c at 0x7f146a9a9810>: 0.693772290809328*(mu1 + 0.3915)/mu1,\n",
       " <Metabolite atp_c at 0x7f1470c0ebc0>: -324.0 - 1.46080932784637*(mu1 + 0.3915)/mu1,\n",
       " <Metabolite adp_c at 0x7f1470c0e080>: 1.46080932784637*(mu1 + 0.3915)/mu1,\n",
       " <Metabolite h_c at 0x7f1470c0ed10>: 973.0 + 1.46080932784637*(mu1 + 0.3915)/mu1,\n",
       " <Metabolite pi_c at 0x7f146b1aec20>: 649.0 + 1.46080932784637*(mu1 + 0.3915)/mu1,\n",
       " <Complex RNA_degradosome at 0x7f14685015d0>: -2.55589556001079e-8*mu1 - 1.00063311174422e-8,\n",
       " <TranslatedGene protein_JCVISYN3A_0008 at 0x7f146b02b250>: 1,\n",
       " <GenericComponent generic_Tuf at 0x7f14682f2110>: -0.00138461538461538*mu1,\n",
       " <GenerictRNA generic_tRNA_AUG_met__L_c at 0x7f1468b93610>: -8.0,\n",
       " <Metabolite ppi_c at 0x7f146a9a96c0>: 324.0,\n",
       " <Metabolite gtp_c at 0x7f146a9a98d0>: -649.0,\n",
       " <Metabolite gdp_c at 0x7f146a9a9870>: 649.0,\n",
       " <GenerictRNA generic_tRNA_ACA_thr__L_c at 0x7f1468dffc70>: -15.0,\n",
       " <GenerictRNA generic_tRNA_AUU_ile__L_c at 0x7f1468dfedd0>: -32.0,\n",
       " <GenerictRNA generic_tRNA_UUA_leu__L_c at 0x7f146a5e6d70>: -26.0,\n",
       " <GenerictRNA generic_tRNA_UUU_phe__L_c at 0x7f1468ba0190>: -20.0,\n",
       " <GenerictRNA generic_tRNA_AAU_asn__L_c at 0x7f1468b92830>: -14.0,\n",
       " <GenerictRNA generic_tRNA_ACU_thr__L_c at 0x7f1468dfdf00>: -8.0,\n",
       " <GenerictRNA generic_tRNA_AGU_ser__L_c at 0x7f1468b90760>: -10.0,\n",
       " <GenerictRNA generic_tRNA_UGA_trp__L_c at 0x7f1468dfdc90>: -5.0,\n",
       " <GenerictRNA generic_tRNA_GCA_ala__L_c at 0x7f1468b93430>: -20.0,\n",
       " <GenerictRNA generic_tRNA_GCU_ala__L_c at 0x7f1468b93250>: -12.0,\n",
       " <GenerictRNA generic_tRNA_GUU_val__L_c at 0x7f1468b92260>: -18.0,\n",
       " <GenerictRNA generic_tRNA_GGU_gly_c at 0x7f1468b90940>: -14.0,\n",
       " <GenerictRNA generic_tRNA_GUC_val__L_c at 0x7f1468b92380>: -1.0,\n",
       " <GenerictRNA generic_tRNA_UCU_ser__L_c at 0x7f1468b903a0>: -2.0,\n",
       " <GenerictRNA generic_tRNA_UCA_ser__L_c at 0x7f1468b90580>: -15.0,\n",
       " <GenerictRNA generic_tRNA_CUU_leu__L_c at 0x7f1468dff4c0>: -5.0,\n",
       " <GenerictRNA generic_tRNA_GAA_glu__L_c at 0x7f1468b92650>: -3.0,\n",
       " <GenerictRNA generic_tRNA_AAG_lys__L_c at 0x7f1468b902b0>: -2.0,\n",
       " <GenerictRNA generic_tRNA_GGA_gly_c at 0x7f1468b90b20>: -18.0,\n",
       " <GenerictRNA generic_tRNA_GUA_val__L_c at 0x7f1468b92470>: -11.0,\n",
       " <GenerictRNA generic_tRNA_GCG_ala__L_c at 0x7f1468b93520>: -1.0,\n",
       " <GenerictRNA generic_tRNA_UAU_tyr__L_c at 0x7f1468dffa30>: -8.0,\n",
       " <GenerictRNA generic_tRNA_GAU_asp__L_c at 0x7f1468b93fd0>: -3.0,\n",
       " <GenerictRNA generic_tRNA_AAA_lys__L_c at 0x7f1468b901c0>: -11.0,\n",
       " <GenerictRNA generic_tRNA_CAA_gln__L_c at 0x7f1468b91cf0>: -11.0,\n",
       " <GenerictRNA generic_tRNA_CCA_pro__L_c at 0x7f1468b93070>: -5.0,\n",
       " <GenerictRNA generic_tRNA_AUA_ile__L_c at 0x7f1468b91e70>: -7.0,\n",
       " <GenerictRNA generic_tRNA_CUA_leu__L_c at 0x7f1468dfffd0>: -5.0,\n",
       " <GenerictRNA generic_tRNA_CAU_his__L_c at 0x7f1468dfdf90>: -1.0,\n",
       " <GenerictRNA generic_tRNA_UUC_phe__L_c at 0x7f1468ba0280>: -1.0,\n",
       " <GenerictRNA generic_tRNA_AUC_ile__L_c at 0x7f14690c9540>: -1.0,\n",
       " <GenerictRNA generic_tRNA_AGA_arg__L_c at 0x7f1468b910c0>: -5.0,\n",
       " <GenerictRNA generic_tRNA_CCU_pro__L_c at 0x7f1468b92e60>: -2.0,\n",
       " <GenerictRNA generic_tRNA_GAC_asp__L_c at 0x7f1468ba00a0>: -1.0,\n",
       " <GenerictRNA generic_tRNA_GGG_gly_c at 0x7f1468b90c10>: -1.0,\n",
       " <GenerictRNA generic_tRNA_GCC_ala__L_c at 0x7f1468b93340>: -1.0,\n",
       " <GenerictRNA generic_tRNA_AAC_asn__L_c at 0x7f1468b92920>: -1.0,\n",
       " <Complex JCVISYN3A_0141-MONOMER at 0x7f1468229f30>: -4.27350427350427e-6*mu1,\n",
       " <Complex JCVISYN3A_0649-MONOMER at 0x7f146828e5f0>: -4.27350427350427e-6*mu1,\n",
       " <Complex JCVISYN3A_0200-MONOMER at 0x7f146822b130>: -4.27350427350427e-6*mu1,\n",
       " <Complex JCVISYN3A_0297-MONOMER at 0x7f146824d570>: -8.54700854700855e-6*mu1,\n",
       " <Complex JCVISYN3A_0390-MONOMER_mod_mg2(1)_mod_k(1) at 0x7f14682d1270>: -4.27350427350427e-6*mu1,\n",
       " <GenerictRNA generic_tRNA_START_met__L_c at 0x7f1468b93700>: -1.0,\n",
       " <Metabolite 10fthfglu3_c at 0x7f146a9ab0d0>: -1.0,\n",
       " <Metabolite thfglu3_c at 0x7f146a9ab130>: 1.0,\n",
       " <Complex JCVISYN3A_0150-MONOMER at 0x7f146822a5f0>: -0.00138461538461538*mu1,\n",
       " <Complex JCVISYN3A_0539-MONOMER at 0x7f146828c1f0>: -0.00138461538461538*mu1,\n",
       " <Complex JCVISYN3A_0201-MONOMER_mod_fe2(1) at 0x7f14682f0370>: -4.27350427350427e-6*mu1,\n",
       " <Metabolite for_c at 0x7f146a9ab1c0>: 1.0,\n",
       " <Complex JCVISYN3A_0536-MONOMER at 0x7f146826bf70>: -4.27350427350427e-6*mu1,\n",
       " <Constraint protein_biomass at 0x7f15312555a0>: 34.32045882,\n",
       " <Constraint mRNA_biomass at 0x7f1470c0c520>: -1.86103371182562*(mu1 + 0.3915)/mu1}"
      ]
     },
     "execution_count": 17,
     "metadata": {},
     "output_type": "execute_result"
    }
   ],
   "source": [
    "model.reactions.query(\"translation\")[1].metabolites"
   ]
  },
  {
   "cell_type": "code",
   "execution_count": null,
   "id": "5164f856-ad95-43d2-bce2-a1a0162eaab4",
   "metadata": {},
   "outputs": [],
   "source": []
  },
  {
   "cell_type": "code",
   "execution_count": null,
   "id": "c6c1eb83-d6aa-4db9-8d6d-5129294d68b6",
   "metadata": {},
   "outputs": [],
   "source": []
  }
 ],
 "metadata": {
  "kernelspec": {
   "display_name": "coralme",
   "language": "python",
   "name": "coralme"
  },
  "language_info": {
   "codemirror_mode": {
    "name": "ipython",
    "version": 3
   },
   "file_extension": ".py",
   "mimetype": "text/x-python",
   "name": "python",
   "nbconvert_exporter": "python",
   "pygments_lexer": "ipython3",
   "version": "3.10.12"
  },
  "toc-autonumbering": true,
  "toc-showcode": true
 },
 "nbformat": 4,
 "nbformat_minor": 5
}
