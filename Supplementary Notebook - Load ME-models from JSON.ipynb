{
 "cells": [
  {
   "cell_type": "markdown",
   "id": "ce318d1e-16bd-4b2b-b696-9764f3e71e54",
   "metadata": {},
   "source": [
    "# Load ME-models from JSON"
   ]
  },
  {
   "cell_type": "markdown",
   "id": "6d6faad9-c977-4a9a-9211-e2f7a6ef4329",
   "metadata": {},
   "source": [
    "## Setup environment"
   ]
  },
  {
   "cell_type": "code",
   "execution_count": 2,
   "id": "88259670-cc2a-4bce-88a8-7aa820a24c3b",
   "metadata": {
    "ExecuteTime": {
     "end_time": "2022-12-12T06:27:36.177441Z",
     "start_time": "2022-12-12T06:27:35.183790Z"
    }
   },
   "outputs": [],
   "source": [
    "import coralme\n",
    "from coralme.builder.helper_functions import *\n",
    "import pickle\n",
    "import pandas\n",
    "import os\n",
    "import tqdm\n",
    "import json\n",
    "import matplotlib.pyplot as plt\n",
    "import numpy as np\n",
    "import sympy\n",
    "pandas.set_option('display.max_colwidth', None)\n",
    "plt.rcParams['svg.fonttype'] = 'none'"
   ]
  },
  {
   "cell_type": "markdown",
   "id": "25083b78-f830-4fac-869e-0ee60efb3c25",
   "metadata": {},
   "source": [
    "## Load a ME-model"
   ]
  },
  {
   "cell_type": "code",
   "execution_count": 3,
   "id": "0ca42e2d-5584-4f4a-93cf-baa6bd6cd7f3",
   "metadata": {},
   "outputs": [],
   "source": [
    "def load_me(filename='me_model.pickle'):\n",
    "    with open(filename, \"rb\") as f:\n",
    "        return pickle.load(f)"
   ]
  },
  {
   "cell_type": "markdown",
   "id": "8ef16e2f-6b53-4aa0-a29b-008994f17e3e",
   "metadata": {},
   "source": [
    "## Get organism directories in path"
   ]
  },
  {
   "cell_type": "code",
   "execution_count": 4,
   "id": "adee78b7-9eea-483f-baab-3b63c4761d4b",
   "metadata": {},
   "outputs": [],
   "source": [
    "def get_org_dirs(directory):\n",
    "    return [i for i in os.listdir(directory) \\\n",
    "            if os.path.isdir(directory+i) and '.' not in i and '_' not in i]"
   ]
  },
  {
   "cell_type": "markdown",
   "id": "a0baf17b-2782-4684-91c5-a3230b6649e2",
   "metadata": {},
   "source": [
    "## Load from JSON"
   ]
  },
  {
   "cell_type": "code",
   "execution_count": 6,
   "id": "8095db24-51e2-4ecd-ada5-98fd91a6771f",
   "metadata": {},
   "outputs": [
    {
     "name": "stdout",
     "output_type": "stream",
     "text": [
      "Set parameter Username\n",
      "Academic license - for non-commercial use only - expires 2024-08-16\n",
      "Read LP format model from file /tmp/tmpdzqu6f0o.lp\n",
      "Reading time = 0.00 seconds\n",
      ": 0 rows, 0 columns, 0 nonzeros\n",
      "Read LP format model from file /tmp/tmpd35ohkz0.lp\n",
      "Reading time = 0.01 seconds\n",
      ": 1805 rows, 5166 columns, 20366 nonzeros\n",
      "Read LP format model from file /tmp/tmpeggct9j1.lp\n",
      "Reading time = 0.01 seconds\n",
      ": 1805 rows, 5160 columns, 20202 nonzeros\n"
     ]
    }
   ],
   "source": [
    "model = coralme.io.pickle.load_pickle_me_model(\"./clean/ecoli/MEModel-step3-ecoli-TS.pkl\")"
   ]
  }
 ],
 "metadata": {
  "kernelspec": {
   "display_name": "coralme",
   "language": "python",
   "name": "coralme"
  },
  "language_info": {
   "codemirror_mode": {
    "name": "ipython",
    "version": 3
   },
   "file_extension": ".py",
   "mimetype": "text/x-python",
   "name": "python",
   "nbconvert_exporter": "python",
   "pygments_lexer": "ipython3",
   "version": "3.10.12"
  }
 },
 "nbformat": 4,
 "nbformat_minor": 5
}
