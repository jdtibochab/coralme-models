{
 "cells": [
  {
   "cell_type": "code",
   "execution_count": null,
   "id": "fadf741b-d65e-4c02-a73f-3c1414e848ce",
   "metadata": {
    "ExecuteTime": {
     "end_time": "2023-08-30T23:58:58.395955Z",
     "start_time": "2023-08-30T23:58:58.378250Z"
    }
   },
   "outputs": [],
   "source": [
    "from IPython.display import display, HTML, Math, Markdown\n",
    "display(HTML(\"<style>.container { width:95% !important; }</style>\"))\n",
    "\n",
    "%load_ext autoreload\n",
    "%autoreload 2"
   ]
  },
  {
   "cell_type": "code",
   "execution_count": null,
   "id": "63414ed1-c7f0-4b1c-9dd0-534c4182f428",
   "metadata": {
    "ExecuteTime": {
     "end_time": "2023-08-30T23:58:59.873768Z",
     "start_time": "2023-08-30T23:58:58.397432Z"
    }
   },
   "outputs": [],
   "source": [
    "from coralme.builder.main import MEBuilder, MEReconstruction, METroubleshooter\n",
    "from coralme.builder.curation import MECurator, MEManualCuration\n",
    "import coralme"
   ]
  },
  {
   "cell_type": "code",
   "execution_count": null,
   "id": "339c41e9-828e-4bbf-a7b2-150b9af09dbd",
   "metadata": {},
   "outputs": [],
   "source": [
    "from coralme.builder.helper_functions import *\n",
    "pandas.set_option('display.max_colwidth', None)\n"
   ]
  },
  {
   "cell_type": "code",
   "execution_count": null,
   "id": "659ca4b2-ac94-4b00-98e8-68fdf89c0b16",
   "metadata": {
    "ExecuteTime": {
     "end_time": "2023-08-30T23:58:59.890063Z",
     "start_time": "2023-08-30T23:58:59.875102Z"
    }
   },
   "outputs": [],
   "source": [
    "org = 'ecoli'\n",
    "organism = './{:s}/organism.json'.format(org)\n",
    "inputs = './{:s}/input.json'.format(org)"
   ]
  },
  {
   "cell_type": "code",
   "execution_count": null,
   "id": "0a44ad06-a1be-4d07-8f64-014ece8239c4",
   "metadata": {},
   "outputs": [],
   "source": [
    "builder = MEBuilder(*['./{:s}/coralme-config.yaml'.format(org)])\n",
    "me = builder.load(builder.configuration['out_directory']+'MEModel-step3-{}-TS.pkl'.format(org))"
   ]
  },
  {
   "cell_type": "markdown",
   "id": "50f8ec29-232f-4f8a-9143-4ec0f89c3b94",
   "metadata": {},
   "source": [
    "### Full"
   ]
  },
  {
   "cell_type": "code",
   "execution_count": null,
   "id": "63010c92-3cab-4563-8252-51a4e489ae0e",
   "metadata": {
    "ExecuteTime": {
     "end_time": "2023-08-30T23:58:59.906683Z",
     "start_time": "2023-08-30T23:58:59.892014Z"
    },
    "scrolled": true,
    "tags": []
   },
   "outputs": [],
   "source": [
    "# builder = MEBuilder(*[organism, inputs])"
   ]
  },
  {
   "cell_type": "code",
   "execution_count": null,
   "id": "cd56e9b5-9c24-40ac-bd8b-d1a1d6d23c2a",
   "metadata": {
    "ExecuteTime": {
     "end_time": "2023-08-30T23:58:59.922467Z",
     "start_time": "2023-08-30T23:58:59.908045Z"
    },
    "scrolled": true,
    "tags": []
   },
   "outputs": [],
   "source": [
    "# builder.generate_files(overwrite=True)"
   ]
  },
  {
   "cell_type": "code",
   "execution_count": null,
   "id": "a0ca2c09-f407-472d-8902-2964eba510a5",
   "metadata": {
    "ExecuteTime": {
     "end_time": "2023-08-30T23:58:59.938378Z",
     "start_time": "2023-08-30T23:58:59.923885Z"
    },
    "scrolled": true,
    "tags": []
   },
   "outputs": [],
   "source": [
    "# builder.build_me_model(overwrite=False)"
   ]
  },
  {
   "cell_type": "code",
   "execution_count": null,
   "id": "85fc88c1",
   "metadata": {
    "ExecuteTime": {
     "end_time": "2023-08-30T23:58:59.953722Z",
     "start_time": "2023-08-30T23:58:59.939719Z"
    }
   },
   "outputs": [],
   "source": [
    "# builder.me_model.optimize(max_mu = 1.0)"
   ]
  },
  {
   "cell_type": "code",
   "execution_count": null,
   "id": "c3c2b019-4b54-4ff5-bdd1-9a2bd73a7ed7",
   "metadata": {
    "ExecuteTime": {
     "end_time": "2023-08-30T23:58:59.969397Z",
     "start_time": "2023-08-30T23:58:59.954955Z"
    },
    "scrolled": true,
    "tags": []
   },
   "outputs": [],
   "source": [
    "# builder.troubleshoot(growth_key_and_value = { builder.me_model.mu : 0.001 })"
   ]
  },
  {
   "cell_type": "markdown",
   "id": "4e7f22d1-5230-461e-a37a-e8c64542b62d",
   "metadata": {},
   "source": [
    "### Build a second time using a modified OSM including tRNA specificity data"
   ]
  },
  {
   "cell_type": "code",
   "execution_count": null,
   "id": "ba8fe959-5606-4631-b49a-e9f5e56c4b0c",
   "metadata": {
    "ExecuteTime": {
     "end_time": "2023-08-30T23:59:00.002078Z",
     "start_time": "2023-08-30T23:58:59.970711Z"
    },
    "scrolled": true
   },
   "outputs": [],
   "source": [
    "builder = MEBuilder(*['./{:s}/coralme-config.yaml'.format(org)])\n",
    "builder.configuration['feature_types'] = ['CDS', 'rRNA', 'tRNA', 'ncRNA']\n",
    "builder.configuration['df_gene_cplxs_mods_rxns'] = './ecoli/building_data/automated-org-with-refs-tRNAs.xlsx'"
   ]
  },
  {
   "cell_type": "code",
   "execution_count": null,
   "id": "c2f000ee-bd9a-4bb1-8d8f-ebf0e02bb657",
   "metadata": {
    "ExecuteTime": {
     "end_time": "2023-08-31T00:05:09.137611Z",
     "start_time": "2023-08-30T23:59:00.004813Z"
    },
    "scrolled": true,
    "tags": []
   },
   "outputs": [],
   "source": [
    "builder.build_me_model(overwrite=False)"
   ]
  },
  {
   "cell_type": "code",
   "execution_count": null,
   "id": "5c2c6db5",
   "metadata": {
    "ExecuteTime": {
     "end_time": "2023-08-31T00:05:32.775917Z",
     "start_time": "2023-08-31T00:05:09.139033Z"
    }
   },
   "outputs": [],
   "source": [
    "coralme.io.json.save_json_me_model(builder.me_model, 'ecoli.json')"
   ]
  },
  {
   "cell_type": "code",
   "execution_count": null,
   "id": "cde58d89",
   "metadata": {
    "ExecuteTime": {
     "end_time": "2023-08-31T00:05:33.150157Z",
     "start_time": "2023-08-31T00:05:32.777548Z"
    }
   },
   "outputs": [],
   "source": [
    "builder.me_model.add_boundary(me.metabolites.li_c, type = 'sink'); # iJL1678b-ME has a sink reaction for lithium ion\n",
    "builder.me_model.optimize(max_mu = 1.0)\n",
    "builder.me_model.solution.objective_value # value in Supplementary Table 1"
   ]
  }
 ],
 "metadata": {
  "kernelspec": {
   "display_name": "coralme",
   "language": "python",
   "name": "coralme"
  },
  "language_info": {
   "codemirror_mode": {
    "name": "ipython",
    "version": 3
   },
   "file_extension": ".py",
   "mimetype": "text/x-python",
   "name": "python",
   "nbconvert_exporter": "python",
   "pygments_lexer": "ipython3",
   "version": "3.10.12"
  }
 },
 "nbformat": 4,
 "nbformat_minor": 5
}
