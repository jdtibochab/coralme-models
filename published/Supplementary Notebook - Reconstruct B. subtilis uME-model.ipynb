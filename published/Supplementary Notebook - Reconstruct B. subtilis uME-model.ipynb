{
 "cells": [
  {
   "cell_type": "code",
   "execution_count": 1,
   "id": "fadf741b-d65e-4c02-a73f-3c1414e848ce",
   "metadata": {
    "ExecuteTime": {
     "end_time": "2022-12-12T06:27:35.182100Z",
     "start_time": "2022-12-12T06:27:35.157355Z"
    },
    "scrolled": true
   },
   "outputs": [
    {
     "data": {
      "text/html": [
       "<style>.container { width:95% !important; }</style>"
      ],
      "text/plain": [
       "<IPython.core.display.HTML object>"
      ]
     },
     "metadata": {},
     "output_type": "display_data"
    }
   ],
   "source": [
    "from IPython.display import display, HTML, Math, Markdown\n",
    "display(HTML(\"<style>.container { width:95% !important; }</style>\"))"
   ]
  },
  {
   "cell_type": "code",
   "execution_count": 2,
   "id": "63414ed1-c7f0-4b1c-9dd0-534c4182f428",
   "metadata": {
    "ExecuteTime": {
     "end_time": "2022-12-12T06:27:36.177441Z",
     "start_time": "2022-12-12T06:27:35.183790Z"
    },
    "scrolled": true
   },
   "outputs": [],
   "source": [
    "import coralme\n",
    "from coralme.builder.main import MEBuilder, MEReconstruction, METroubleshooter\n",
    "from coralme.builder.curation import MECurator, MEManualCuration"
   ]
  },
  {
   "cell_type": "code",
   "execution_count": 3,
   "id": "659ca4b2-ac94-4b00-98e8-68fdf89c0b16",
   "metadata": {
    "scrolled": true
   },
   "outputs": [],
   "source": [
    "org = 'bsubtilis'\n",
    "organism = './{:s}/organism.json'.format(org)\n",
    "inputs = './{:s}/input.json'.format(org)"
   ]
  },
  {
   "cell_type": "markdown",
   "id": "50f8ec29-232f-4f8a-9143-4ec0f89c3b94",
   "metadata": {},
   "source": [
    "### Full"
   ]
  },
  {
   "cell_type": "code",
   "execution_count": null,
   "id": "63010c92-3cab-4563-8252-51a4e489ae0e",
   "metadata": {
    "scrolled": true,
    "tags": []
   },
   "outputs": [],
   "source": [
    "builder = MEBuilder(*[organism, inputs])"
   ]
  },
  {
   "cell_type": "code",
   "execution_count": null,
   "id": "cd56e9b5-9c24-40ac-bd8b-d1a1d6d23c2a",
   "metadata": {
    "ExecuteTime": {
     "end_time": "2022-12-12T06:30:28.060280Z",
     "start_time": "2022-12-12T06:30:01.706785Z"
    },
    "scrolled": true,
    "tags": []
   },
   "outputs": [],
   "source": [
    "builder.generate_files(overwrite=True)"
   ]
  },
  {
   "cell_type": "code",
   "execution_count": null,
   "id": "a0ca2c09-f407-472d-8902-2964eba510a5",
   "metadata": {
    "ExecuteTime": {
     "end_time": "2022-12-12T06:28:36.607889Z",
     "start_time": "2022-12-12T06:27:59.542579Z"
    },
    "scrolled": true,
    "tags": []
   },
   "outputs": [],
   "source": [
    "builder.build_me_model(overwrite=False)"
   ]
  },
  {
   "cell_type": "code",
   "execution_count": null,
   "id": "c3c2b019-4b54-4ff5-bdd1-9a2bd73a7ed7",
   "metadata": {
    "scrolled": true,
    "tags": []
   },
   "outputs": [],
   "source": [
    "builder.troubleshoot(growth_key_and_value = { builder.me_model.mu : 0.001 })"
   ]
  },
  {
   "cell_type": "markdown",
   "id": "4e7f22d1-5230-461e-a37a-e8c64542b62d",
   "metadata": {},
   "source": [
    "### Quick"
   ]
  },
  {
   "cell_type": "code",
   "execution_count": null,
   "id": "ba8fe959-5606-4631-b49a-e9f5e56c4b0c",
   "metadata": {
    "ExecuteTime": {
     "end_time": "2022-12-12T06:30:28.060280Z",
     "start_time": "2022-12-12T06:30:01.706785Z"
    },
    "scrolled": true
   },
   "outputs": [],
   "source": [
    "builder = MEBuilder(*['./{:s}/coralme-config.yaml'.format(org)])"
   ]
  },
  {
   "cell_type": "code",
   "execution_count": null,
   "id": "c2f000ee-bd9a-4bb1-8d8f-ebf0e02bb657",
   "metadata": {
    "ExecuteTime": {
     "end_time": "2022-12-12T06:28:36.607889Z",
     "start_time": "2022-12-12T06:27:59.542579Z"
    },
    "scrolled": true,
    "tags": []
   },
   "outputs": [],
   "source": [
    "builder.build_me_model(overwrite=False, update=True, prune=False)"
   ]
  },
  {
   "cell_type": "code",
   "execution_count": null,
   "id": "4dc1c455-5dc2-489d-8327-050d5f0c580a",
   "metadata": {
    "scrolled": true,
    "tags": []
   },
   "outputs": [],
   "source": [
    "builder.troubleshoot(growth_key_and_value = { builder.me_model.mu : 0.001 })"
   ]
  },
  {
   "cell_type": "markdown",
   "id": "4840cacc-f83e-402e-91e7-a8d45ca92bee",
   "metadata": {},
   "source": [
    "### Load builder"
   ]
  },
  {
   "cell_type": "code",
   "execution_count": 6,
   "id": "afcd0a3a-182b-424d-8c4c-09af614e3f67",
   "metadata": {
    "ExecuteTime": {
     "end_time": "2022-12-12T06:30:28.060280Z",
     "start_time": "2022-12-12T06:30:01.706785Z"
    },
    "scrolled": true
   },
   "outputs": [
    {
     "name": "stdout",
     "output_type": "stream",
     "text": [
      "Read LP format model from file /tmp/tmpsdkligfv.lp\n",
      "Reading time = 0.00 seconds\n",
      ": 0 rows, 0 columns, 0 nonzeros\n",
      "Read LP format model from file /tmp/tmpbrrk3_7w.lp\n",
      "Reading time = 0.00 seconds\n",
      ": 998 rows, 2524 columns, 10562 nonzeros\n",
      "Read LP format model from file /tmp/tmph37rjv85.lp\n",
      "Reading time = 0.00 seconds\n",
      ": 1088 rows, 2554 columns, 10544 nonzeros\n"
     ]
    }
   ],
   "source": [
    "builder = MEBuilder(*['./{:s}/coralme-config.yaml'.format(org)])\n",
    "builder.me_model = builder.load(builder.configuration['out_directory']+'MEModel-step3-{}-TS.pkl'.format(org))"
   ]
  },
  {
   "cell_type": "code",
   "execution_count": 7,
   "id": "8c7629c9-f8b0-4c71-8c48-ac9002cd8524",
   "metadata": {},
   "outputs": [],
   "source": [
    "me = builder.me_model"
   ]
  },
  {
   "cell_type": "code",
   "execution_count": 9,
   "id": "e1e68e8c-740d-44d9-80ec-9089fd5ca51b",
   "metadata": {},
   "outputs": [],
   "source": [
    "df = me.solution.to_frame()"
   ]
  },
  {
   "cell_type": "code",
   "execution_count": 12,
   "id": "ccfeea86-1f6f-47dc-9400-9e0e50795053",
   "metadata": {},
   "outputs": [
    {
     "data": {
      "text/html": [
       "<div>\n",
       "<style scoped>\n",
       "    .dataframe tbody tr th:only-of-type {\n",
       "        vertical-align: middle;\n",
       "    }\n",
       "\n",
       "    .dataframe tbody tr th {\n",
       "        vertical-align: top;\n",
       "    }\n",
       "\n",
       "    .dataframe thead th {\n",
       "        text-align: right;\n",
       "    }\n",
       "</style>\n",
       "<table border=\"1\" class=\"dataframe\">\n",
       "  <thead>\n",
       "    <tr style=\"text-align: right;\">\n",
       "      <th></th>\n",
       "      <th>fluxes</th>\n",
       "      <th>reduced_costs</th>\n",
       "    </tr>\n",
       "  </thead>\n",
       "  <tbody>\n",
       "    <tr>\n",
       "      <th>EX_o2_e</th>\n",
       "      <td>-2.628787</td>\n",
       "      <td>0.000000</td>\n",
       "    </tr>\n",
       "    <tr>\n",
       "      <th>EX_glc__D_e</th>\n",
       "      <td>-1.700000</td>\n",
       "      <td>-0.058635</td>\n",
       "    </tr>\n",
       "    <tr>\n",
       "      <th>EX_nh4_e</th>\n",
       "      <td>-1.627332</td>\n",
       "      <td>0.000000</td>\n",
       "    </tr>\n",
       "    <tr>\n",
       "      <th>EX_pi_e</th>\n",
       "      <td>-0.195111</td>\n",
       "      <td>0.000000</td>\n",
       "    </tr>\n",
       "    <tr>\n",
       "      <th>EX_so4_e</th>\n",
       "      <td>-0.026408</td>\n",
       "      <td>0.000000</td>\n",
       "    </tr>\n",
       "    <tr>\n",
       "      <th>...</th>\n",
       "      <td>...</td>\n",
       "      <td>...</td>\n",
       "    </tr>\n",
       "    <tr>\n",
       "      <th>EX_cys__D_e</th>\n",
       "      <td>0.000000</td>\n",
       "      <td>0.000000</td>\n",
       "    </tr>\n",
       "    <tr>\n",
       "      <th>EX_gly_asp__L_e</th>\n",
       "      <td>0.000000</td>\n",
       "      <td>0.000000</td>\n",
       "    </tr>\n",
       "    <tr>\n",
       "      <th>EX_h_e</th>\n",
       "      <td>1.342704</td>\n",
       "      <td>0.000000</td>\n",
       "    </tr>\n",
       "    <tr>\n",
       "      <th>EX_co2_e</th>\n",
       "      <td>3.039844</td>\n",
       "      <td>0.000000</td>\n",
       "    </tr>\n",
       "    <tr>\n",
       "      <th>EX_h2o_e</th>\n",
       "      <td>7.121699</td>\n",
       "      <td>0.000000</td>\n",
       "    </tr>\n",
       "  </tbody>\n",
       "</table>\n",
       "<p>230 rows × 2 columns</p>\n",
       "</div>"
      ],
      "text/plain": [
       "                   fluxes  reduced_costs\n",
       "EX_o2_e         -2.628787       0.000000\n",
       "EX_glc__D_e     -1.700000      -0.058635\n",
       "EX_nh4_e        -1.627332       0.000000\n",
       "EX_pi_e         -0.195111       0.000000\n",
       "EX_so4_e        -0.026408       0.000000\n",
       "...                   ...            ...\n",
       "EX_cys__D_e      0.000000       0.000000\n",
       "EX_gly_asp__L_e  0.000000       0.000000\n",
       "EX_h_e           1.342704       0.000000\n",
       "EX_co2_e         3.039844       0.000000\n",
       "EX_h2o_e         7.121699       0.000000\n",
       "\n",
       "[230 rows x 2 columns]"
      ]
     },
     "execution_count": 12,
     "metadata": {},
     "output_type": "execute_result"
    }
   ],
   "source": [
    "df.loc[[i for i in df.index if \"EX_\" in i]].sort_values(\"fluxes\")"
   ]
  },
  {
   "cell_type": "code",
   "execution_count": 14,
   "id": "867f2851-c8cf-44e3-ac69-f162a480f702",
   "metadata": {},
   "outputs": [],
   "source": [
    "me.reactions.EX_glc__D_e.bounds = (-10,0)"
   ]
  },
  {
   "cell_type": "code",
   "execution_count": 15,
   "id": "3c0e8d25-5a1c-4eb5-986f-7dc368d0d030",
   "metadata": {
    "scrolled": true
   },
   "outputs": [
    {
     "name": "stdout",
     "output_type": "stream",
     "text": [
      "Iteration\t Solution to check\tSolver Status\n",
      "---------\t------------------\t-------------\n",
      "        1\t1.4050280687025918\tNot feasible\n",
      "        2\t0.7025140343512959\tNot feasible\n",
      "        3\t0.3512570171756479\tOptimal\n",
      "        4\t0.5268855257634719\tNot feasible\n",
      "        5\t0.4390712714695599\tOptimal\n",
      "        6\t0.4829783986165159\tNot feasible\n",
      "        7\t0.4610248350430379\tOptimal\n",
      "        8\t0.4720016168297769\tNot feasible\n",
      "        9\t0.4665132259364074\tNot feasible\n",
      "       10\t0.4637690304897227\tNot feasible\n",
      "       11\t0.4623969327663803\tOptimal\n",
      "       12\t0.4630829816280515\tNot feasible\n",
      "       13\t0.4627399571972159\tOptimal\n",
      "       14\t0.4629114694126337\tOptimal\n",
      "       15\t0.4629972255203426\tNot feasible\n",
      "       16\t0.4629543474664882\tNot feasible\n",
      "       17\t0.4629329084395609\tOptimal\n",
      "       18\t0.4629436279530246\tNot feasible\n",
      "       19\t0.4629382681962927\tOptimal\n",
      "       20\t0.4629409480746587\tNot feasible\n",
      "       21\t0.4629396081354757\tNot feasible\n",
      "       22\t0.4629389381658843\tNot feasible\n"
     ]
    },
    {
     "data": {
      "text/plain": [
       "True"
      ]
     },
     "execution_count": 15,
     "metadata": {},
     "output_type": "execute_result"
    }
   ],
   "source": [
    "me.optimize()"
   ]
  },
  {
   "cell_type": "code",
   "execution_count": null,
   "id": "740d6a76-d3ad-45a9-bc4c-5c97defbf4df",
   "metadata": {},
   "outputs": [],
   "source": []
  },
  {
   "cell_type": "code",
   "execution_count": null,
   "id": "bed4f95e-6434-4bad-a764-6c1387330ef1",
   "metadata": {},
   "outputs": [],
   "source": []
  },
  {
   "cell_type": "code",
   "execution_count": null,
   "id": "7eb23544-deb7-470b-b5f8-cd5720a4f6c1",
   "metadata": {},
   "outputs": [],
   "source": [
    "[i for i in me.transcription_data if not i.RNA_polymerase][0].__dict__"
   ]
  },
  {
   "cell_type": "markdown",
   "id": "822d348a-c2bc-4064-a131-db28874b89d2",
   "metadata": {},
   "source": [
    "### Find issue"
   ]
  },
  {
   "cell_type": "code",
   "execution_count": null,
   "id": "0291e591-18b1-4062-89c3-5397efd5ea5d",
   "metadata": {
    "scrolled": true
   },
   "outputs": [],
   "source": [
    "builder.find_issue('')"
   ]
  },
  {
   "cell_type": "markdown",
   "id": "30b60288-f1c3-4aa9-925a-cc12d983a2bd",
   "metadata": {},
   "source": [
    "### Curation notes"
   ]
  },
  {
   "cell_type": "code",
   "execution_count": null,
   "id": "27830dc0-69bc-4331-af3e-08e2d597ec3b",
   "metadata": {
    "scrolled": true
   },
   "outputs": [],
   "source": [
    "builder.curation_notes"
   ]
  }
 ],
 "metadata": {
  "kernelspec": {
   "display_name": "coralme",
   "language": "python",
   "name": "coralme"
  },
  "language_info": {
   "codemirror_mode": {
    "name": "ipython",
    "version": 3
   },
   "file_extension": ".py",
   "mimetype": "text/x-python",
   "name": "python",
   "nbconvert_exporter": "python",
   "pygments_lexer": "ipython3",
   "version": "3.10.12"
  }
 },
 "nbformat": 4,
 "nbformat_minor": 5
}
