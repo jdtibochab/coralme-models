{
 "cells": [
  {
   "cell_type": "code",
   "execution_count": 1,
   "id": "fadf741b-d65e-4c02-a73f-3c1414e848ce",
   "metadata": {
    "ExecuteTime": {
     "end_time": "2022-12-12T06:27:35.182100Z",
     "start_time": "2022-12-12T06:27:35.157355Z"
    }
   },
   "outputs": [
    {
     "data": {
      "text/html": [
       "<style>.container { width:95% !important; }</style>"
      ],
      "text/plain": [
       "<IPython.core.display.HTML object>"
      ]
     },
     "metadata": {},
     "output_type": "display_data"
    }
   ],
   "source": [
    "from IPython.display import display, HTML, Math, Markdown\n",
    "display(HTML(\"<style>.container { width:95% !important; }</style>\"))"
   ]
  },
  {
   "cell_type": "code",
   "execution_count": 2,
   "id": "63414ed1-c7f0-4b1c-9dd0-534c4182f428",
   "metadata": {
    "ExecuteTime": {
     "end_time": "2022-12-12T06:27:36.177441Z",
     "start_time": "2022-12-12T06:27:35.183790Z"
    }
   },
   "outputs": [],
   "source": [
    "import coralme\n",
    "from coralme.builder.main import MEBuilder, MEReconstruction, METroubleshooter\n",
    "from coralme.builder.curation import MECurator, MEManualCuration\n"
   ]
  },
  {
   "cell_type": "code",
   "execution_count": 3,
   "id": "659ca4b2-ac94-4b00-98e8-68fdf89c0b16",
   "metadata": {},
   "outputs": [],
   "source": [
    "org = 'cljungdahlii'\n",
    "organism = './{:s}/organism.json'.format(org)\n",
    "inputs = './{:s}/input.json'.format(org)"
   ]
  },
  {
   "cell_type": "markdown",
   "id": "50f8ec29-232f-4f8a-9143-4ec0f89c3b94",
   "metadata": {},
   "source": [
    "### Full"
   ]
  },
  {
   "cell_type": "code",
   "execution_count": 4,
   "id": "63010c92-3cab-4563-8252-51a4e489ae0e",
   "metadata": {
    "scrolled": true,
    "tags": []
   },
   "outputs": [
    {
     "name": "stdout",
     "output_type": "stream",
     "text": [
      "Set parameter Username\n",
      "Academic license - for non-commercial use only - expires 2024-08-16\n"
     ]
    }
   ],
   "source": [
    "builder = MEBuilder(*[organism, inputs])"
   ]
  },
  {
   "cell_type": "code",
   "execution_count": 5,
   "id": "cd56e9b5-9c24-40ac-bd8b-d1a1d6d23c2a",
   "metadata": {
    "ExecuteTime": {
     "end_time": "2022-12-12T06:30:28.060280Z",
     "start_time": "2022-12-12T06:30:01.706785Z"
    },
    "scrolled": true,
    "tags": []
   },
   "outputs": [
    {
     "name": "stdout",
     "output_type": "stream",
     "text": [
      "Initiating file processing...\n",
      "~ Processing files for cljungdahlii...\n"
     ]
    },
    {
     "name": "stderr",
     "output_type": "stream",
     "text": [
      "Checking M-model metabolites...                                            : 100.0%|██████████|   718/  718 [00:00<00:00]\n",
      "Checking M-model genes...                                                  : 100.0%|██████████|   637/  637 [00:00<00:00]\n",
      "Checking M-model reactions...                                              : 100.0%|██████████|   816/  816 [00:00<00:00]\n",
      "Syncing optional genes file...                                             : 100.0%|██████████|  4360/ 4360 [00:00<00:00]\n",
      "Looking for duplicates within datasets...                                  : 100.0%|██████████|     5/    5 [00:00<00:00]\n",
      "Gathering ID occurrences across datasets...                                : 100.0%|██████████| 10367/10367 [00:00<00:00]\n",
      "Solving duplicates across datasets...                                      : 0.0%|          |     0/    0 [00:00<?]\n",
      "Pruning GenBank...                                                         : 100.0%|██████████|     1/    1 [00:01<00:00]\n",
      "Updating Genbank file with optional files...                               : 100.0%|██████████|  4360/ 4360 [00:00<00:00]\n",
      "Syncing optional files with genbank contigs...                             : 100.0%|██████████|   108/  108 [00:05<00:00]\n",
      "Modifying metabolites with manual curation...                              : 0.0%|          |     0/    0 [00:00<?]\n",
      "Modifying metabolic reactions with manual curation...                      : 100.0%|██████████|    10/   10 [00:00<00:00]\n"
     ]
    },
    {
     "name": "stdout",
     "output_type": "stream",
     "text": [
      "unknown metabolite 'tyr__L_e' created\n",
      "unknown metabolite 'dpm_c' created\n",
      "unknown metabolite '5drib_c' created\n"
     ]
    },
    {
     "name": "stderr",
     "output_type": "stream",
     "text": [
      "Adding manual curation of complexes...                                     : 100.0%|██████████|     3/    3 [00:00<00:00]\n",
      "Getting sigma factors...                                                   : 100.0%|██████████|    25/   25 [00:00<00:00]\n",
      "Getting generics from Genbank contigs...                                   : 100.0%|██████████|   108/  108 [00:00<00:00]\n",
      "Getting TU-gene associations from optional TUs file...                     : 100.0%|██████████|  2904/ 2904 [00:00<00:00]\n",
      "Adding protein location...                                                 : 100.0%|██████████|  5081/ 5081 [00:00<00:00]\n",
      "Purging M-model genes...                                                   : 100.0%|██████████|   638/  638 [00:00<00:00]\n",
      "Getting enzyme-reaction associations...                                    : 100.0%|██████████|   826/  826 [00:00<00:00]\n"
     ]
    },
    {
     "name": "stdout",
     "output_type": "stream",
     "text": [
      "Reading cljungdahlii done.\n"
     ]
    },
    {
     "name": "stderr",
     "output_type": "stream",
     "text": [
      "Gathering M-model compartments...                                          : 100.0%|██████████|     2/    2 [00:00<00:00]\n",
      "Fixing compartments in M-model metabolites...                              : 100.0%|██████████|   721/  721 [00:00<00:00]\n",
      "Fixing missing names in M-model reactions...                               : 100.0%|██████████|   826/  826 [00:00<00:00]\n"
     ]
    },
    {
     "name": "stdout",
     "output_type": "stream",
     "text": [
      "~ Processing files for iJL1678b...\n"
     ]
    },
    {
     "name": "stderr",
     "output_type": "stream",
     "text": [
      "Checking M-model metabolites...                                            : 100.0%|██████████|  1660/ 1660 [00:00<00:00]\n",
      "Checking M-model genes...                                                  : 100.0%|██████████|  1271/ 1271 [00:00<00:00]\n",
      "Checking M-model reactions...                                              : 100.0%|██████████|  2377/ 2377 [00:00<00:00]\n",
      "Looking for duplicates within datasets...                                  : 100.0%|██████████|     5/    5 [00:00<00:00]\n",
      "Gathering ID occurrences across datasets...                                : 100.0%|██████████|  8217/ 8217 [00:00<00:00]\n",
      "Solving duplicates across datasets...                                      : 0.0%|          |     0/    0 [00:00<?]\n",
      "Getting sigma factors...                                                   : 100.0%|██████████|     7/    7 [00:00<00:00]\n",
      "Getting TU-gene associations from optional TUs file...                     : 100.0%|██████████|  2904/ 2904 [00:00<00:00]\n",
      "Adding protein location...                                                 : 100.0%|██████████|  1304/ 1304 [00:00<00:00]\n",
      "Purging M-model genes...                                                   : 100.0%|██████████|  1271/ 1271 [00:00<00:00]\n"
     ]
    },
    {
     "name": "stdout",
     "output_type": "stream",
     "text": [
      "Reading iJL1678b done.\n",
      "~ Running BLAST with 4 threads...\n"
     ]
    },
    {
     "name": "stderr",
     "output_type": "stream",
     "text": [
      "Converting Genbank contigs to FASTA for BLAST...                           : 100.0%|██████████|   108/  108 [00:00<00:00]\n",
      "Converting Genbank contigs to FASTA for BLAST...                           : 100.0%|██████████|     1/    1 [00:00<00:00]\n"
     ]
    },
    {
     "name": "stdout",
     "output_type": "stream",
     "text": [
      "BLAST done.\n"
     ]
    },
    {
     "name": "stderr",
     "output_type": "stream",
     "text": [
      "Updating translocation machinery from homology...                          : 100.0%|██████████|     9/    9 [00:00<00:00]\n",
      "Updating protein location from homology...                                 : 100.0%|██████████|   514/  514 [00:00<00:00]\n",
      "Updating translocation multipliers from homology...                        : 100.0%|██████████|     3/    3 [00:00<00:00]\n",
      "Updating lipoprotein precursors from homology...                           : 100.0%|██████████|    14/   14 [00:00<00:00]\n",
      "Updating cleaved-methionine proteins from homology...                      : 100.0%|██████████|   343/  343 [00:00<00:00]\n",
      "Mapping M-metabolites to E-metabolites...                                  : 100.0%|██████████|   147/  147 [00:00<00:00]\n",
      "Updating generics from homology...                                         : 100.0%|██████████|    10/   10 [00:00<00:00]\n",
      "Updating folding from homology...                                          : 100.0%|██████████|     2/    2 [00:00<00:00]\n",
      "Updating ribosome subreaction machinery from homology...                   : 100.0%|██████████|     3/    3 [00:00<00:00]\n",
      "Updating tRNA synthetases from homology...                                 : 100.0%|██████████|    20/   20 [00:00<00:00]\n",
      "Updating peptide release factors from homology...                          : 100.0%|██████████|     3/    3 [00:00<00:00]\n",
      "Updating transcription subreactions machinery from homology...             : 100.0%|██████████|     4/    4 [00:00<00:00]\n",
      "Updating translation initiation subreactions from homology...              : 100.0%|██████████|     4/    4 [00:00<00:00]\n",
      "Updating translation elongation subreactions from homology...              : 100.0%|██████████|     2/    2 [00:00<00:00]\n",
      "Updating translation termination subreactions from homology...             : 100.0%|██████████|     9/    9 [00:00<00:00]\n",
      "Updating special tRNA subreactions from homology...                        : 100.0%|██████████|     1/    1 [00:00<00:00]\n",
      "Updating RNA degradosome composition from homology...                      : 100.0%|██████████|     1/    1 [00:00<00:00]\n",
      "Updating excision machinery from homology...                               : 100.0%|██████████|     3/    3 [00:00<00:00]\n",
      "Updating tRNA subreactions from homology...                                : 100.0%|██████████|     6/    6 [00:00<00:00]\n",
      "Updating lipid modification machinery from homology...                     : 100.0%|██████████|     2/    2 [00:00<00:00]\n",
      "Fixing M-model metabolites with homology...                                : 100.0%|██████████|   721/  721 [00:00<00:00]\n",
      "Updating enzyme reaction association...                                    : 100.0%|██████████|   663/  663 [00:00<00:00]\n",
      "Checking defined translocation pathways...                                 : 100.0%|██████████|     9/    9 [00:00<00:00]\n",
      "Getting reaction Keffs...                                                  : 100.0%|██████████|   663/  663 [00:00<00:00]\n"
     ]
    },
    {
     "name": "stdout",
     "output_type": "stream",
     "text": [
      "File processing done.\n"
     ]
    }
   ],
   "source": [
    "builder.generate_files(overwrite=True)\n",
    "builder.save_builder_info()"
   ]
  },
  {
   "cell_type": "code",
   "execution_count": 6,
   "id": "a0ca2c09-f407-472d-8902-2964eba510a5",
   "metadata": {
    "ExecuteTime": {
     "end_time": "2022-12-12T06:28:36.607889Z",
     "start_time": "2022-12-12T06:27:59.542579Z"
    },
    "scrolled": true,
    "tags": []
   },
   "outputs": [
    {
     "name": "stdout",
     "output_type": "stream",
     "text": [
      "Initiating ME-model reconstruction...\n"
     ]
    },
    {
     "name": "stderr",
     "output_type": "stream",
     "text": [
      "Adding biomass constraint(s) into the ME-model...                          : 100.0%|██████████|    11/   11 [00:00<00:00]"
     ]
    },
    {
     "name": "stdout",
     "output_type": "stream",
     "text": [
      "Read LP format model from file /tmp/tmpyafyl3f4.lp\n",
      "Reading time = 0.00 seconds\n",
      ": 721 rows, 1652 columns, 7064 nonzeros\n"
     ]
    },
    {
     "name": "stderr",
     "output_type": "stream",
     "text": [
      "\n",
      "Adding Metabolites from M-model into the ME-model...                       : 100.0%|██████████|   747/  747 [00:00<00:00]\n",
      "Adding Reactions from M-model into the ME-model...                         : 100.0%|██████████|   835/  835 [00:00<00:00]\n",
      "Adding Transcriptional Units into the ME-model...                          : 100.0%|██████████|  2904/ 2904 [00:17<00:00]\n",
      "Updating all TranslationReaction and TranscriptionReaction...              : 100.0%|██████████|  7654/ 7654 [00:05<00:00]\n",
      "Removing SubReactions from ComplexData...                                  : 100.0%|██████████|  5735/ 5735 [00:00<00:00]\n",
      "Adding ComplexFormation into the ME-model...                               : 100.0%|██████████|  5735/ 5735 [00:00<00:00]\n",
      "Adding Generic(s) into the ME-model...                                     : 100.0%|██████████|    30/   30 [00:00<00:00]\n",
      "Processing StoichiometricData in ME-model...                               : 100.0%|██████████|   734/  734 [00:00<00:00]\n"
     ]
    },
    {
     "name": "stdout",
     "output_type": "stream",
     "text": [
      "ME-model was saved in the ./cljungdahlii/ directory as MEModel-step1-cljungdahlii.pkl\n"
     ]
    },
    {
     "name": "stderr",
     "output_type": "stream",
     "text": [
      "Adding tRNA synthetase(s) information into the ME-model...                 : 100.0%|██████████|   252/  252 [00:00<00:00]\n",
      "Adding tRNA modification SubReactions...                                   : 100.0%|██████████|    16/   16 [00:00<00:00]\n",
      "Associating tRNA modification enzyme(s) to tRNA(s)...                      : 100.0%|██████████|   370/  370 [00:00<00:00]\n",
      "Adding SubReactions into TranslationReactions...                           : 100.0%|██████████|  4320/ 4320 [00:01<00:00]\n",
      "Adding RNA Polymerase(s) into the ME-model...                              : 100.0%|██████████|    25/   25 [00:00<00:00]\n",
      "Associating a RNA Polymerase to each Transcriptional Unit...               : 100.0%|██████████|  2904/ 2904 [00:00<00:00]\n",
      "Processing ComplexData in ME-model...                                      : 100.0%|██████████|   650/  650 [00:00<00:00]\n",
      "Adding ComplexFormation into the ME-model...                               : 100.0%|██████████|  5766/ 5766 [00:00<00:00]\n",
      "Adding SubReactions into TranslationReactions...                           : 100.0%|██████████|  4320/ 4320 [00:01<00:00]\n",
      "Adding Transcription SubReactions...                                       : 100.0%|██████████|  2970/ 2970 [00:00<00:00]\n",
      "Processing StoichiometricData in SubReactionData...                        : 100.0%|██████████|   179/  179 [00:00<00:00]\n",
      "Adding reaction subsystems from M-model into the ME-model...               : 100.0%|██████████|   835/  835 [00:00<00:00]\n",
      "Processing StoichiometricData in ME-model...                               : 100.0%|██████████|   734/  734 [00:00<00:00]\n",
      "Updating ME-model Reactions...                                             : 100.0%|██████████| 15500/15500 [01:08<00:00]\n",
      "Updating all FormationReactions...                                         : 100.0%|██████████|  5766/ 5766 [00:00<00:00]\n",
      "Recalculation of the elemental contribution in SubReactions...             : 100.0%|██████████|   344/  344 [00:00<00:00]\n",
      "Updating all FormationReactions...                                         : 100.0%|██████████|  5766/ 5766 [00:00<00:00]\n",
      "Updating FormationReactions involving a lipoyl prosthetic group...         : 0.0%|          |     0/    0 [00:00<?]\n",
      "Updating FormationReactions involving a glycyl radical...                  : 100.0%|██████████|     1/    1 [00:00<00:00]\n",
      "Estimating effective turnover rates for reactions using the SASA method... : 100.0%|██████████|  2042/ 2042 [00:00<00:00]\n",
      "Mapping effective turnover rates from user input...                        : 0.0%|          |     0/    0 [00:00<?]\n",
      "Setting the effective turnover rates using user input...                   : 100.0%|██████████|  1894/ 1894 [00:00<00:00]\n",
      "Pruning unnecessary ComplexData reactions...                               : 100.0%|██████████|  5766/ 5766 [00:06<00:00]\n",
      "Pruning unnecessary FoldedProtein reactions...                             : 0.0%|          |     0/    0 [00:00<?]\n",
      "Pruning unnecessary ProcessedProtein reactions...                          : 100.0%|██████████|  4425/ 4425 [00:00<00:00]\n",
      "Pruning unnecessary TranslatedGene reactions...                            : 100.0%|██████████|  4380/ 4380 [00:04<00:00]\n",
      "Pruning unnecessary TranscribedGene reactions...                           : 100.0%|██████████|  4427/ 4427 [00:02<00:00]\n",
      "Pruning unnecessary Transcriptional Units...                               : 100.0%|██████████|  2969/ 2969 [00:02<00:00]\n",
      "Pruning unnecessary ComplexData reactions...                               : 100.0%|██████████|   852/  852 [00:00<00:00]\n",
      "Pruning unnecessary FoldedProtein reactions...                             : 0.0%|          |     0/    0 [00:00<?]\n",
      "Pruning unnecessary ProcessedProtein reactions...                          : 100.0%|██████████|   957/  957 [00:00<00:00]\n",
      "Pruning unnecessary TranslatedGene reactions...                            : 100.0%|██████████|   957/  957 [00:00<00:00]\n",
      "Pruning unnecessary TranscribedGene reactions...                           : 100.0%|██████████|   998/  998 [00:00<00:00]\n",
      "Pruning unnecessary Transcriptional Units...                               : 100.0%|██████████|   645/  645 [00:01<00:00]\n",
      "Pruning unnecessary ComplexData reactions...                               : 100.0%|██████████|   828/  828 [00:00<00:00]\n",
      "Pruning unnecessary FoldedProtein reactions...                             : 0.0%|          |     0/    0 [00:00<?]\n",
      "Pruning unnecessary ProcessedProtein reactions...                          : 100.0%|██████████|   933/  933 [00:00<00:00]\n",
      "Pruning unnecessary TranslatedGene reactions...                            : 100.0%|██████████|   933/  933 [00:00<00:00]\n",
      "Pruning unnecessary TranscribedGene reactions...                           : 100.0%|██████████|   974/  974 [00:00<00:00]\n",
      "Pruning unnecessary Transcriptional Units...                               : 100.0%|██████████|   624/  624 [00:01<00:00]\n"
     ]
    },
    {
     "name": "stdout",
     "output_type": "stream",
     "text": [
      "ME-model was saved in the ./cljungdahlii/ directory as MEModel-step2-cljungdahlii.pkl\n",
      "ME-model reconstruction is done.\n",
      "Number of metabolites in the ME-model is 3577 (+396.12%, from 721)\n",
      "Number of reactions in the ME-model is 5898 (+614.04%, from 826)\n",
      "Number of genes in the ME-model is 972 (+52.35%, from 638)\n"
     ]
    }
   ],
   "source": [
    "builder.build_me_model(overwrite=False)"
   ]
  },
  {
   "cell_type": "code",
   "execution_count": 7,
   "id": "16fff381-4dfa-4c40-b25e-67c791c11304",
   "metadata": {
    "scrolled": true,
    "tags": []
   },
   "outputs": [
    {
     "name": "stdout",
     "output_type": "stream",
     "text": [
      "The MINOS and quad MINOS solvers are a courtesy of Prof Michael A. Saunders. Please cite Ma, D., Yang, L., Fleming, R. et al. Reliable and efficient solution of genome-scale models of Metabolism and macromolecular Expression. Sci Rep 7, 40863 (2017). https://doi.org/10.1038/srep40863\n",
      "\n",
      "~ Troubleshooting started...\n",
      "  Checking if the ME-model can simulate growth without gapfilling reactions...\n",
      "  Original ME-model is feasible with a tested growth rate of 0.001000 1/h\n",
      "~ Final step. Fully optimizing with precision 1e-6 and save solution into the ME-model...\n",
      "  Gapfilled ME-model is feasible with growth rate 0.193273 (M-model: 0.198481).\n",
      "ME-model was saved in the ./cljungdahlii/ directory as MEModel-step3-cljungdahlii-TS.pkl\n"
     ]
    }
   ],
   "source": [
    "builder.troubleshoot(growth_key_and_value = { builder.me_model.mu : 0.001 })"
   ]
  },
  {
   "cell_type": "markdown",
   "id": "4e7f22d1-5230-461e-a37a-e8c64542b62d",
   "metadata": {},
   "source": [
    "### Quick"
   ]
  },
  {
   "cell_type": "code",
   "execution_count": null,
   "id": "ba8fe959-5606-4631-b49a-e9f5e56c4b0c",
   "metadata": {
    "ExecuteTime": {
     "end_time": "2022-12-12T06:30:28.060280Z",
     "start_time": "2022-12-12T06:30:01.706785Z"
    },
    "scrolled": true
   },
   "outputs": [],
   "source": [
    "builder = MEBuilder(*['./{:s}/coralme-config.yaml'.format(org)])"
   ]
  },
  {
   "cell_type": "code",
   "execution_count": null,
   "id": "c2f000ee-bd9a-4bb1-8d8f-ebf0e02bb657",
   "metadata": {
    "ExecuteTime": {
     "end_time": "2022-12-12T06:28:36.607889Z",
     "start_time": "2022-12-12T06:27:59.542579Z"
    },
    "scrolled": true,
    "tags": []
   },
   "outputs": [],
   "source": [
    "builder.build_me_model(overwrite=False, update=True, prune=False)"
   ]
  },
  {
   "cell_type": "code",
   "execution_count": null,
   "id": "4dc1c455-5dc2-489d-8327-050d5f0c580a",
   "metadata": {},
   "outputs": [],
   "source": [
    "builder.troubleshoot(growth_key_and_value = { builder.me_model.mu : 0.001 })"
   ]
  },
  {
   "cell_type": "markdown",
   "id": "4840cacc-f83e-402e-91e7-a8d45ca92bee",
   "metadata": {},
   "source": [
    "### Load builder"
   ]
  },
  {
   "cell_type": "code",
   "execution_count": null,
   "id": "afcd0a3a-182b-424d-8c4c-09af614e3f67",
   "metadata": {
    "ExecuteTime": {
     "end_time": "2022-12-12T06:30:28.060280Z",
     "start_time": "2022-12-12T06:30:01.706785Z"
    },
    "scrolled": true
   },
   "outputs": [],
   "source": [
    "builder = MEBuilder(*['./{:s}/coralme-config.yaml'.format(org)])\n",
    "builder.me_model = builder.load(builder.configuration['out_directory']+'MEModel-step2-{}.pkl'.format(org))"
   ]
  },
  {
   "cell_type": "code",
   "execution_count": null,
   "id": "57648975-9baa-4c5e-bc9e-ae845bef502a",
   "metadata": {},
   "outputs": [],
   "source": [
    "for r in builder.me_model.metabolites.query(\"trnaser_c\")[0].reactions:\n",
    "    print(r.id, r.reaction)"
   ]
  },
  {
   "cell_type": "code",
   "execution_count": null,
   "id": "0291e591-18b1-4062-89c3-5397efd5ea5d",
   "metadata": {},
   "outputs": [],
   "source": [
    "builder.find_issue('')"
   ]
  },
  {
   "cell_type": "markdown",
   "id": "30b60288-f1c3-4aa9-925a-cc12d983a2bd",
   "metadata": {},
   "source": [
    "### Curation notes"
   ]
  },
  {
   "cell_type": "code",
   "execution_count": null,
   "id": "27830dc0-69bc-4331-af3e-08e2d597ec3b",
   "metadata": {},
   "outputs": [],
   "source": [
    "builder.curation_notes"
   ]
  },
  {
   "cell_type": "markdown",
   "id": "1e166c5b-bcd1-4c58-99ec-cfa1a4eab2b5",
   "metadata": {},
   "source": [
    "### Notes"
   ]
  },
  {
   "cell_type": "code",
   "execution_count": null,
   "id": "6ba4e6c6-f46e-4da6-9794-0c5c576778c3",
   "metadata": {},
   "outputs": [],
   "source": [
    "from coralme.builder.helper_functions import *\n",
    "pandas.set_option('display.max_colwidth', None)"
   ]
  },
  {
   "cell_type": "code",
   "execution_count": null,
   "id": "6a303799-818f-41e3-a742-373a479f5f07",
   "metadata": {},
   "outputs": [],
   "source": [
    "import pandas as pd"
   ]
  },
  {
   "cell_type": "code",
   "execution_count": null,
   "id": "9d150441-d4be-4a0d-8b4b-3aa665ef8821",
   "metadata": {},
   "outputs": [],
   "source": [
    "builder = MEBuilder(*['./{:s}/coralme-config.yaml'.format(org)])\n",
    "builder.me_model = builder.load(builder.configuration['out_directory']+'MEModel-step2-{}.pkl'.format(org))\n",
    "me = builder.me_model"
   ]
  },
  {
   "cell_type": "code",
   "execution_count": null,
   "id": "6a56511c-5f6f-464a-a805-2101abe4a0c3",
   "metadata": {
    "scrolled": true,
    "tags": []
   },
   "outputs": [],
   "source": [
    "a = 0\n",
    "for i in me.all_genes:\n",
    "    if not i.functions:\n",
    "        a += 1\n",
    "        print(a)\n",
    "        print(i.id)\n",
    "        print(i.complexes)\n",
    "        print(i.functions)\n",
    "        print()"
   ]
  },
  {
   "cell_type": "code",
   "execution_count": null,
   "id": "6309e320-7842-442a-bfc2-643ce0a870c8",
   "metadata": {},
   "outputs": [],
   "source": [
    "for r in me.get('generic_Def').reactions:\n",
    "    print(r.id)\n",
    "    print(r.metabolites)\n",
    "    print()\n",
    "    break"
   ]
  },
  {
   "cell_type": "code",
   "execution_count": null,
   "id": "38804a7f-6ebb-42d7-9f5c-983b8b634724",
   "metadata": {
    "scrolled": true,
    "tags": []
   },
   "outputs": [],
   "source": [
    "iJL965_genes = list(i for i in pd.read_csv('./clostridium/paper/iJL965_genes.txt')['id'])\n",
    "len(iJL965_genes)"
   ]
  },
  {
   "cell_type": "code",
   "execution_count": null,
   "id": "64dd7728-9e45-4be1-adbf-cdd08ac2c963",
   "metadata": {},
   "outputs": [],
   "source": [
    "coralme_genes = [i.id.split('RNA_')[1] for i in me.all_genes if 'dummy' not in i.id]"
   ]
  },
  {
   "cell_type": "code",
   "execution_count": null,
   "id": "2eaedd0b-2042-4be0-9549-55caa0d10d55",
   "metadata": {},
   "outputs": [],
   "source": [
    "df = pd.read_csv('./clostridium/building_data/builder_info/complexes_df.txt',index_col=0)"
   ]
  },
  {
   "cell_type": "code",
   "execution_count": null,
   "id": "578f6537-7cd5-4d54-afde-9b3e11b77fe0",
   "metadata": {
    "scrolled": true,
    "tags": []
   },
   "outputs": [],
   "source": [
    "notinijl = set(coralme_genes) - set(iJL965_genes)\n",
    "df[df['genes'].str.contains('|'.join([i+'()' for i in notinijl]))]"
   ]
  },
  {
   "cell_type": "code",
   "execution_count": null,
   "id": "8143f4bb-908e-4b50-8df5-51ec63798af1",
   "metadata": {
    "scrolled": true,
    "tags": []
   },
   "outputs": [],
   "source": [
    "notincoral = set(iJL965_genes) - set(coralme_genes)\n",
    "print(len(notincoral)) \n",
    "df[df['genes'].str.contains('|'.join([i+'()' for i in notincoral]))]"
   ]
  },
  {
   "cell_type": "markdown",
   "id": "70617f6b-44c4-4c82-a34b-ba2de8168fc7",
   "metadata": {},
   "source": [
    "Remaining genes that are missing from coralme:\n",
    "* __CLJU_c42660__ and __CLJU_c42670__ have low-quality annotation from Uniprot, and are missing from BioCyc and GenBank. These genes are not needed for ammonia transport, as CPLX-438 performs the same job.\n",
    "* __CLJU_c15890__ and __CLJU_c40080__ are deadend proteins in iJL965-ME, performing no job.\n",
    "* __CLJU_c41100__ is a ribosomal protein in iJL965-ME, but is hypothetical in current annotations.\n"
   ]
  },
  {
   "cell_type": "markdown",
   "id": "a3351386-1fef-4ce3-b80b-79a22b6b0c49",
   "metadata": {},
   "source": [
    "### Find issue"
   ]
  }
 ],
 "metadata": {
  "kernelspec": {
   "display_name": "coralme-1.0.0",
   "language": "python",
   "name": "coralme-1.0.0"
  },
  "language_info": {
   "codemirror_mode": {
    "name": "ipython",
    "version": 3
   },
   "file_extension": ".py",
   "mimetype": "text/x-python",
   "name": "python",
   "nbconvert_exporter": "python",
   "pygments_lexer": "ipython3",
   "version": "3.10.12"
  }
 },
 "nbformat": 4,
 "nbformat_minor": 5
}
