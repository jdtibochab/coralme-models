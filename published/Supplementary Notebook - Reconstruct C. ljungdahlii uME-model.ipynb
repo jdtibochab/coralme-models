{
 "cells": [
  {
   "cell_type": "code",
   "execution_count": null,
   "id": "fadf741b-d65e-4c02-a73f-3c1414e848ce",
   "metadata": {
    "ExecuteTime": {
     "end_time": "2022-12-12T06:27:35.182100Z",
     "start_time": "2022-12-12T06:27:35.157355Z"
    }
   },
   "outputs": [],
   "source": [
    "from IPython.display import display, HTML, Math, Markdown\n",
    "display(HTML(\"<style>.container { width:95% !important; }</style>\"))"
   ]
  },
  {
   "cell_type": "code",
   "execution_count": null,
   "id": "63414ed1-c7f0-4b1c-9dd0-534c4182f428",
   "metadata": {
    "ExecuteTime": {
     "end_time": "2022-12-12T06:27:36.177441Z",
     "start_time": "2022-12-12T06:27:35.183790Z"
    }
   },
   "outputs": [],
   "source": [
    "import coralme\n",
    "from coralme.builder.main import MEBuilder, MEReconstruction, METroubleshooter\n",
    "from coralme.builder.curation import MECurator, MEManualCuration\n"
   ]
  },
  {
   "cell_type": "code",
   "execution_count": null,
   "id": "659ca4b2-ac94-4b00-98e8-68fdf89c0b16",
   "metadata": {},
   "outputs": [],
   "source": [
    "org = 'cljungdahlii'\n",
    "organism = './{:s}/organism.json'.format(org)\n",
    "inputs = './{:s}/input.json'.format(org)"
   ]
  },
  {
   "cell_type": "markdown",
   "id": "50f8ec29-232f-4f8a-9143-4ec0f89c3b94",
   "metadata": {},
   "source": [
    "### Full"
   ]
  },
  {
   "cell_type": "code",
   "execution_count": null,
   "id": "63010c92-3cab-4563-8252-51a4e489ae0e",
   "metadata": {
    "scrolled": true,
    "tags": []
   },
   "outputs": [],
   "source": [
    "builder = MEBuilder(*[organism, inputs])"
   ]
  },
  {
   "cell_type": "code",
   "execution_count": null,
   "id": "cd56e9b5-9c24-40ac-bd8b-d1a1d6d23c2a",
   "metadata": {
    "ExecuteTime": {
     "end_time": "2022-12-12T06:30:28.060280Z",
     "start_time": "2022-12-12T06:30:01.706785Z"
    },
    "scrolled": true,
    "tags": []
   },
   "outputs": [],
   "source": [
    "builder.generate_files(overwrite=True)\n",
    "builder.save_builder_info()"
   ]
  },
  {
   "cell_type": "code",
   "execution_count": null,
   "id": "a0ca2c09-f407-472d-8902-2964eba510a5",
   "metadata": {
    "ExecuteTime": {
     "end_time": "2022-12-12T06:28:36.607889Z",
     "start_time": "2022-12-12T06:27:59.542579Z"
    },
    "scrolled": true,
    "tags": []
   },
   "outputs": [],
   "source": [
    "builder.build_me_model(overwrite=False)"
   ]
  },
  {
   "cell_type": "code",
   "execution_count": null,
   "id": "16fff381-4dfa-4c40-b25e-67c791c11304",
   "metadata": {
    "scrolled": true,
    "tags": []
   },
   "outputs": [],
   "source": [
    "builder.troubleshoot(growth_key_and_value = { builder.me_model.mu : 0.001 })"
   ]
  },
  {
   "cell_type": "markdown",
   "id": "4e7f22d1-5230-461e-a37a-e8c64542b62d",
   "metadata": {},
   "source": [
    "### Quick"
   ]
  },
  {
   "cell_type": "code",
   "execution_count": null,
   "id": "ba8fe959-5606-4631-b49a-e9f5e56c4b0c",
   "metadata": {
    "ExecuteTime": {
     "end_time": "2022-12-12T06:30:28.060280Z",
     "start_time": "2022-12-12T06:30:01.706785Z"
    },
    "scrolled": true
   },
   "outputs": [],
   "source": [
    "builder = MEBuilder(*['./{:s}/coralme-config.yaml'.format(org)])"
   ]
  },
  {
   "cell_type": "code",
   "execution_count": null,
   "id": "c2f000ee-bd9a-4bb1-8d8f-ebf0e02bb657",
   "metadata": {
    "ExecuteTime": {
     "end_time": "2022-12-12T06:28:36.607889Z",
     "start_time": "2022-12-12T06:27:59.542579Z"
    },
    "scrolled": true,
    "tags": []
   },
   "outputs": [],
   "source": [
    "builder.build_me_model(overwrite=False, update=True, prune=False)"
   ]
  },
  {
   "cell_type": "code",
   "execution_count": null,
   "id": "4dc1c455-5dc2-489d-8327-050d5f0c580a",
   "metadata": {},
   "outputs": [],
   "source": [
    "builder.troubleshoot(growth_key_and_value = { builder.me_model.mu : 0.001 })"
   ]
  },
  {
   "cell_type": "markdown",
   "id": "4840cacc-f83e-402e-91e7-a8d45ca92bee",
   "metadata": {},
   "source": [
    "### Load builder"
   ]
  },
  {
   "cell_type": "code",
   "execution_count": null,
   "id": "afcd0a3a-182b-424d-8c4c-09af614e3f67",
   "metadata": {
    "ExecuteTime": {
     "end_time": "2022-12-12T06:30:28.060280Z",
     "start_time": "2022-12-12T06:30:01.706785Z"
    },
    "scrolled": true
   },
   "outputs": [],
   "source": [
    "builder = MEBuilder(*['./{:s}/coralme-config.yaml'.format(org)])\n",
    "builder.me_model = builder.load(builder.configuration['out_directory']+'MEModel-step2-{}.pkl'.format(org))"
   ]
  },
  {
   "cell_type": "code",
   "execution_count": null,
   "id": "57648975-9baa-4c5e-bc9e-ae845bef502a",
   "metadata": {},
   "outputs": [],
   "source": [
    "for r in builder.me_model.metabolites.query(\"trnaser_c\")[0].reactions:\n",
    "    print(r.id, r.reaction)"
   ]
  },
  {
   "cell_type": "code",
   "execution_count": null,
   "id": "0291e591-18b1-4062-89c3-5397efd5ea5d",
   "metadata": {},
   "outputs": [],
   "source": [
    "builder.find_issue('')"
   ]
  },
  {
   "cell_type": "markdown",
   "id": "30b60288-f1c3-4aa9-925a-cc12d983a2bd",
   "metadata": {},
   "source": [
    "### Curation notes"
   ]
  },
  {
   "cell_type": "code",
   "execution_count": null,
   "id": "27830dc0-69bc-4331-af3e-08e2d597ec3b",
   "metadata": {},
   "outputs": [],
   "source": [
    "builder.curation_notes"
   ]
  },
  {
   "cell_type": "markdown",
   "id": "1e166c5b-bcd1-4c58-99ec-cfa1a4eab2b5",
   "metadata": {},
   "source": [
    "### Notes"
   ]
  },
  {
   "cell_type": "code",
   "execution_count": null,
   "id": "6ba4e6c6-f46e-4da6-9794-0c5c576778c3",
   "metadata": {},
   "outputs": [],
   "source": [
    "from coralme.builder.helper_functions import *\n",
    "pandas.set_option('display.max_colwidth', None)"
   ]
  },
  {
   "cell_type": "code",
   "execution_count": null,
   "id": "6a303799-818f-41e3-a742-373a479f5f07",
   "metadata": {},
   "outputs": [],
   "source": [
    "import pandas as pd"
   ]
  },
  {
   "cell_type": "code",
   "execution_count": null,
   "id": "9d150441-d4be-4a0d-8b4b-3aa665ef8821",
   "metadata": {},
   "outputs": [],
   "source": [
    "builder = MEBuilder(*['./{:s}/coralme-config.yaml'.format(org)])\n",
    "builder.me_model = builder.load(builder.configuration['out_directory']+'MEModel-step2-{}.pkl'.format(org))\n",
    "me = builder.me_model"
   ]
  },
  {
   "cell_type": "code",
   "execution_count": null,
   "id": "6a56511c-5f6f-464a-a805-2101abe4a0c3",
   "metadata": {
    "scrolled": true,
    "tags": []
   },
   "outputs": [],
   "source": [
    "a = 0\n",
    "for i in me.all_genes:\n",
    "    if not i.functions:\n",
    "        a += 1\n",
    "        print(a)\n",
    "        print(i.id)\n",
    "        print(i.complexes)\n",
    "        print(i.functions)\n",
    "        print()"
   ]
  },
  {
   "cell_type": "code",
   "execution_count": null,
   "id": "6309e320-7842-442a-bfc2-643ce0a870c8",
   "metadata": {},
   "outputs": [],
   "source": [
    "for r in me.get('generic_Def').reactions:\n",
    "    print(r.id)\n",
    "    print(r.metabolites)\n",
    "    print()\n",
    "    break"
   ]
  },
  {
   "cell_type": "code",
   "execution_count": null,
   "id": "38804a7f-6ebb-42d7-9f5c-983b8b634724",
   "metadata": {
    "scrolled": true,
    "tags": []
   },
   "outputs": [],
   "source": [
    "iJL965_genes = list(i for i in pd.read_csv('./clostridium/paper/iJL965_genes.txt')['id'])\n",
    "len(iJL965_genes)"
   ]
  },
  {
   "cell_type": "code",
   "execution_count": null,
   "id": "64dd7728-9e45-4be1-adbf-cdd08ac2c963",
   "metadata": {},
   "outputs": [],
   "source": [
    "coralme_genes = [i.id.split('RNA_')[1] for i in me.all_genes if 'dummy' not in i.id]"
   ]
  },
  {
   "cell_type": "code",
   "execution_count": null,
   "id": "2eaedd0b-2042-4be0-9549-55caa0d10d55",
   "metadata": {},
   "outputs": [],
   "source": [
    "df = pd.read_csv('./clostridium/building_data/builder_info/complexes_df.txt',index_col=0)"
   ]
  },
  {
   "cell_type": "code",
   "execution_count": null,
   "id": "578f6537-7cd5-4d54-afde-9b3e11b77fe0",
   "metadata": {
    "scrolled": true,
    "tags": []
   },
   "outputs": [],
   "source": [
    "notinijl = set(coralme_genes) - set(iJL965_genes)\n",
    "df[df['genes'].str.contains('|'.join([i+'()' for i in notinijl]))]"
   ]
  },
  {
   "cell_type": "code",
   "execution_count": null,
   "id": "8143f4bb-908e-4b50-8df5-51ec63798af1",
   "metadata": {
    "scrolled": true,
    "tags": []
   },
   "outputs": [],
   "source": [
    "notincoral = set(iJL965_genes) - set(coralme_genes)\n",
    "print(len(notincoral)) \n",
    "df[df['genes'].str.contains('|'.join([i+'()' for i in notincoral]))]"
   ]
  },
  {
   "cell_type": "markdown",
   "id": "70617f6b-44c4-4c82-a34b-ba2de8168fc7",
   "metadata": {},
   "source": [
    "Remaining genes that are missing from coralme:\n",
    "* __CLJU_c42660__ and __CLJU_c42670__ have low-quality annotation from Uniprot, and are missing from BioCyc and GenBank. These genes are not needed for ammonia transport, as CPLX-438 performs the same job.\n",
    "* __CLJU_c15890__ and __CLJU_c40080__ are deadend proteins in iJL965-ME, performing no job.\n",
    "* __CLJU_c41100__ is a ribosomal protein in iJL965-ME, but is hypothetical in current annotations.\n"
   ]
  },
  {
   "cell_type": "markdown",
   "id": "a3351386-1fef-4ce3-b80b-79a22b6b0c49",
   "metadata": {},
   "source": [
    "### Find issue"
   ]
  }
 ],
 "metadata": {
  "kernelspec": {
   "display_name": "coralme",
   "language": "python",
   "name": "coralme"
  },
  "language_info": {
   "codemirror_mode": {
    "name": "ipython",
    "version": 3
   },
   "file_extension": ".py",
   "mimetype": "text/x-python",
   "name": "python",
   "nbconvert_exporter": "python",
   "pygments_lexer": "ipython3",
   "version": "3.10.12"
  }
 },
 "nbformat": 4,
 "nbformat_minor": 5
}
