{
 "cells": [
  {
   "cell_type": "markdown",
   "id": "9a78f70f-057d-49bd-a033-8279965dfa3a",
   "metadata": {},
   "source": [
    "# Simulation at different carbon source uptakes\n",
    "\n",
    "Code for reproducing panels of Figure 4"
   ]
  },
  {
   "cell_type": "markdown",
   "id": "945220f2-3286-4d0f-8ebe-27e5b59945d3",
   "metadata": {},
   "source": [
    "## Setup environment"
   ]
  },
  {
   "cell_type": "code",
   "execution_count": 1,
   "id": "88259670-cc2a-4bce-88a8-7aa820a24c3b",
   "metadata": {
    "ExecuteTime": {
     "end_time": "2022-12-12T06:27:36.177441Z",
     "start_time": "2022-12-12T06:27:35.183790Z"
    }
   },
   "outputs": [],
   "source": [
    "import coralme\n",
    "from coralme.builder.helper_functions import *\n",
    "import pickle\n",
    "import pandas\n",
    "import os\n",
    "import tqdm\n",
    "import json\n",
    "import numpy\n",
    "import sympy"
   ]
  },
  {
   "cell_type": "markdown",
   "id": "a2c12a73-7093-4419-b555-5844f597c560",
   "metadata": {},
   "source": [
    "## Functions to load models"
   ]
  },
  {
   "cell_type": "code",
   "execution_count": 2,
   "id": "1dfe9322-39df-4326-a433-6f85f485a6af",
   "metadata": {},
   "outputs": [],
   "source": [
    "def load_me(filename='me_model.pickle'):\n",
    "    with open(filename, \"rb\") as f:\n",
    "        return pickle.load(f)\n",
    "    \n",
    "def get_org_dirs(directory,files=False):\n",
    "    if files:\n",
    "        return [i for i in os.listdir(directory) if '.pkl' in i]\n",
    "    return [i for i in os.listdir(directory) if os.path.isdir(directory+i) and '.' not in i and '_' not in i]\n",
    "\n",
    "def run(i,directory,files=False,step=2,solve=False):\n",
    "    if files:\n",
    "        modelpath = directory + i\n",
    "    elif step == 2:\n",
    "        modelpath = directory + '{}/MEModel-step2-{}.pkl'.format(i,i)\n",
    "    elif step == 3:\n",
    "        modelpath = directory + '{}/MEModel-step3-{}-TS.pkl'.format(i,i)\n",
    "    model = load_me(modelpath)\n",
    "    if solve:\n",
    "        model.optimize()\n",
    "    return i.split(\".pkl\")[0], model\n",
    "\n",
    "def load_models_from_directory(directory,solve=False, step = 2, files=False):\n",
    "    d = {}\n",
    "    dirs = get_org_dirs(directory,files=files)\n",
    "    for org in tqdm.tqdm(dirs):\n",
    "        args = [org,directory]\n",
    "        kwds = {'files' : files, 'step' : step, 'solve' : solve}\n",
    "        i,model = run(*args,**kwds)\n",
    "        d[i] = model\n",
    "    return d"
   ]
  },
  {
   "cell_type": "markdown",
   "id": "e4da1672-f481-4adf-909a-79ce8e79f71e",
   "metadata": {},
   "source": [
    "## Load dME-models in directory"
   ]
  },
  {
   "cell_type": "code",
   "execution_count": 3,
   "id": "ff9eb697-abb5-4940-9341-8d7c48145bd5",
   "metadata": {
    "scrolled": true,
    "tags": []
   },
   "outputs": [
    {
     "name": "stderr",
     "output_type": "stream",
     "text": [
      "  0%|          | 0/21 [00:00<?, ?it/s]"
     ]
    },
    {
     "name": "stdout",
     "output_type": "stream",
     "text": [
      "Set parameter Username\n",
      "Academic license - for non-commercial use only - expires 2024-08-16\n",
      "Read LP format model from file /tmp/tmphc_08m1s.lp\n",
      "Reading time = 0.00 seconds\n",
      ": 0 rows, 0 columns, 0 nonzeros\n",
      "Read LP format model from file /tmp/tmp5h53gtn1.lp\n",
      "Reading time = 0.00 seconds\n",
      ": 952 rows, 2150 columns, 10008 nonzeros\n",
      "Read LP format model from file /tmp/tmpwt16x2r9.lp\n",
      "Reading time = 0.00 seconds\n",
      ": 957 rows, 2144 columns, 9760 nonzeros\n"
     ]
    },
    {
     "name": "stderr",
     "output_type": "stream",
     "text": [
      "  5%|▍         | 1/21 [00:02<00:50,  2.53s/it]"
     ]
    },
    {
     "name": "stdout",
     "output_type": "stream",
     "text": [
      "Read LP format model from file /tmp/tmprwbz4ca8.lp\n",
      "Reading time = 0.00 seconds\n",
      ": 0 rows, 0 columns, 0 nonzeros\n",
      "Read LP format model from file /tmp/tmpncjfy9f6.lp\n",
      "Reading time = 0.00 seconds\n",
      ": 303 rows, 636 columns, 2922 nonzeros\n",
      "Read LP format model from file /tmp/tmp9axrij6o.lp\n",
      "Reading time = 0.00 seconds\n",
      ": 303 rows, 632 columns, 2910 nonzeros\n"
     ]
    },
    {
     "name": "stderr",
     "output_type": "stream",
     "text": [
      " 10%|▉         | 2/21 [00:03<00:27,  1.44s/it]"
     ]
    },
    {
     "name": "stdout",
     "output_type": "stream",
     "text": [
      "Read LP format model from file /tmp/tmpstb7_1ca.lp\n",
      "Reading time = 0.00 seconds\n",
      ": 0 rows, 0 columns, 0 nonzeros\n",
      "Read LP format model from file /tmp/tmp6svaqqjr.lp\n",
      "Reading time = 0.01 seconds\n",
      ": 1802 rows, 5090 columns, 19612 nonzeros\n",
      "Read LP format model from file /tmp/tmpyzvwc2gt.lp\n",
      "Reading time = 0.00 seconds\n",
      ": 1817 rows, 5084 columns, 19460 nonzeros\n"
     ]
    },
    {
     "name": "stderr",
     "output_type": "stream",
     "text": [
      " 14%|█▍        | 3/21 [00:08<00:57,  3.20s/it]"
     ]
    },
    {
     "name": "stdout",
     "output_type": "stream",
     "text": [
      "Read LP format model from file /tmp/tmp3zusex6h.lp\n",
      "Reading time = 0.00 seconds\n",
      ": 0 rows, 0 columns, 0 nonzeros\n",
      "Read LP format model from file /tmp/tmp56eynkol.lp\n",
      "Reading time = 0.00 seconds\n",
      ": 888 rows, 2030 columns, 8878 nonzeros\n",
      "Read LP format model from file /tmp/tmp3m17pnjv.lp\n",
      "Reading time = 0.00 seconds\n",
      ": 952 rows, 2024 columns, 8836 nonzeros\n"
     ]
    },
    {
     "name": "stderr",
     "output_type": "stream",
     "text": [
      " 19%|█▉        | 4/21 [00:11<00:53,  3.13s/it]"
     ]
    },
    {
     "name": "stdout",
     "output_type": "stream",
     "text": [
      "Read LP format model from file /tmp/tmp63a9_a2m.lp\n",
      "Reading time = 0.00 seconds\n",
      ": 0 rows, 0 columns, 0 nonzeros\n",
      "Read LP format model from file /tmp/tmpdsk8j6s9.lp\n",
      "Reading time = 0.01 seconds\n",
      ": 1914 rows, 5238 columns, 19960 nonzeros\n",
      "Read LP format model from file /tmp/tmpgderitc_.lp\n",
      "Reading time = 0.01 seconds\n",
      ": 1912 rows, 5232 columns, 19796 nonzeros\n"
     ]
    },
    {
     "name": "stderr",
     "output_type": "stream",
     "text": [
      " 24%|██▍       | 5/21 [00:17<01:04,  4.03s/it]"
     ]
    },
    {
     "name": "stdout",
     "output_type": "stream",
     "text": [
      "Read LP format model from file /tmp/tmpdt3pk57k.lp\n",
      "Reading time = 0.00 seconds\n",
      ": 0 rows, 0 columns, 0 nonzeros\n",
      "Read LP format model from file /tmp/tmplwgoclmf.lp\n",
      "Reading time = 0.00 seconds\n",
      ": 768 rows, 1698 columns, 7642 nonzeros\n",
      "Read LP format model from file /tmp/tmpmczc1o93.lp\n",
      "Reading time = 0.00 seconds\n",
      ": 787 rows, 1692 columns, 7596 nonzeros\n"
     ]
    },
    {
     "name": "stderr",
     "output_type": "stream",
     "text": [
      " 29%|██▊       | 6/21 [00:19<00:53,  3.59s/it]"
     ]
    },
    {
     "name": "stdout",
     "output_type": "stream",
     "text": [
      "Read LP format model from file /tmp/tmp5f9nkylp.lp\n",
      "Reading time = 0.00 seconds\n",
      ": 0 rows, 0 columns, 0 nonzeros\n",
      "Read LP format model from file /tmp/tmp68n4h8dl.lp\n",
      "Reading time = 0.00 seconds\n",
      ": 998 rows, 2452 columns, 11474 nonzeros\n",
      "Read LP format model from file /tmp/tmp4izmln2n.lp\n",
      "Reading time = 0.00 seconds\n",
      ": 999 rows, 2448 columns, 11252 nonzeros\n"
     ]
    },
    {
     "name": "stderr",
     "output_type": "stream",
     "text": [
      " 33%|███▎      | 7/21 [00:22<00:45,  3.23s/it]"
     ]
    },
    {
     "name": "stdout",
     "output_type": "stream",
     "text": [
      "Read LP format model from file /tmp/tmpqumheeis.lp\n",
      "Reading time = 0.00 seconds\n",
      ": 0 rows, 0 columns, 0 nonzeros\n",
      "Read LP format model from file /tmp/tmp1ri9mw_5.lp\n",
      "Reading time = 0.00 seconds\n",
      ": 1741 rows, 4344 columns, 15936 nonzeros\n",
      "Read LP format model from file /tmp/tmpm3nane8t.lp\n",
      "Reading time = 0.00 seconds\n",
      ": 1739 rows, 4340 columns, 15792 nonzeros\n"
     ]
    },
    {
     "name": "stderr",
     "output_type": "stream",
     "text": [
      " 38%|███▊      | 8/21 [00:28<00:52,  4.06s/it]"
     ]
    },
    {
     "name": "stdout",
     "output_type": "stream",
     "text": [
      "Read LP format model from file /tmp/tmpzzv993hv.lp\n",
      "Reading time = 0.00 seconds\n",
      ": 0 rows, 0 columns, 0 nonzeros\n",
      "Read LP format model from file /tmp/tmppyz7j9rc.lp\n",
      "Reading time = 0.00 seconds\n",
      ": 649 rows, 1508 columns, 6436 nonzeros\n",
      "Read LP format model from file /tmp/tmp8361ehqj.lp\n",
      "Reading time = 0.00 seconds\n",
      ": 651 rows, 1504 columns, 6386 nonzeros\n"
     ]
    },
    {
     "name": "stderr",
     "output_type": "stream",
     "text": [
      " 43%|████▎     | 9/21 [00:29<00:38,  3.23s/it]"
     ]
    },
    {
     "name": "stdout",
     "output_type": "stream",
     "text": [
      "Read LP format model from file /tmp/tmpjfgv9bw3.lp\n",
      "Reading time = 0.00 seconds\n",
      ": 0 rows, 0 columns, 0 nonzeros\n",
      "Read LP format model from file /tmp/tmphl8rfdxp.lp\n",
      "Reading time = 0.00 seconds\n",
      ": 571 rows, 1304 columns, 5688 nonzeros\n",
      "Read LP format model from file /tmp/tmp_6evwv8i.lp\n",
      "Reading time = 0.00 seconds\n",
      ": 618 rows, 1300 columns, 5572 nonzeros\n"
     ]
    },
    {
     "name": "stderr",
     "output_type": "stream",
     "text": [
      " 48%|████▊     | 10/21 [00:30<00:28,  2.61s/it]"
     ]
    },
    {
     "name": "stdout",
     "output_type": "stream",
     "text": [
      "Read LP format model from file /tmp/tmplnaparzc.lp\n",
      "Reading time = 0.00 seconds\n",
      ": 0 rows, 0 columns, 0 nonzeros\n",
      "Read LP format model from file /tmp/tmpny4zxts6.lp\n",
      "Reading time = 0.00 seconds\n",
      ": 887 rows, 1784 columns, 7394 nonzeros\n",
      "Read LP format model from file /tmp/tmpmzgbg2x4.lp\n",
      "Reading time = 0.00 seconds\n",
      ": 892 rows, 1778 columns, 7256 nonzeros\n"
     ]
    },
    {
     "name": "stderr",
     "output_type": "stream",
     "text": [
      " 52%|█████▏    | 11/21 [00:33<00:27,  2.74s/it]"
     ]
    },
    {
     "name": "stdout",
     "output_type": "stream",
     "text": [
      "Read LP format model from file /tmp/tmp6zm8r6ho.lp\n",
      "Reading time = 0.00 seconds\n",
      ": 0 rows, 0 columns, 0 nonzeros\n",
      "Read LP format model from file /tmp/tmp7nl12dj4.lp\n",
      "Reading time = 0.01 seconds\n",
      ": 2153 rows, 5854 columns, 23272 nonzeros\n",
      "Read LP format model from file /tmp/tmpur2zk7dm.lp\n",
      "Reading time = 0.01 seconds\n",
      ": 2153 rows, 5848 columns, 23040 nonzeros\n"
     ]
    },
    {
     "name": "stderr",
     "output_type": "stream",
     "text": [
      " 57%|█████▋    | 12/21 [00:40<00:35,  3.92s/it]"
     ]
    },
    {
     "name": "stdout",
     "output_type": "stream",
     "text": [
      "Read LP format model from file /tmp/tmpv0yoq6v1.lp\n",
      "Reading time = 0.00 seconds\n",
      ": 0 rows, 0 columns, 0 nonzeros\n",
      "Read LP format model from file /tmp/tmp16zs5d2z.lp\n",
      "Reading time = 0.01 seconds\n",
      ": 1805 rows, 5166 columns, 20366 nonzeros\n",
      "Read LP format model from file /tmp/tmp9djakhmp.lp\n",
      "Reading time = 0.00 seconds\n",
      ": 1805 rows, 5160 columns, 20202 nonzeros\n"
     ]
    },
    {
     "name": "stderr",
     "output_type": "stream",
     "text": [
      " 62%|██████▏   | 13/21 [00:44<00:31,  4.00s/it]"
     ]
    },
    {
     "name": "stdout",
     "output_type": "stream",
     "text": [
      "Read LP format model from file /tmp/tmpl9ij9j_v.lp\n",
      "Reading time = 0.00 seconds\n",
      ": 0 rows, 0 columns, 0 nonzeros\n",
      "Read LP format model from file /tmp/tmpmivuoj67.lp\n",
      "Reading time = 0.00 seconds\n",
      ": 1552 rows, 3922 columns, 14998 nonzeros\n",
      "Read LP format model from file /tmp/tmp3oqry76l.lp\n",
      "Reading time = 0.00 seconds\n",
      ": 1566 rows, 3918 columns, 14868 nonzeros\n"
     ]
    },
    {
     "name": "stderr",
     "output_type": "stream",
     "text": [
      " 67%|██████▋   | 14/21 [00:50<00:30,  4.40s/it]"
     ]
    },
    {
     "name": "stdout",
     "output_type": "stream",
     "text": [
      "Read LP format model from file /tmp/tmpym5gynkx.lp\n",
      "Reading time = 0.00 seconds\n",
      ": 0 rows, 0 columns, 0 nonzeros\n",
      "Read LP format model from file /tmp/tmpa6qwycp2.lp\n",
      "Reading time = 0.00 seconds\n",
      ": 718 rows, 1632 columns, 7016 nonzeros\n",
      "Read LP format model from file /tmp/tmp0iflogrj.lp\n",
      "Reading time = 0.00 seconds\n",
      ": 729 rows, 1628 columns, 6842 nonzeros\n"
     ]
    },
    {
     "name": "stderr",
     "output_type": "stream",
     "text": [
      " 71%|███████▏  | 15/21 [00:51<00:21,  3.54s/it]"
     ]
    },
    {
     "name": "stdout",
     "output_type": "stream",
     "text": [
      "Read LP format model from file /tmp/tmp0yqxrtai.lp\n",
      "Reading time = 0.00 seconds\n",
      ": 0 rows, 0 columns, 0 nonzeros\n",
      "Read LP format model from file /tmp/tmpodzt4i3m.lp\n",
      "Reading time = 0.00 seconds\n",
      ": 1114 rows, 2298 columns, 10154 nonzeros\n",
      "Read LP format model from file /tmp/tmpn5fc6vcc.lp\n",
      "Reading time = 0.00 seconds\n",
      ": 1116 rows, 2292 columns, 9972 nonzeros\n"
     ]
    },
    {
     "name": "stderr",
     "output_type": "stream",
     "text": [
      " 76%|███████▌  | 16/21 [00:53<00:15,  3.06s/it]"
     ]
    },
    {
     "name": "stdout",
     "output_type": "stream",
     "text": [
      "Read LP format model from file /tmp/tmpti961mvt.lp\n",
      "Reading time = 0.00 seconds\n",
      ": 0 rows, 0 columns, 0 nonzeros\n",
      "Read LP format model from file /tmp/tmpx1owixso.lp\n",
      "Reading time = 0.00 seconds\n",
      ": 884 rows, 2458 columns, 10468 nonzeros\n",
      "Read LP format model from file /tmp/tmpljr01obz.lp\n",
      "Reading time = 0.00 seconds\n",
      ": 946 rows, 2452 columns, 10428 nonzeros\n"
     ]
    },
    {
     "name": "stderr",
     "output_type": "stream",
     "text": [
      " 81%|████████  | 17/21 [00:58<00:14,  3.62s/it]"
     ]
    },
    {
     "name": "stdout",
     "output_type": "stream",
     "text": [
      "Read LP format model from file /tmp/tmpi1yg8k_f.lp\n",
      "Reading time = 0.00 seconds\n",
      ": 0 rows, 0 columns, 0 nonzeros\n",
      "Read LP format model from file /tmp/tmppc85tpzc.lp\n",
      "Reading time = 0.00 seconds\n",
      ": 485 rows, 1108 columns, 4628 nonzeros\n",
      "Read LP format model from file /tmp/tmpbjxi5zcp.lp\n",
      "Reading time = 0.00 seconds\n",
      ": 539 rows, 1106 columns, 4516 nonzeros\n"
     ]
    },
    {
     "name": "stderr",
     "output_type": "stream",
     "text": [
      " 86%|████████▌ | 18/21 [00:59<00:08,  2.82s/it]"
     ]
    },
    {
     "name": "stdout",
     "output_type": "stream",
     "text": [
      "Read LP format model from file /tmp/tmpa6md73k_.lp\n",
      "Reading time = 0.00 seconds\n",
      ": 0 rows, 0 columns, 0 nonzeros\n",
      "Read LP format model from file /tmp/tmp70q_b2cj.lp\n",
      "Reading time = 0.00 seconds\n",
      ": 1335 rows, 2910 columns, 12048 nonzeros\n",
      "Read LP format model from file /tmp/tmphza6ad1l.lp\n",
      "Reading time = 0.00 seconds\n",
      ": 1369 rows, 2906 columns, 12024 nonzeros\n"
     ]
    },
    {
     "name": "stderr",
     "output_type": "stream",
     "text": [
      " 90%|█████████ | 19/21 [01:01<00:05,  2.73s/it]"
     ]
    },
    {
     "name": "stdout",
     "output_type": "stream",
     "text": [
      "Read LP format model from file /tmp/tmpr50m00sb.lp\n",
      "Reading time = 0.00 seconds\n",
      ": 0 rows, 0 columns, 0 nonzeros\n",
      "Read LP format model from file /tmp/tmp7nv7ldcb.lp\n",
      "Reading time = 0.00 seconds\n",
      ": 990 rows, 2500 columns, 10478 nonzeros\n",
      "Read LP format model from file /tmp/tmpacr623bo.lp\n",
      "Reading time = 0.00 seconds\n",
      ": 1055 rows, 2496 columns, 10342 nonzeros\n"
     ]
    },
    {
     "name": "stderr",
     "output_type": "stream",
     "text": [
      " 95%|█████████▌| 20/21 [01:07<00:03,  3.54s/it]"
     ]
    },
    {
     "name": "stdout",
     "output_type": "stream",
     "text": [
      "Read LP format model from file /tmp/tmpban492jt.lp\n",
      "Reading time = 0.00 seconds\n",
      ": 0 rows, 0 columns, 0 nonzeros\n",
      "Read LP format model from file /tmp/tmpmior7ocj.lp\n",
      "Reading time = 0.00 seconds\n",
      ": 1109 rows, 2570 columns, 11714 nonzeros\n",
      "Read LP format model from file /tmp/tmp2qb0epku.lp\n",
      "Reading time = 0.00 seconds\n",
      ": 1111 rows, 2564 columns, 11682 nonzeros\n"
     ]
    },
    {
     "name": "stderr",
     "output_type": "stream",
     "text": [
      "100%|██████████| 21/21 [01:10<00:00,  3.35s/it]\n"
     ]
    }
   ],
   "source": [
    "models = {\n",
    "    'clean':load_models_from_directory('./clean/',step=3)\n",
    "         }"
   ]
  },
  {
   "cell_type": "markdown",
   "id": "df593f3e-fc71-4a0b-8ef2-187b5bf0948d",
   "metadata": {},
   "source": [
    "## Save base fluxes"
   ]
  },
  {
   "cell_type": "code",
   "execution_count": 4,
   "id": "05feacaf-6c7d-4183-bdfa-6cd4cdd7cd09",
   "metadata": {},
   "outputs": [],
   "source": [
    "flux_dict = {}\n",
    "for org,model in models[\"clean\"].items():\n",
    "    flux_dict[org] = model.solution.fluxes\n",
    "pandas.DataFrame.from_dict(flux_dict).to_csv(\"./analysis/simulations_base.csv\")"
   ]
  },
  {
   "cell_type": "markdown",
   "id": "344ebb36-2e35-4012-abe8-3e1320a2b601",
   "metadata": {},
   "source": [
    "## Get carbon sources"
   ]
  },
  {
   "cell_type": "code",
   "execution_count": 5,
   "id": "59a9abcb-7e80-4243-82d0-ed3dfddb0f49",
   "metadata": {},
   "outputs": [],
   "source": [
    "def get_exchange(reactions):\n",
    "    l = []\n",
    "    for r in reactions:\n",
    "        if r.flux >= -1e-3:\n",
    "            continue\n",
    "        met = next(i for i in r.reactants)\n",
    "        if \"C\" not in met.elements:\n",
    "            continue\n",
    "        l.append(r)\n",
    "    return l\n",
    "\n",
    "def get_carbon_sources(model):\n",
    "    d = {}\n",
    "    reactions = get_exchange(model.reactions.query(\"^EX_|^TS_\"))\n",
    "    for r in reactions:\n",
    "        met = next(i for i in r.reactants)\n",
    "        d[r] = r.flux * met.elements[\"C\"]\n",
    "    return d"
   ]
  },
  {
   "cell_type": "code",
   "execution_count": 6,
   "id": "50dbc489-f60f-4875-9a2e-871b9f94ccdc",
   "metadata": {
    "scrolled": true,
    "tags": []
   },
   "outputs": [
    {
     "name": "stderr",
     "output_type": "stream",
     "text": [
      "100%|██████████| 21/21 [00:08<00:00,  2.35it/s]\n"
     ]
    }
   ],
   "source": [
    "carbon_sources = {}\n",
    "for org,model in tqdm.tqdm(models['clean'].items()):\n",
    "    carbon_sources[org] = get_carbon_sources(model)"
   ]
  },
  {
   "cell_type": "markdown",
   "id": "4617f2f5-c3e8-485d-a157-33f3a4955098",
   "metadata": {},
   "source": [
    "## Open all previously fixed bounds"
   ]
  },
  {
   "cell_type": "code",
   "execution_count": 7,
   "id": "e30c9777-3dde-4938-9b6c-9ada699b0751",
   "metadata": {
    "scrolled": true,
    "tags": []
   },
   "outputs": [
    {
     "name": "stdout",
     "output_type": "stream",
     "text": [
      "synechocystis\n",
      "EX_co2_e: 1.0 co2_e <=>  (-3.7, 1000.0) (-1000, 1000)\n",
      "\n",
      "mmycoides\n",
      "EX_ac_e: 1.0 ac_e <=>  (-1000.0, 6.9) (-1000, 1000)\n",
      "EX_glc__D_e: 1.0 glc__D_e <=>  (-7.4, 1000.0) (-1000, 1000)\n",
      "EX_glyc_e: 1.0 glyc_e <=>  (-0.193, 1000.0) (-1000, 1000)\n",
      "\n",
      "senterica\n",
      "\n",
      "abaumannii\n",
      "EX_tyr__L_e: 1.0 tyr__L_e <=>  (-10.0, 1000.0) (-1000, 1000)\n",
      "EX_val__L_e: 1.0 val__L_e <=>  (-10.0, 1000.0) (-1000, 1000)\n",
      "EX_ser__D_e: 1.0 ser__D_e <=>  (-10.0, 1000.0) (-1000, 1000)\n",
      "EX_orn_e: 1.0 orn_e <=>  (-10.0, 1000.0) (-1000, 1000)\n",
      "EX_ptrc_e: 1.0 ptrc_e <=>  (-10.0, 1000.0) (-1000, 1000)\n",
      "EX_spmd_e: 1.0 spmd_e <=>  (-10.0, 1000.0) (-1000, 1000)\n",
      "EX_co2_e: 1.0 co2_e <=>  (-10.0, 1000.0) (-1000, 1000)\n",
      "EX_na1_e: 1.0 na1_e <=>  (-10.0, 1000.0) (-1000, 1000)\n",
      "EX_no2_e: 1.0 no2_e <=>  (-10.0, 1000.0) (-1000, 1000)\n",
      "EX_o2_e: 1.0 o2_e <=>  (-10.0, 1000.0) (-1000, 1000)\n",
      "EX_urea_e: 1.0 urea_e <=>  (-10.0, 1000.0) (-1000, 1000)\n",
      "EX_chol_e: 1.0 chol_e <=>  (-10.0, 1000.0) (-1000, 1000)\n",
      "EX_adn_e: 1.0 adn_e <=>  (-10.0, 1000.0) (-1000, 1000)\n",
      "EX_cytd_e: 1.0 cytd_e <=>  (-10.0, 1000.0) (-1000, 1000)\n",
      "EX_dad_2_e: 1.0 dad_2_e <=>  (-10.0, 1000.0) (-1000, 1000)\n",
      "EX_dcyt_e: 1.0 dcyt_e <=>  (-10.0, 1000.0) (-1000, 1000)\n",
      "EX_dgsn_e: 1.0 dgsn_e <=>  (-10.0, 1000.0) (-1000, 1000)\n",
      "EX_thymd_e: 1.0 thymd_e <=>  (-10.0, 1000.0) (-1000, 1000)\n",
      "EX_duri_e: 1.0 duri_e <=>  (-10.0, 1000.0) (-1000, 1000)\n",
      "EX_h_e: 1.0 h_e <=>  (-10.0, 1000.0) (-1000, 1000)\n",
      "EX_malt_e: 1.0 malt_e <=>  (-10.0, 1000.0) (-1000, 1000)\n",
      "EX_fru_e: 1.0 fru_e <=>  (-10.0, 1000.0) (-1000, 1000)\n",
      "EX_glc__D_e: 1.0 glc__D_e <=>  (-10.0, 1000.0) (-1000, 1000)\n",
      "EX_glcn__D_e: 1.0 glcn__D_e <=>  (-10.0, 1000.0) (-1000, 1000)\n",
      "EX_mnl_e: 1.0 mnl_e <=>  (-10.0, 1000.0) (-1000, 1000)\n",
      "EX_acgam_e: 1.0 acgam_e <=>  (-10.0, 1000.0) (-1000, 1000)\n",
      "EX_gsn_e: 1.0 gsn_e <=>  (-10.0, 1000.0) (-1000, 1000)\n",
      "EX_uri_e: 1.0 uri_e <=>  (-10.0, 1000.0) (-1000, 1000)\n",
      "EX_csn_e: 1.0 csn_e <=>  (-10.0, 1000.0) (-1000, 1000)\n",
      "EX_xan_e: 1.0 xan_e <=>  (-10.0, 1000.0) (-1000, 1000)\n",
      "EX_ura_e: 1.0 ura_e <=>  (-10.0, 1000.0) (-1000, 1000)\n",
      "EX_taur_e: 1.0 taur_e <=>  (-10.0, 1000.0) (-1000, 1000)\n",
      "EX_etha_e: 1.0 etha_e <=>  (-10.0, 1000.0) (-1000, 1000)\n",
      "EX_sucr_e: 1.0 sucr_e <=>  (-10.0, 1000.0) (-1000, 1000)\n",
      "EX_tre_e: 1.0 tre_e <=>  (-10.0, 1000.0) (-1000, 1000)\n",
      "EX_2pg_e: 1.0 2pg_e <=>  (-10.0, 1000.0) (-1000, 1000)\n",
      "EX_glyb_e: 1.0 glyb_e <=>  (-10.0, 1000.0) (-1000, 1000)\n",
      "EX_bz_e: 1.0 bz_e <=>  (-10.0, 1000.0) (-1000, 1000)\n",
      "EX_3pg_e: 1.0 3pg_e <=>  (-10.0, 1000.0) (-1000, 1000)\n",
      "EX_ac_e: 1.0 ac_e <=>  (-10.0, 1000.0) (-1000, 1000)\n",
      "EX_akg_e: 1.0 akg_e <=>  (-10.0, 1000.0) (-1000, 1000)\n",
      "EX_cit_e: 1.0 cit_e <=>  (-10.0, 1000.0) (-1000, 1000)\n",
      "EX_for_e: 1.0 for_e <=>  (-10.0, 1000.0) (-1000, 1000)\n",
      "EX_fum_e: 1.0 fum_e <=>  (-10.0, 1000.0) (-1000, 1000)\n",
      "EX_succ_e: 1.0 succ_e <=>  (-10.0, 1000.0) (-1000, 1000)\n",
      "EX_icit_e: 1.0 icit_e <=>  (-10.0, 1000.0) (-1000, 1000)\n",
      "EX_mal__L_e: 1.0 mal__L_e <=>  (-10.0, 1000.0) (-1000, 1000)\n",
      "EX_glyclt_e: 1.0 glyclt_e <=>  (-10.0, 1000.0) (-1000, 1000)\n",
      "EX_no3_e: 1.0 no3_e <=>  (-10.0, 1000.0) (-1000, 1000)\n",
      "EX_pi_e: 1.0 pi_e <=>  (-10.0, 1000.0) (-1000, 1000)\n",
      "EX_so4_e: 1.0 so4_e <=>  (-10.0, 1000.0) (-1000, 1000)\n",
      "EX_ala__L_e: 1.0 ala__L_e <=>  (-10.0, 1000.0) (-1000, 1000)\n",
      "EX_arg__L_e: 1.0 arg__L_e <=>  (-10.0, 1000.0) (-1000, 1000)\n",
      "EX_asn__L_e: 1.0 asn__L_e <=>  (-10.0, 1000.0) (-1000, 1000)\n",
      "EX_asp__L_e: 1.0 asp__L_e <=>  (-10.0, 1000.0) (-1000, 1000)\n",
      "EX_cys__L_e: 1.0 cys__L_e <=>  (-10.0, 1000.0) (-1000, 1000)\n",
      "EX_ala__D_e: 1.0 ala__D_e <=>  (-10.0, 1000.0) (-1000, 1000)\n",
      "EX_glu__D_e: 1.0 glu__D_e <=>  (-10.0, 1000.0) (-1000, 1000)\n",
      "EX_gln__L_e: 1.0 gln__L_e <=>  (-10.0, 1000.0) (-1000, 1000)\n",
      "EX_glu__L_e: 1.0 glu__L_e <=>  (-10.0, 1000.0) (-1000, 1000)\n",
      "EX_gly_e: 1.0 gly_e <=>  (-10.0, 1000.0) (-1000, 1000)\n",
      "EX_his__L_e: 1.0 his__L_e <=>  (-10.0, 1000.0) (-1000, 1000)\n",
      "EX_ile__L_e: 1.0 ile__L_e <=>  (-10.0, 1000.0) (-1000, 1000)\n",
      "EX_leu__L_e: 1.0 leu__L_e <=>  (-10.0, 1000.0) (-1000, 1000)\n",
      "EX_lys__L_e: 1.0 lys__L_e <=>  (-10.0, 1000.0) (-1000, 1000)\n",
      "EX_met__L_e: 1.0 met__L_e <=>  (-10.0, 1000.0) (-1000, 1000)\n",
      "EX_phe__L_e: 1.0 phe__L_e <=>  (-10.0, 1000.0) (-1000, 1000)\n",
      "EX_pro__L_e: 1.0 pro__L_e <=>  (-10.0, 1000.0) (-1000, 1000)\n",
      "EX_cl_e: 1.0 cl_e <=>  (-10.0, 1000.0) (-1000, 1000)\n",
      "EX_ser__L_e: 1.0 ser__L_e <=>  (-10.0, 1000.0) (-1000, 1000)\n",
      "EX_thr__L_e: 1.0 thr__L_e <=>  (-10.0, 1000.0) (-1000, 1000)\n",
      "EX_trp__L_e: 1.0 trp__L_e <=>  (-10.0, 1000.0) (-1000, 1000)\n",
      "EX_mg2_e: 1.0 mg2_e <=>  (-10.0, 1000.0) (-1000, 1000)\n",
      "EX_h2o_e: 1.0 h2o_e <=>  (-10.0, 1000.0) (-1000, 1000)\n",
      "EX_nh4_e: 1.0 nh4_e <=>  (-10.0, 1000.0) (-1000, 1000)\n",
      "EX_arab__L_e: 1.0 arab__L_e <=>  (-10.0, 1000.0) (-1000, 1000)\n",
      "EX_glcr_e: 1.0 glcr_e <=>  (-10.0, 1000.0) (-1000, 1000)\n",
      "EX_gal_e: 1.0 gal_e <=>  (-10.0, 1000.0) (-1000, 1000)\n",
      "EX_man_e: 1.0 man_e <=>  (-10.0, 1000.0) (-1000, 1000)\n",
      "EX_galt_e: 1.0 galt_e <=>  (-10.0, 1000.0) (-1000, 1000)\n",
      "EX_sbt__D_e: 1.0 sbt__D_e <=>  (-10.0, 1000.0) (-1000, 1000)\n",
      "EX_glyc_e: 1.0 glyc_e <=>  (-10.0, 1000.0) (-1000, 1000)\n",
      "EX_fuc__L_e: 1.0 fuc__L_e <=>  (-10.0, 1000.0) (-1000, 1000)\n",
      "EX_glcn_e: 1.0 glcn_e <=>  (-10.0, 1000.0) (-1000, 1000)\n",
      "EX_glyc3p_e: 1.0 glyc3p_e <=>  (-10.0, 1000.0) (-1000, 1000)\n",
      "EX_xyl__D_e: 1.0 xyl__D_e <=>  (-10.0, 1000.0) (-1000, 1000)\n",
      "EX_lac__L_e: 1.0 lac__L_e <=>  (-10.0, 1000.0) (-1000, 1000)\n",
      "EX_g6p_e: 1.0 g6p_e <=>  (-10.0, 1000.0) (-1000, 1000)\n",
      "EX_rib__D_e: 1.0 rib__D_e <=>  (-10.0, 1000.0) (-1000, 1000)\n",
      "EX_rmn_e: 1.0 rmn_e <=>  (-10.0, 1000.0) (-1000, 1000)\n",
      "EX_melib_e: 1.0 melib_e <=>  (-10.0, 1000.0) (-1000, 1000)\n",
      "EX_asp__D_e: 1.0 asp__D_e <=>  (-10.0, 1000.0) (-1000, 1000)\n",
      "EX_gam_e: 1.0 gam_e <=>  (-10.0, 1000.0) (-1000, 1000)\n",
      "EX_13ppd_e: 1.0 13ppd_e <=>  (-10.0, 1000.0) (-1000, 1000)\n",
      "EX_2obut_e: 1.0 2obut_e <=>  (-10.0, 1000.0) (-1000, 1000)\n",
      "EX_tartr__L_e: 1.0 tartr__L_e <=>  (-10.0, 1000.0) (-1000, 1000)\n",
      "EX_g1p_e: 1.0 g1p_e <=>  (-10.0, 1000.0) (-1000, 1000)\n",
      "EX_f6p_e: 1.0 f6p_e <=>  (-10.0, 1000.0) (-1000, 1000)\n",
      "EX_mbdg_e: 1.0 mbdg_e <=>  (-10.0, 1000.0) (-1000, 1000)\n",
      "EX_rbt_e: 1.0 rbt_e <=>  (-10.0, 1000.0) (-1000, 1000)\n",
      "EX_malttr_e: 1.0 malttr_e <=>  (-10.0, 1000.0) (-1000, 1000)\n",
      "EX_inost_e: 1.0 inost_e <=>  (-10.0, 1000.0) (-1000, 1000)\n",
      "EX_ppa_e: 1.0 ppa_e <=>  (-10.0, 1000.0) (-1000, 1000)\n",
      "EX_galct__D_e: 1.0 galct__D_e <=>  (-10.0, 1000.0) (-1000, 1000)\n",
      "EX_glx_e: 1.0 glx_e <=>  (-10.0, 1000.0) (-1000, 1000)\n",
      "EX_ins_e: 1.0 ins_e <=>  (-10.0, 1000.0) (-1000, 1000)\n",
      "EX_gly_glu__L_e: 1.0 gly_glu__L_e <=>  (-10.0, 1000.0) (-1000, 1000)\n",
      "EX_acac_e: 1.0 acac_e <=>  (-10.0, 1000.0) (-1000, 1000)\n",
      "EX_acmana_e: 1.0 acmana_e <=>  (-10.0, 1000.0) (-1000, 1000)\n",
      "EX_mal__D_e: 1.0 mal__D_e <=>  (-10.0, 1000.0) (-1000, 1000)\n",
      "EX_4hoxpac_e: 1.0 4hoxpac_e <=>  (-10.0, 1000.0) (-1000, 1000)\n",
      "EX_3hoxpac_e: 1.0 3hoxpac_e <=>  (-10.0, 1000.0) (-1000, 1000)\n",
      "EX_tym_e: 1.0 tym_e <=>  (-10.0, 1000.0) (-1000, 1000)\n",
      "EX_all__D_e: 1.0 all__D_e <=>  (-10.0, 1000.0) (-1000, 1000)\n",
      "EX_lyx__L_e: 1.0 lyx__L_e <=>  (-10.0, 1000.0) (-1000, 1000)\n",
      "EX_pyr_e: 1.0 pyr_e <=>  (-10.0, 1000.0) (-1000, 1000)\n",
      "EX_galur_e: 1.0 galur_e <=>  (-10.0, 1000.0) (-1000, 1000)\n",
      "EX_peamn_e: 1.0 peamn_e <=>  (-10.0, 1000.0) (-1000, 1000)\n",
      "EX_lcts_e: 1.0 lcts_e <=>  (-10.0, 1000.0) (-1000, 1000)\n",
      "\n",
      "sflexneri\n",
      "EX_glc__D_e: 1.0 glc__D_e <=>  (-10.0, 1000.0) (-1000, 1000)\n",
      "EX_nac_e: 1.0 nac_e <=>  (-1.0, 1000.0) (-1000, 1000)\n",
      "EX_cbl1_e: 1.0 cbl1_e <=>  (-0.01, 1000.0) (-1000, 1000)\n",
      "\n",
      "selongatus\n",
      "EX_hco3_e: 1.0 hco3_e <=>  (-1.99, 1000.0) (-1000, 1000)\n",
      "EX_mn2_e: 1.0 mn2_e <=>  (-0.0009, 1000.0) (-1000, 1000)\n",
      "EX_mg2_e: 1.0 mg2_e <=>  (-0.03, 1000.0) (-1000, 1000)\n",
      "EX_ca2_e: 1.0 ca2_e <=>  (-0.024, 1000.0) (-1000, 1000)\n",
      "EX_nh4_e: 1.0 nh4_e <=>  (-0.0031, 1000.0) (-1000, 1000)\n",
      "EX_cu2_e: 1.0 cu2_e <=>  (-3e-05, 1000.0) (-1000, 1000)\n",
      "EX_k_e: 1.0 k_e <=>  (-0.046, 1000.0) (-1000, 1000)\n",
      "EX_h2o_e: 1.0 h2o_e <=>  (-100.0, 1000.0) (-1000, 1000)\n",
      "EX_o2_e: 1.0 o2_e <=>  (-100.0, 1000.0) (-1000, 1000)\n",
      "EX_co2_e: 1.0 co2_e <=>  (-1.99, 1000.0) (-1000, 1000)\n",
      "EX_cobalt2_e: 1.0 cobalt2_e <=>  (-1.7e-05, 1000.0) (-1000, 1000)\n",
      "EX_no3_e: 1.0 no3_e <=>  (-1.76, 1000.0) (-1000, 1000)\n",
      "EX_zn2_e: 1.0 zn2_e <=>  (-7.7e-05, 1000.0) (-1000, 1000)\n",
      "EX_fe3_e: 1.0 fe3_e <=>  (-0.001, 1000.0) (-1000, 1000)\n",
      "EX_so4_e: 1.0 so4_e <=>  (-0.03, 1000.0) (-1000, 1000)\n",
      "EX_mobd_e: 1.0 mobd_e <=>  (-0.00016, 1000.0) (-1000, 1000)\n",
      "EX_na1_e: 1.0 na1_e <=>  (-1.79854, 1000.0) (-1000, 1000)\n",
      "EX_h_e: 1.0 h_e <=>  (-100.0, 1000.0) (-1000, 1000)\n",
      "EX_pi_e: 1.0 pi_e <=>  (-0.023, 1000.0) (-1000, 1000)\n",
      "\n",
      "mtuberculosis\n",
      "EX_nh4_e: 1.0 nh4_e <=>  (-10.0, 1000.0) (-1000, 1000)\n",
      "EX_o2_e: 1.0 o2_e <=>  (-20.0, 1000.0) (-1000, 1000)\n",
      "EX_pi_e: 1.0 pi_e <=>  (-1.0, 1000.0) (-1000, 1000)\n",
      "EX_asn__L_e: 1.0 asn__L_e <=>  (-1.0, 1000.0) (-1000, 1000)\n",
      "EX_cit_e: 1.0 cit_e <=>  (-1.0, 1000.0) (-1000, 1000)\n",
      "EX_fe3_e: 1.0 fe3_e <=>  (-5.0, 1000.0) (-1000, 1000)\n",
      "EX_glyc_e: 1.0 glyc_e <=>  (-1.0, 1000.0) (-1000, 1000)\n",
      "EX_chsterol_e: 1.0 chsterol_e <=>  (-1.0, 1000.0) (-1000, 1000)\n",
      "EX_etoh_e: 1.0 etoh_e <=>  (-1.0, 1000.0) (-1000, 1000)\n",
      "\n",
      "vcholerae\n",
      "EX_cbl1(e): 1.0 cbl1_e <=>  (-0.01, 1000000.0) (-1000, 1000)\n",
      "EX_glc-D(e): 1.0 glc-D_e <=>  (-20.0, 1000000.0) (-1000, 1000)\n",
      "EX_o2(e): 1.0 o2_e <=>  (-20.0, 1000000.0) (-1000, 1000)\n",
      "\n",
      "lcremoris\n",
      "EX_4abz_e: 1.0 4abz_e <=>  (-0.00999, 1000.0) (-1000, 1000)\n",
      "EX_ade_e: 1.0 ade_e <=>  (-0.01014, 1000.0) (-1000, 1000)\n",
      "EX_ala__L_e: 1.0 ala__L_e <--  (-0.04, 0.0) (-1000, 0)\n",
      "EX_asp__L_e: 1.0 asp__L_e <=>  (-0.01, 0.05) (-1000, 1000)\n",
      "EX_cys__L_e: 1.0 cys__L_e <--  (-0.02, 0.0) (-1000, 0)\n",
      "EX_gly_e: 1.0 gly_e <--  (-0.04, 0.0) (-1000, 0)\n",
      "EX_gua_e: 1.0 gua_e <=>  (-0.00906, 1000.0) (-1000, 1000)\n",
      "EX_his__L_e: 1.0 his__L_e <--  (-0.01, 0.0) (-1000, 0)\n",
      "EX_ins_e: 1.0 ins_e <=>  (-0.00255, 1000.0) (-1000, 1000)\n",
      "EX_lys__L_e: 1.0 lys__L_e <--  (-0.04, 0.0) (-1000, 0)\n",
      "EX_met__L_e: 1.0 met__L_e <--  (-0.01, 0.0) (-1000, 0)\n",
      "EX_nac_e: 1.0 nac_e <=>  (-0.00111, 1000.0) (-1000, 1000)\n",
      "EX_nh4_e: 1.0 nh4_e <=>  (-0.59, 0.44) (-1000, 1000)\n",
      "EX_orn__L_e: 1.0 orn__L_e -->  (0.0, 0.01) (0, 1000)\n",
      "EX_orot_e: 1.0 orot_e <=>  (-0.00439, 1000.0) (-1000, 1000)\n",
      "EX_phe__L_e: 1.0 phe__L_e <=>  (-0.02, 0.01) (-1000, 1000)\n",
      "EX_pnto__R_e: 1.0 pnto__R_e <=>  (-0.00062, 1000.0) (-1000, 1000)\n",
      "EX_ribflv_e: 1.0 ribflv_e <=>  (-0.00036, 1000.0) (-1000, 1000)\n",
      "EX_thm_e: 1.0 thm_e <=>  (-0.00041, 1000.0) (-1000, 1000)\n",
      "EX_thymd_e: 1.0 thymd_e <=>  (-0.00283, 1000.0) (-1000, 1000)\n",
      "EX_tyr__L_e: 1.0 tyr__L_e -->  (0.0, 0.01) (0, 1000)\n",
      "EX_ura_e: 1.0 ura_e <=>  (-0.01222, 1000.0) (-1000, 1000)\n",
      "EX_xan_e: 1.0 xan_e <=>  (-0.00901, 1000.0) (-1000, 1000)\n",
      "\n",
      "tmaritima\n",
      "EX_fe2_e: 1.0 fe2_e <=>  (-3.5970369e-05, 1000.0) (-1000, 1000)\n",
      "EX_hco3_e: 1.0 hco3_e <=>  (-2.97594, 1000.0) (-1000, 1000)\n",
      "EX_k_e: 1.0 k_e <=>  (-2.14823, 1000.0) (-1000, 1000)\n",
      "EX_malt_e: 1.0 malt_e <=>  (-2.794, 1000.0) (-1000, 1000)\n",
      "EX_mg2_e: 1.0 mg2_e <=>  (-9.837, 1000.0) (-1000, 1000)\n",
      "EX_na1_e: 1.0 na1_e <=>  (-295.818, 1000.0) (-1000, 1000)\n",
      "EX_nh4_e: 1.0 nh4_e <=>  (-18.694, 1000.0) (-1000, 1000)\n",
      "EX_pi_e: 1.0 pi_e <=>  (-0.803794368, 1000.0) (-1000, 1000)\n",
      "EX_s_e: 1.0 s_e <=>  (-4.0, 1000.0) (-1000, 1000)\n",
      "EX_zn2_e: 1.0 zn2_e <=>  (-9.53876e-05, 1000.0) (-1000, 1000)\n",
      "\n",
      "lcrescens\n",
      "EX_akg_e: 1.0 akg_e <=>  (-0.35, 1000.0) (-1000, 1000)\n",
      "EX_ala__L_e: 1.0 ala__L_e <=>  (-0.13, 1000.0) (-1000, 1000)\n",
      "EX_arg__L_e: 1.0 arg__L_e <=>  (-0.516, 1000.0) (-1000, 1000)\n",
      "EX_asp__L_e: 1.0 asp__L_e <=>  (-0.212, 1000.0) (-1000, 1000)\n",
      "EX_cobalt2_e: 1.0 cobalt2_e <=>  (-100.0, 1000.0) (-1000, 1000)\n",
      "EX_cys__L_e: 1.0 cys__L_e <=>  (-0.016, 1000.0) (-1000, 1000)\n",
      "EX_fe2_e: 1.0 fe2_e <=>  (-100.0, 1000.0) (-1000, 1000)\n",
      "EX_glc__D_e: 1.0 glc__D_e <=>  (-20.0, 1000.0) (-1000, 1000)\n",
      "EX_glu__L_e: 1.0 glu__L_e <=>  (-0.436, 1000.0) (-1000, 1000)\n",
      "EX_gly_e: 1.0 gly_e <=>  (-0.249, 1000.0) (-1000, 1000)\n",
      "EX_glyb_e: 1.0 glyb_e <=>  (-0.05, 1000.0) (-1000, 1000)\n",
      "EX_h2_e: 1.0 h2_e <=>  (-100.0, 1000.0) (-1000, 1000)\n",
      "EX_h2o_e: 1.0 h2o_e <=>  (-100.0, 1000.0) (-1000, 1000)\n",
      "EX_h_e: 1.0 h_e <=>  (-100.0, 1000.0) (-1000, 1000)\n",
      "EX_his__L_e: 1.0 his__L_e <=>  (-0.687, 1000.0) (-1000, 1000)\n",
      "EX_ile__L_e: 1.0 ile__L_e <=>  (-0.199, 1000.0) (-1000, 1000)\n",
      "EX_leu__L_e: 1.0 leu__L_e <=>  (-0.172, 1000.0) (-1000, 1000)\n",
      "EX_lys__L_e: 1.0 lys__L_e <=>  (-0.425, 1000.0) (-1000, 1000)\n",
      "EX_met__L_e: 1.0 met__L_e <=>  (-0.197, 1000.0) (-1000, 1000)\n",
      "EX_na1_e: 1.0 na1_e <=>  (-100.0, 1000.0) (-1000, 1000)\n",
      "EX_nh4_e: 1.0 nh4_e <=>  (-100.0, 1000.0) (-1000, 1000)\n",
      "EX_o2_e: 1.0 o2_e <=>  (-0.015, 1000.0) (-1000, 1000)\n",
      "EX_orn_e: 1.0 orn_e <=>  (-0.25, 1000.0) (-1000, 1000)\n",
      "EX_phe__L_e: 1.0 phe__L_e <=>  (-0.229, 1000.0) (-1000, 1000)\n",
      "EX_pi_e: 1.0 pi_e <=>  (-100.0, 1000.0) (-1000, 1000)\n",
      "EX_pro__L_e: 1.0 pro__L_e <=>  (-0.273, 1000.0) (-1000, 1000)\n",
      "EX_ser__L_e: 1.0 ser__L_e <=>  (-0.274, 1000.0) (-1000, 1000)\n",
      "EX_so4_e: 1.0 so4_e <=>  (-100.0, 1000.0) (-1000, 1000)\n",
      "EX_thr__L_e: 1.0 thr__L_e <=>  (-0.133, 1000.0) (-1000, 1000)\n",
      "EX_tyr__L_e: 1.0 tyr__L_e <=>  (-0.114, 1000.0) (-1000, 1000)\n",
      "EX_val__L_e: 1.0 val__L_e <=>  (-0.187, 1000.0) (-1000, 1000)\n",
      "EX_gln__L_e: 1.0 gln__L_e <=>  (-0.104, 1000.0) (-1000, 1000)\n",
      "EX_asn__L_e: 1.0 asn__L_e <=>  (-0.238, 1000.0) (-1000, 1000)\n",
      "EX_trp__L_e: 1.0 trp__L_e <=>  (-0.108, 1000.0) (-1000, 1000)\n",
      "EX_urea_e: 1.0 urea_e <=>  (-0.2, 1000.0) (-1000, 1000)\n",
      "\n",
      "pputida\n",
      "EX_ca2_e: 1.0 ca2_e <=>  (-10.0, 999999.0) (-1000, 1000)\n",
      "EX_cl_e: 1.0 cl_e <=>  (-10.0, 999999.0) (-1000, 1000)\n",
      "EX_co2_e: 1.0 co2_e <=>  (-100.0, 999999.0) (-1000, 1000)\n",
      "EX_cobalt2_e: 1.0 cobalt2_e <=>  (-10.0, 999999.0) (-1000, 1000)\n",
      "EX_cu2_e: 1.0 cu2_e <=>  (-10.0, 999999.0) (-1000, 1000)\n",
      "EX_fe2_e: 1.0 fe2_e <=>  (-10.0, 999999.0) (-1000, 1000)\n",
      "EX_glc__D_e: 1.0 glc__D_e <=>  (-6.0, 1000.0) (-1000, 1000)\n",
      "EX_h2o_e: 1.0 h2o_e <=>  (-100.0, 999999.0) (-1000, 1000)\n",
      "EX_h_e: 1.0 h_e <=>  (-100.0, 999999.0) (-1000, 1000)\n",
      "EX_hco3_e: 1.0 hco3_e <=>  (-10.0, 999999.0) (-1000, 1000)\n",
      "EX_k_e: 1.0 k_e <=>  (-10.0, 999999.0) (-1000, 1000)\n",
      "EX_mg2_e: 1.0 mg2_e <=>  (-10.0, 999999.0) (-1000, 1000)\n",
      "EX_mn2_e: 1.0 mn2_e <=>  (-10.0, 999999.0) (-1000, 1000)\n",
      "EX_mobd_e: 1.0 mobd_e <=>  (-10.0, 999999.0) (-1000, 1000)\n",
      "EX_na1_e: 1.0 na1_e <=>  (-10.0, 999999.0) (-1000, 1000)\n",
      "EX_nh4_e: 1.0 nh4_e <=>  (-30.0, 1000.0) (-1000, 1000)\n",
      "EX_ni2_e: 1.0 ni2_e <=>  (-10.0, 999999.0) (-1000, 1000)\n",
      "EX_o2_e: 1.0 o2_e <--  (-100.0, 0.0) (-1000, 0)\n",
      "EX_pi_e: 1.0 pi_e <=>  (-10.0, 999999.0) (-1000, 1000)\n",
      "EX_sel_e: 1.0 sel_e <=>  (-10.0, 999999.0) (-1000, 1000)\n",
      "EX_so4_e: 1.0 so4_e <=>  (-10.0, 999999.0) (-1000, 1000)\n",
      "EX_tungs_e: 1.0 tungs_e <=>  (-10.0, 999999.0) (-1000, 1000)\n",
      "EX_zn2_e: 1.0 zn2_e <=>  (-10.0, 999999.0) (-1000, 1000)\n",
      "\n",
      "ecoli\n",
      "EX_cbl1_e: 1.0 cbl1_e <=>  (-0.01, 1000.0) (-1000, 1000)\n",
      "EX_glc_e: 1.0 glc__D_e <=>  (-10.0, 1000.0) (-1000, 1000)\n",
      "\n",
      "ypestis\n",
      "EX_cys__L_e: 1.0 cys__L_e <=>  (-1.0, 1000.0) (-1000, 1000)\n",
      "EX_ac_e: 1.0 ac_e -->  (0.41, 1000.0) (0, 1000)\n",
      "EX_cit_e: 1.0 cit_e <=>  (-7.4, 1000.0) (-1000, 1000)\n",
      "EX_lys__L_e: 1.0 lys__L_e <=>  (-1.0, 1000.0) (-1000, 1000)\n",
      "EX_glc__D_e: 1.0 glc__D_e <=>  (-2.0, 1000.0) (-1000, 1000)\n",
      "EX_met__L_e: 1.0 met__L_e <=>  (-1.5, 1000.0) (-1000, 1000)\n",
      "EX_gly_e: 1.0 gly_e <=>  (-2.2, 1000.0) (-1000, 1000)\n",
      "EX_tyr__L_e: 1.0 tyr__L_e <=>  (-1.1, 1000.0) (-1000, 1000)\n",
      "EX_o2_e: 1.0 o2_e <=>  (-20.0, 1000.0) (-1000, 1000)\n",
      "EX_phe__L_e: 1.0 phe__L_e <=>  (-2.4, 1000.0) (-1000, 1000)\n",
      "\n",
      "cljungdahlii\n",
      "EX_co2_e: 1.0 co2_e <=>  (-10.0, 1000.0) (-1000, 1000)\n",
      "EX_h2_e: 1.0 h2_e <=>  (-20.0, 1000.0) (-1000, 1000)\n",
      "\n",
      "neuropaea\n",
      "EX_hco3_e: 1.0 hco3_e <=>  (-4.3524, 999999.0) (-1000, 1000)\n",
      "\n",
      "cdifficile\n",
      "EX_leu__L_e: 1.0 leu__L_e <=>  (-1.0, 1000.0) (-1000, 1000)\n",
      "EX_pydxn_e: 1.0 pydxn_e <=>  (-1.0, 1000.0) (-1000, 1000)\n",
      "EX_ile__L_e: 1.0 ile__L_e <=>  (-1.0, 1000.0) (-1000, 1000)\n",
      "EX_pro__L_e: 1.0 pro__L_e <=>  (-1.0, 1000.0) (-1000, 1000)\n",
      "EX_trp__L_e: 1.0 trp__L_e <=>  (-1.0, 1000.0) (-1000, 1000)\n",
      "EX_met__L_e: 1.0 met__L_e <=>  (-1.0, 1000.0) (-1000, 1000)\n",
      "EX_cys__L_e: 1.0 cys__L_e <=>  (-1.0, 1000.0) (-1000, 1000)\n",
      "EX_btn_e: 1.0 btn_e <=>  (-1.0, 1000.0) (-1000, 1000)\n",
      "EX_pnto__R_e: 1.0 pnto__R_e <=>  (-1.0, 1000.0) (-1000, 1000)\n",
      "EX_val__L_e: 1.0 val__L_e <=>  (-1.0, 1000.0) (-1000, 1000)\n",
      "\n",
      "hpylori\n",
      "EX_pime_e: 1.0 pime_e <=>  (-10.0, 999999.0) (-1000, 1000)\n",
      "EX_pheme_e: 1.0 pheme_e <=>  (-10.0, 999999.0) (-1000, 1000)\n",
      "EX_his__L_e: 1.0 his__L_e <=>  (-10.0, 999999.0) (-1000, 1000)\n",
      "EX_ile__L_e: 1.0 ile__L_e <=>  (-10.0, 999999.0) (-1000, 1000)\n",
      "EX_leu__L_e: 1.0 leu__L_e <=>  (-10.0, 999999.0) (-1000, 1000)\n",
      "EX_met__L_e: 1.0 met__L_e <=>  (-10.0, 999999.0) (-1000, 1000)\n",
      "EX_o2_e: 1.0 o2_e <--  (-12.0, 0.0) (-1000, 0)\n",
      "EX_thm_e: 1.0 thm_e <=>  (-10.0, 999999.0) (-1000, 1000)\n",
      "EX_val__L_e: 1.0 val__L_e <=>  (-10.0, 999999.0) (-1000, 1000)\n",
      "EX_ala__D_e: 1.0 ala__D_e <=>  (-10.0, 999999.0) (-1000, 1000)\n",
      "EX_ala__L_e: 1.0 ala__L_e <=>  (-10.0, 999999.0) (-1000, 1000)\n",
      "EX_arg__L_e: 1.0 arg__L_e <=>  (-10.0, 999999.0) (-1000, 1000)\n",
      "\n",
      "saureus\n",
      "EX_h2o_e: 1.0 h2o_e <=>  (-10.0, 1000.0) (-1000, 1000)\n",
      "EX_h_e: 1.0 h_e <=>  (-10.0, 1000.0) (-1000, 1000)\n",
      "EX_k_e: 1.0 k_e <=>  (-10.0, 1000.0) (-1000, 1000)\n",
      "EX_ca2_e: 1.0 ca2_e <=>  (-10.0, 1000.0) (-1000, 1000)\n",
      "EX_cl_e: 1.0 cl_e <=>  (-10.0, 1000.0) (-1000, 1000)\n",
      "EX_co2_e: 1.0 co2_e <=>  (-10.0, 1000.0) (-1000, 1000)\n",
      "EX_cobalt2_e: 1.0 cobalt2_e <=>  (-10.0, 1000.0) (-1000, 1000)\n",
      "EX_cu2_e: 1.0 cu2_e <=>  (-10.0, 1000.0) (-1000, 1000)\n",
      "EX_cys__L_e: 1.0 cys__L_e <=>  (-10.0, 1000.0) (-1000, 1000)\n",
      "EX_mg2_e: 1.0 mg2_e <=>  (-10.0, 1000.0) (-1000, 1000)\n",
      "EX_mn2_e: 1.0 mn2_e <=>  (-10.0, 1000.0) (-1000, 1000)\n",
      "EX_mobd_e: 1.0 mobd_e <=>  (-10.0, 1000.0) (-1000, 1000)\n",
      "EX_na1_e: 1.0 na1_e <=>  (-10.0, 1000.0) (-1000, 1000)\n",
      "EX_fe2_e: 1.0 fe2_e <=>  (-10.0, 1000.0) (-1000, 1000)\n",
      "EX_fe3_e: 1.0 fe3_e <=>  (-10.0, 1000.0) (-1000, 1000)\n",
      "EX_nac_e: 1.0 nac_e <=>  (-10.0, 1000.0) (-1000, 1000)\n",
      "EX_nh4_e: 1.0 nh4_e <=>  (-10.0, 1000.0) (-1000, 1000)\n",
      "EX_ni2_e: 1.0 ni2_e <=>  (-10.0, 1000.0) (-1000, 1000)\n",
      "EX_o2_e: 1.0 o2_e <=>  (-20.0, 1000.0) (-1000, 1000)\n",
      "EX_pi_e: 1.0 pi_e <=>  (-10.0, 1000.0) (-1000, 1000)\n",
      "EX_glc__D_e: 1.0 glc__D_e <=>  (-10.0, 1000.0) (-1000, 1000)\n",
      "EX_so4_e: 1.0 so4_e <=>  (-10.0, 1000.0) (-1000, 1000)\n",
      "EX_thm_e: 1.0 thm_e <=>  (-10.0, 1000.0) (-1000, 1000)\n",
      "EX_zn2_e: 1.0 zn2_e <=>  (-10.0, 1000.0) (-1000, 1000)\n",
      "\n",
      "bsubtilis\n",
      "EX_glc__D_e: 1.0 glc__D_e <=>  (-1.7, 999999.0) (-1000, 1000)\n",
      "EX_nh4_e: 1.0 nh4_e <=>  (-5.0, 999999.0) (-1000, 1000)\n",
      "EX_pi_e: 1.0 pi_e <=>  (-5.0, 999999.0) (-1000, 1000)\n",
      "EX_so4_e: 1.0 so4_e <=>  (-5.0, 999999.0) (-1000, 1000)\n",
      "\n",
      "gmetallireducens\n",
      "EX_ac_e: 1.0 ac_e <--  (-8.88, -6.84) (-1000, 0)\n",
      "EX_fe3_e: 1.0 fe3_e <--  (-67.37, 0.0) (-1000, 0)\n",
      "\n"
     ]
    }
   ],
   "source": [
    "def open_bounds(model):\n",
    "    for r in model.reactions.query(\"^EX_\"):\n",
    "        lb,ub = r.bounds\n",
    "        if ub < 0 or lb > 0 or (ub and ub == lb) or (ub and ub < 1000) or (lb and lb > -1000):\n",
    "            nu = 1000 if ub > 0 else 0\n",
    "            nl = -1000 if lb < 0 else 0\n",
    "            print(r, r.bounds, (nl,nu))\n",
    "            r.bounds = (nl,nu)\n",
    "\n",
    "for org, model in models['clean'].items():\n",
    "    print(org)\n",
    "    open_bounds(model)    \n",
    "    print()"
   ]
  },
  {
   "cell_type": "markdown",
   "id": "ad198ed0-1ed1-4f71-8d4c-113f1a2eceda",
   "metadata": {},
   "source": [
    "## Calculate maximum rates"
   ]
  },
  {
   "cell_type": "markdown",
   "id": "f11c33b3-7fbc-43ff-9c12-c90ab949dd2f",
   "metadata": {},
   "source": [
    "### Calculate"
   ]
  },
  {
   "cell_type": "code",
   "execution_count": 8,
   "id": "6644a09f-84af-40cd-9631-d3a4ec75f930",
   "metadata": {},
   "outputs": [],
   "source": [
    "def run(org):\n",
    "    for r,d in carbon_sources[org].items():\n",
    "        r.bounds = (-1000,0)\n",
    "    \n",
    "    model = models['clean'][org]\n",
    "    model.optimize(tolerance = 1e-6,verbose=False)\n",
    "    if hasattr(model,\"solution\"):\n",
    "        solution = model.solution.fluxes\n",
    "    else:\n",
    "        solution = {k.id:0 for k in model.reactions}\n",
    "    return org, solution"
   ]
  },
  {
   "cell_type": "code",
   "execution_count": 9,
   "id": "2df4cc3a-de0e-42c4-9d8e-55f9bf17bf61",
   "metadata": {},
   "outputs": [],
   "source": [
    "models_to_run = list(models['clean'].keys())"
   ]
  },
  {
   "cell_type": "code",
   "execution_count": 10,
   "id": "edc6e645-0edf-46e5-95f8-a68461bbf258",
   "metadata": {},
   "outputs": [
    {
     "name": "stderr",
     "output_type": "stream",
     "text": [
      "Running (12 threads): 100%|██████████| 21/21 [04:42<00:00, 28.36s/it]"
     ]
    }
   ],
   "source": [
    "import multiprocessing as mp\n",
    "NP = min([12,len(models_to_run)])\n",
    "pool = mp.Pool(NP)\n",
    "pbar = tqdm.tqdm(total=len(models_to_run),position=0,leave=True)\n",
    "pbar.set_description('Running ({} threads)'.format(NP))\n",
    "\n",
    "flux_dict = {}\n",
    "def collect_result(result):\n",
    "    pbar.update(1)\n",
    "    flux_dict[result[0]] = result[1]\n",
    "for org in models_to_run:\n",
    "    args = ([org])\n",
    "    kwds = {}\n",
    "    pool.apply_async(run,args, kwds, callback=collect_result)\n",
    "pool.close()\n",
    "pool.join()"
   ]
  },
  {
   "cell_type": "code",
   "execution_count": 11,
   "id": "d156838a-71a3-423b-bfdd-b9feedc83cca",
   "metadata": {
    "scrolled": true,
    "tags": []
   },
   "outputs": [],
   "source": [
    "pandas.DataFrame.from_dict(flux_dict).to_csv(\"./analysis/simulations_open.csv\")"
   ]
  },
  {
   "cell_type": "markdown",
   "id": "a8ebd14a-c5a2-4ac8-84ea-5936180f28c7",
   "metadata": {},
   "source": [
    "### Load"
   ]
  },
  {
   "cell_type": "code",
   "execution_count": 12,
   "id": "28882917-f421-4a12-a6e9-1badd70a67f1",
   "metadata": {
    "scrolled": true,
    "tags": []
   },
   "outputs": [],
   "source": [
    "df = pandas.read_csv(\"./analysis/simulations_open.csv\",index_col = 0)\n",
    "flux_dict = {}\n",
    "for org in df.columns:\n",
    "    flux_dict[org] = df[org].dropna().to_dict()"
   ]
  },
  {
   "cell_type": "markdown",
   "id": "784a423c-88c3-4dec-b349-8fb0b1f0e2a3",
   "metadata": {},
   "source": [
    "## Setup simulation ranges"
   ]
  },
  {
   "cell_type": "code",
   "execution_count": 13,
   "id": "f0af2dbf-b4b4-4cd9-bf91-6cf33196f6e6",
   "metadata": {},
   "outputs": [
    {
     "name": "stderr",
     "output_type": "stream",
     "text": [
      "\n",
      "100%|██████████| 21/21 [00:00<00:00, 26152.13it/s]\n"
     ]
    }
   ],
   "source": [
    "ranges = {}\n",
    "steps = 10\n",
    "steps_after_max = 5\n",
    "for org in tqdm.tqdm(models_to_run):\n",
    "    orgd = carbon_sources[org]\n",
    "    ranges[org] = {}\n",
    "    for r in orgd:\n",
    "        minimum = 0\n",
    "        maximum = flux_dict[org][r.id]\n",
    "        if minimum == maximum:\n",
    "            continue\n",
    "        delta = (maximum-minimum)/steps\n",
    "        ranges[org][r] = numpy.arange(minimum+delta,maximum+steps_after_max*delta, delta)"
   ]
  },
  {
   "cell_type": "code",
   "execution_count": 14,
   "id": "10bddcd6-b8ad-4a5c-8f68-9d9cb49f2f1c",
   "metadata": {},
   "outputs": [],
   "source": [
    "l = []\n",
    "for org in models_to_run:\n",
    "    for r in ranges[org]:\n",
    "        l.append(len(ranges[org][r]))"
   ]
  },
  {
   "cell_type": "code",
   "execution_count": 15,
   "id": "3db54289-5fa6-4051-9215-464bcea43c71",
   "metadata": {},
   "outputs": [
    {
     "data": {
      "text/plain": [
       "14"
      ]
     },
     "execution_count": 15,
     "metadata": {},
     "output_type": "execute_result"
    }
   ],
   "source": [
    "length = min(l)\n",
    "length"
   ]
  },
  {
   "cell_type": "code",
   "execution_count": 16,
   "id": "385c2b49-0ab5-4f6c-9cab-d67695c74058",
   "metadata": {},
   "outputs": [],
   "source": [
    "directory = './analysis/{}steps/'.format(str(steps))\n",
    "if not os.path.exists(directory):\n",
    "    os.makedirs(directory)"
   ]
  },
  {
   "cell_type": "markdown",
   "id": "9f4070ec-9751-40ad-92ed-2f0243b9e8b2",
   "metadata": {},
   "source": [
    "## Simulate"
   ]
  },
  {
   "cell_type": "code",
   "execution_count": 17,
   "id": "19acdc4d-5aff-44fd-97df-0bf4e7fb2d0e",
   "metadata": {},
   "outputs": [],
   "source": [
    "import copy\n",
    "def run(org):\n",
    "    results = {}\n",
    "    model = models['clean'][org]\n",
    "#     model = copy.deepcopy(model0)\n",
    "    for idx in range(length):\n",
    "        for r in ranges[org]:\n",
    "            const = ranges[org][r][idx]\n",
    "            r.bounds = (const,0)\n",
    "        model.optimize(tolerance = 1e-6, verbose = False)\n",
    "        if not hasattr(model,\"solution\") or model.solution.status != \"optimal\":\n",
    "            results[idx] = {k.id:0 for k in model.reactions}\n",
    "        else:\n",
    "            results[idx] = model.solution.fluxes\n",
    "    return org,results"
   ]
  },
  {
   "cell_type": "code",
   "execution_count": 18,
   "id": "cf3adbd8-6413-44bd-9b5f-123494a7bde9",
   "metadata": {},
   "outputs": [],
   "source": [
    "results_dict = {}"
   ]
  },
  {
   "cell_type": "code",
   "execution_count": null,
   "id": "24f6a2fd-7ef3-4a49-a063-0cb64aae425a",
   "metadata": {
    "scrolled": true,
    "tags": []
   },
   "outputs": [
    {
     "name": "stderr",
     "output_type": "stream",
     "text": [
      "Running (12 threads): 100%|██████████| 21/21 [04:44<00:00, 13.54s/it]\n",
      "Running (12 threads):  81%|████████  | 17/21 [57:14<06:00, 90.04s/it]  "
     ]
    }
   ],
   "source": [
    "import multiprocessing as mp\n",
    "NP = min([12,len(models_to_run)])\n",
    "pool = mp.Pool(NP)\n",
    "pbar = tqdm.tqdm(total=len(models_to_run),position=0,leave=True)\n",
    "pbar.set_description('Running ({} threads)'.format(NP))\n",
    "\n",
    "def collect_result(result):\n",
    "    pbar.update(1)\n",
    "    results_dict[result[0]] = result[1]\n",
    "\n",
    "for org in models_to_run:\n",
    "    args = ([org])\n",
    "    pool.apply_async(run,args, callback=collect_result)\n",
    "pool.close()\n",
    "pool.join()"
   ]
  },
  {
   "cell_type": "markdown",
   "id": "b76dc02f-ce92-4430-83d9-f8cdf8310475",
   "metadata": {},
   "source": [
    "## Save"
   ]
  },
  {
   "cell_type": "code",
   "execution_count": null,
   "id": "6aee9fa7-ea57-474b-a569-a4e45938dfb6",
   "metadata": {},
   "outputs": [],
   "source": [
    "for org,result in results_dict.items():\n",
    "    result = pandas.DataFrame.from_dict(result)\n",
    "    result.to_csv(directory + \"{}_C_uptake.csv\".format(org))"
   ]
  }
 ],
 "metadata": {
  "kernelspec": {
   "display_name": "coralme",
   "language": "python",
   "name": "coralme"
  },
  "language_info": {
   "codemirror_mode": {
    "name": "ipython",
    "version": 3
   },
   "file_extension": ".py",
   "mimetype": "text/x-python",
   "name": "python",
   "nbconvert_exporter": "python",
   "pygments_lexer": "ipython3",
   "version": "3.10.12"
  }
 },
 "nbformat": 4,
 "nbformat_minor": 5
}
