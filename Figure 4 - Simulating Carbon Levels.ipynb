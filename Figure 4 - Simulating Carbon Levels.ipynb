{
 "cells": [
  {
   "cell_type": "markdown",
   "id": "9a78f70f-057d-49bd-a033-8279965dfa3a",
   "metadata": {},
   "source": [
    "# Simulation at different carbon source uptakes\n",
    "\n",
    "Code for reproducing panels of Figure 4"
   ]
  },
  {
   "cell_type": "markdown",
   "id": "945220f2-3286-4d0f-8ebe-27e5b59945d3",
   "metadata": {},
   "source": [
    "## Setup environment"
   ]
  },
  {
   "cell_type": "code",
   "execution_count": null,
   "id": "88259670-cc2a-4bce-88a8-7aa820a24c3b",
   "metadata": {
    "ExecuteTime": {
     "end_time": "2022-12-12T06:27:36.177441Z",
     "start_time": "2022-12-12T06:27:35.183790Z"
    }
   },
   "outputs": [],
   "source": [
    "import coralme\n",
    "from coralme.builder.helper_functions import *\n",
    "import pickle\n",
    "import pandas\n",
    "import os\n",
    "import tqdm\n",
    "import json\n",
    "import numpy\n",
    "import sympy"
   ]
  },
  {
   "cell_type": "markdown",
   "id": "a2c12a73-7093-4419-b555-5844f597c560",
   "metadata": {},
   "source": [
    "## Functions to load models"
   ]
  },
  {
   "cell_type": "code",
   "execution_count": null,
   "id": "1dfe9322-39df-4326-a433-6f85f485a6af",
   "metadata": {},
   "outputs": [],
   "source": [
    "def load_me(filename='me_model.pickle'):\n",
    "    with open(filename, \"rb\") as f:\n",
    "        return pickle.load(f)\n",
    "    \n",
    "def get_org_dirs(directory,files=False):\n",
    "    if files:\n",
    "        return [i for i in os.listdir(directory) if '.pkl' in i]\n",
    "    return [i for i in os.listdir(directory) if os.path.isdir(directory+i) and '.' not in i and '_' not in i]\n",
    "\n",
    "def run(i,directory,files=False,step=2,solve=False):\n",
    "    if files:\n",
    "        modelpath = directory + i\n",
    "    elif step == 2:\n",
    "        modelpath = directory + '{}/MEModel-step2-{}.pkl'.format(i,i)\n",
    "    elif step == 3:\n",
    "        modelpath = directory + '{}/MEModel-step3-{}-TS.pkl'.format(i,i)\n",
    "    model = load_me(modelpath)\n",
    "    if solve:\n",
    "        model.optimize()\n",
    "    return i.split(\".pkl\")[0], model\n",
    "\n",
    "def load_models_from_directory(directory,solve=False, step = 2, files=False):\n",
    "    d = {}\n",
    "    dirs = get_org_dirs(directory,files=files)\n",
    "    for org in tqdm.tqdm(dirs):\n",
    "        args = [org,directory]\n",
    "        kwds = {'files' : files, 'step' : step, 'solve' : solve}\n",
    "        i,model = run(*args,**kwds)\n",
    "        d[i] = model\n",
    "    return d"
   ]
  },
  {
   "cell_type": "markdown",
   "id": "e4da1672-f481-4adf-909a-79ce8e79f71e",
   "metadata": {},
   "source": [
    "## Load dME-models in directory"
   ]
  },
  {
   "cell_type": "code",
   "execution_count": null,
   "id": "ff9eb697-abb5-4940-9341-8d7c48145bd5",
   "metadata": {
    "scrolled": true,
    "tags": []
   },
   "outputs": [],
   "source": [
    "models = {\n",
    "    'clean':load_models_from_directory('./clean/',step=3)\n",
    "         }"
   ]
  },
  {
   "cell_type": "code",
   "execution_count": null,
   "id": "6e3f8eab-07bb-4994-80de-df0eb7260e74",
   "metadata": {},
   "outputs": [],
   "source": [
    "# models={}\n",
    "# models[\"clean\"] = {\"pputida\":coralme.io.pickle.load_pickle_me_model(\"./clean/pputida/MEModel-step3-pputida-TS.pkl\")}"
   ]
  },
  {
   "cell_type": "markdown",
   "id": "df593f3e-fc71-4a0b-8ef2-187b5bf0948d",
   "metadata": {},
   "source": [
    "## Save base fluxes"
   ]
  },
  {
   "cell_type": "code",
   "execution_count": null,
   "id": "05feacaf-6c7d-4183-bdfa-6cd4cdd7cd09",
   "metadata": {},
   "outputs": [],
   "source": [
    "flux_dict = {}\n",
    "for org,model in models[\"clean\"].items():\n",
    "    flux_dict[org] = model.solution.fluxes\n",
    "pandas.DataFrame.from_dict(flux_dict).to_csv(\"./analysis/simulations_base.csv\")"
   ]
  },
  {
   "cell_type": "markdown",
   "id": "344ebb36-2e35-4012-abe8-3e1320a2b601",
   "metadata": {},
   "source": [
    "## Get carbon sources"
   ]
  },
  {
   "cell_type": "code",
   "execution_count": null,
   "id": "59a9abcb-7e80-4243-82d0-ed3dfddb0f49",
   "metadata": {},
   "outputs": [],
   "source": [
    "def get_exchange(reactions):\n",
    "    l = []\n",
    "    for r in reactions:\n",
    "        if r.flux >= -1e-3:\n",
    "            continue\n",
    "        met = next(i for i in r.reactants)\n",
    "        if \"C\" not in met.elements:\n",
    "            continue\n",
    "        l.append(r)\n",
    "    return l\n",
    "\n",
    "def get_carbon_sources(model):\n",
    "    d = {}\n",
    "    reactions = get_exchange(model.reactions.query(\"^EX_|^TS_\"))\n",
    "    for r in reactions:\n",
    "        met = next(i for i in r.reactants)\n",
    "        d[r] = r.flux * met.elements[\"C\"]\n",
    "    return d"
   ]
  },
  {
   "cell_type": "code",
   "execution_count": null,
   "id": "50dbc489-f60f-4875-9a2e-871b9f94ccdc",
   "metadata": {
    "scrolled": true,
    "tags": []
   },
   "outputs": [],
   "source": [
    "carbon_sources = {}\n",
    "for org,model in tqdm.tqdm(models['clean'].items()):\n",
    "    carbon_sources[org] = get_carbon_sources(model)"
   ]
  },
  {
   "cell_type": "markdown",
   "id": "4617f2f5-c3e8-485d-a157-33f3a4955098",
   "metadata": {},
   "source": [
    "## Open all previously fixed bounds"
   ]
  },
  {
   "cell_type": "code",
   "execution_count": null,
   "id": "e30c9777-3dde-4938-9b6c-9ada699b0751",
   "metadata": {
    "scrolled": true,
    "tags": []
   },
   "outputs": [],
   "source": [
    "def open_bounds(model):\n",
    "    for r in model.reactions.query(\"^EX_\"):\n",
    "        lb,ub = r.bounds\n",
    "        if ub < 0 or lb > 0 or (ub and ub == lb) or (ub and ub < 1000) or (lb and lb > -1000):\n",
    "            nu = 1000 if ub > 0 else 0\n",
    "            nl = -1000 if lb < 0 else 0\n",
    "            print(r, r.bounds, (nl,nu))\n",
    "            r.bounds = (nl,nu)\n",
    "\n",
    "for org, model in models['clean'].items():\n",
    "    print(org)\n",
    "    open_bounds(model)    \n",
    "    print()"
   ]
  },
  {
   "cell_type": "markdown",
   "id": "ad198ed0-1ed1-4f71-8d4c-113f1a2eceda",
   "metadata": {},
   "source": [
    "## Calculate maximum rates"
   ]
  },
  {
   "cell_type": "markdown",
   "id": "f11c33b3-7fbc-43ff-9c12-c90ab949dd2f",
   "metadata": {},
   "source": [
    "### Calculate"
   ]
  },
  {
   "cell_type": "code",
   "execution_count": null,
   "id": "6644a09f-84af-40cd-9631-d3a4ec75f930",
   "metadata": {},
   "outputs": [],
   "source": [
    "def run(org):\n",
    "    for r,d in carbon_sources[org].items():\n",
    "        r.bounds = (-1000,0)\n",
    "    \n",
    "    model = models['clean'][org]\n",
    "    model.optimize(tolerance = 1e-6,verbose=False)\n",
    "    if hasattr(model,\"solution\"):\n",
    "        solution = model.solution.fluxes\n",
    "    else:\n",
    "        solution = {k.id:0 for k in model.reactions}\n",
    "    return org, solution"
   ]
  },
  {
   "cell_type": "code",
   "execution_count": null,
   "id": "2df4cc3a-de0e-42c4-9d8e-55f9bf17bf61",
   "metadata": {},
   "outputs": [],
   "source": [
    "models_to_run = list(models['clean'].keys())"
   ]
  },
  {
   "cell_type": "code",
   "execution_count": null,
   "id": "edc6e645-0edf-46e5-95f8-a68461bbf258",
   "metadata": {},
   "outputs": [],
   "source": [
    "import multiprocessing as mp\n",
    "NP = min([12,len(models_to_run)])\n",
    "pool = mp.Pool(NP)\n",
    "pbar = tqdm.tqdm(total=len(models_to_run),position=0,leave=True)\n",
    "pbar.set_description('Running ({} threads)'.format(NP))\n",
    "\n",
    "flux_dict = {}\n",
    "def collect_result(result):\n",
    "    pbar.update(1)\n",
    "    flux_dict[result[0]] = result[1]\n",
    "for org in models_to_run:\n",
    "    args = ([org])\n",
    "    kwds = {}\n",
    "    pool.apply_async(run,args, kwds, callback=collect_result)\n",
    "pool.close()\n",
    "pool.join()"
   ]
  },
  {
   "cell_type": "code",
   "execution_count": null,
   "id": "d156838a-71a3-423b-bfdd-b9feedc83cca",
   "metadata": {
    "scrolled": true,
    "tags": []
   },
   "outputs": [],
   "source": [
    "pandas.DataFrame.from_dict(flux_dict).to_csv(\"./analysis/simulations_open.csv\")"
   ]
  },
  {
   "cell_type": "markdown",
   "id": "a8ebd14a-c5a2-4ac8-84ea-5936180f28c7",
   "metadata": {},
   "source": [
    "### Load"
   ]
  },
  {
   "cell_type": "code",
   "execution_count": null,
   "id": "28882917-f421-4a12-a6e9-1badd70a67f1",
   "metadata": {
    "scrolled": true,
    "tags": []
   },
   "outputs": [],
   "source": [
    "df = pandas.read_csv(\"./analysis/simulations_open.csv\",index_col = 0)\n",
    "flux_dict = {}\n",
    "for org in df.columns:\n",
    "    flux_dict[org] = df[org].dropna().to_dict()"
   ]
  },
  {
   "cell_type": "markdown",
   "id": "784a423c-88c3-4dec-b349-8fb0b1f0e2a3",
   "metadata": {},
   "source": [
    "## Setup simulation ranges"
   ]
  },
  {
   "cell_type": "code",
   "execution_count": null,
   "id": "f0af2dbf-b4b4-4cd9-bf91-6cf33196f6e6",
   "metadata": {},
   "outputs": [],
   "source": [
    "ranges = {}\n",
    "steps = 10\n",
    "steps_after_max = 5\n",
    "for org in tqdm.tqdm(models_to_run):\n",
    "    orgd = carbon_sources[org]\n",
    "    ranges[org] = {}\n",
    "    for r in orgd:\n",
    "        minimum = 0\n",
    "        maximum = flux_dict[org][r.id]\n",
    "        if minimum == maximum:\n",
    "            continue\n",
    "        delta = (maximum-minimum)/steps\n",
    "        ranges[org][r] = numpy.arange(minimum+delta,maximum+steps_after_max*delta, delta)"
   ]
  },
  {
   "cell_type": "code",
   "execution_count": null,
   "id": "10bddcd6-b8ad-4a5c-8f68-9d9cb49f2f1c",
   "metadata": {},
   "outputs": [],
   "source": [
    "l = []\n",
    "for org in models_to_run:\n",
    "    for r in ranges[org]:\n",
    "        l.append(len(ranges[org][r]))"
   ]
  },
  {
   "cell_type": "code",
   "execution_count": null,
   "id": "3db54289-5fa6-4051-9215-464bcea43c71",
   "metadata": {},
   "outputs": [],
   "source": [
    "length = min(l)\n",
    "length"
   ]
  },
  {
   "cell_type": "code",
   "execution_count": null,
   "id": "385c2b49-0ab5-4f6c-9cab-d67695c74058",
   "metadata": {},
   "outputs": [],
   "source": [
    "directory = './analysis/{}steps/'.format(str(steps))\n",
    "if not os.path.exists(directory):\n",
    "    os.makedirs(directory)"
   ]
  },
  {
   "cell_type": "markdown",
   "id": "9f4070ec-9751-40ad-92ed-2f0243b9e8b2",
   "metadata": {},
   "source": [
    "## Simulate"
   ]
  },
  {
   "cell_type": "code",
   "execution_count": null,
   "id": "19acdc4d-5aff-44fd-97df-0bf4e7fb2d0e",
   "metadata": {},
   "outputs": [],
   "source": [
    "import copy\n",
    "def run(org):\n",
    "    results = {}\n",
    "    model = models['clean'][org]\n",
    "#     model = copy.deepcopy(model0)\n",
    "    for idx in range(length):\n",
    "        for r in ranges[org]:\n",
    "            const = ranges[org][r][idx]\n",
    "            r.bounds = (const,0)\n",
    "        model.optimize(tolerance = 1e-6, verbose = False)\n",
    "        if not hasattr(model,\"solution\") or model.solution.status != \"optimal\":\n",
    "            results[idx] = {k.id:0 for k in model.reactions}\n",
    "        else:\n",
    "            results[idx] = model.solution.fluxes\n",
    "    return org,results"
   ]
  },
  {
   "cell_type": "code",
   "execution_count": null,
   "id": "cf3adbd8-6413-44bd-9b5f-123494a7bde9",
   "metadata": {},
   "outputs": [],
   "source": [
    "results_dict = {}"
   ]
  },
  {
   "cell_type": "code",
   "execution_count": null,
   "id": "24f6a2fd-7ef3-4a49-a063-0cb64aae425a",
   "metadata": {
    "scrolled": true,
    "tags": []
   },
   "outputs": [],
   "source": [
    "import multiprocessing as mp\n",
    "NP = min([12,len(models_to_run)])\n",
    "pool = mp.Pool(NP)\n",
    "pbar = tqdm.tqdm(total=len(models_to_run),position=0,leave=True)\n",
    "pbar.set_description('Running ({} threads)'.format(NP))\n",
    "\n",
    "def collect_result(result):\n",
    "    pbar.update(1)\n",
    "    results_dict[result[0]] = result[1]\n",
    "\n",
    "for org in models_to_run:\n",
    "    args = ([org])\n",
    "    pool.apply_async(run,args, callback=collect_result)\n",
    "pool.close()\n",
    "pool.join()"
   ]
  },
  {
   "cell_type": "code",
   "execution_count": null,
   "id": "3d509e3c-8a1e-41a5-95c6-7b204cf5847a",
   "metadata": {
    "scrolled": true
   },
   "outputs": [],
   "source": [
    "results_dict[\"pputida\"]"
   ]
  },
  {
   "cell_type": "markdown",
   "id": "b76dc02f-ce92-4430-83d9-f8cdf8310475",
   "metadata": {},
   "source": [
    "## Save"
   ]
  },
  {
   "cell_type": "code",
   "execution_count": null,
   "id": "6aee9fa7-ea57-474b-a569-a4e45938dfb6",
   "metadata": {},
   "outputs": [],
   "source": [
    "for org,result in results_dict.items():\n",
    "    result = pandas.DataFrame.from_dict(result)\n",
    "    result.to_csv(directory + \"{}_C_uptake.csv\".format(org))"
   ]
  }
 ],
 "metadata": {
  "kernelspec": {
   "display_name": "coralme",
   "language": "python",
   "name": "coralme"
  },
  "language_info": {
   "codemirror_mode": {
    "name": "ipython",
    "version": 3
   },
   "file_extension": ".py",
   "mimetype": "text/x-python",
   "name": "python",
   "nbconvert_exporter": "python",
   "pygments_lexer": "ipython3",
   "version": "3.10.12"
  }
 },
 "nbformat": 4,
 "nbformat_minor": 5
}
